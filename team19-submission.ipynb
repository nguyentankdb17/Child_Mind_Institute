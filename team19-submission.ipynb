{
 "cells": [
  {
   "cell_type": "markdown",
   "id": "f7c29717",
   "metadata": {
    "papermill": {
     "duration": 0.005813,
     "end_time": "2024-12-04T16:57:32.494162",
     "exception": false,
     "start_time": "2024-12-04T16:57:32.488349",
     "status": "completed"
    },
    "tags": []
   },
   "source": [
    "Import required libraries"
   ]
  },
  {
   "cell_type": "code",
   "execution_count": 1,
   "id": "0aacbdd3",
   "metadata": {
    "_cell_guid": "b1076dfc-b9ad-4769-8c92-a6c4dae69d19",
    "_uuid": "8f2839f25d086af736a60e9eeb907d3b93b6e0e5",
    "execution": {
     "iopub.execute_input": "2024-12-04T16:57:32.506356Z",
     "iopub.status.busy": "2024-12-04T16:57:32.506012Z",
     "iopub.status.idle": "2024-12-04T16:57:34.523809Z",
     "shell.execute_reply": "2024-12-04T16:57:34.523150Z"
    },
    "papermill": {
     "duration": 2.026606,
     "end_time": "2024-12-04T16:57:34.525758",
     "exception": false,
     "start_time": "2024-12-04T16:57:32.499152",
     "status": "completed"
    },
    "tags": []
   },
   "outputs": [],
   "source": [
    "import pandas as pd\n",
    "import numpy as np\n",
    "import matplotlib.pyplot as plt\n",
    "from sklearn.preprocessing import StandardScaler"
   ]
  },
  {
   "cell_type": "code",
   "execution_count": 2,
   "id": "4fac3428",
   "metadata": {
    "execution": {
     "iopub.execute_input": "2024-12-04T16:57:34.536769Z",
     "iopub.status.busy": "2024-12-04T16:57:34.536416Z",
     "iopub.status.idle": "2024-12-04T16:57:34.539888Z",
     "shell.execute_reply": "2024-12-04T16:57:34.539155Z"
    },
    "papermill": {
     "duration": 0.010698,
     "end_time": "2024-12-04T16:57:34.541587",
     "exception": false,
     "start_time": "2024-12-04T16:57:34.530889",
     "status": "completed"
    },
    "tags": []
   },
   "outputs": [],
   "source": [
    "scaler = StandardScaler()"
   ]
  },
  {
   "cell_type": "markdown",
   "id": "2c1f63ed",
   "metadata": {
    "papermill": {
     "duration": 0.004465,
     "end_time": "2024-12-04T16:57:34.550750",
     "exception": false,
     "start_time": "2024-12-04T16:57:34.546285",
     "status": "completed"
    },
    "tags": []
   },
   "source": [
    "Read the train CSV file"
   ]
  },
  {
   "cell_type": "code",
   "execution_count": 3,
   "id": "82e7b42e",
   "metadata": {
    "execution": {
     "iopub.execute_input": "2024-12-04T16:57:34.561202Z",
     "iopub.status.busy": "2024-12-04T16:57:34.560716Z",
     "iopub.status.idle": "2024-12-04T16:57:34.629847Z",
     "shell.execute_reply": "2024-12-04T16:57:34.629217Z"
    },
    "papermill": {
     "duration": 0.076337,
     "end_time": "2024-12-04T16:57:34.631676",
     "exception": false,
     "start_time": "2024-12-04T16:57:34.555339",
     "status": "completed"
    },
    "tags": []
   },
   "outputs": [],
   "source": [
    "df = pd.read_csv(\"/kaggle/input/child-mind-institute-problematic-internet-use/train.csv\", index_col=\"id\")"
   ]
  },
  {
   "cell_type": "markdown",
   "id": "bfd5495b",
   "metadata": {
    "papermill": {
     "duration": 0.004809,
     "end_time": "2024-12-04T16:57:34.643706",
     "exception": false,
     "start_time": "2024-12-04T16:57:34.638897",
     "status": "completed"
    },
    "tags": []
   },
   "source": [
    "Dataset overview"
   ]
  },
  {
   "cell_type": "markdown",
   "id": "87376dde",
   "metadata": {
    "papermill": {
     "duration": 0.004882,
     "end_time": "2024-12-04T16:57:34.653791",
     "exception": false,
     "start_time": "2024-12-04T16:57:34.648909",
     "status": "completed"
    },
    "tags": []
   },
   "source": [
    "Delete row which not have output"
   ]
  },
  {
   "cell_type": "code",
   "execution_count": 4,
   "id": "61423701",
   "metadata": {
    "execution": {
     "iopub.execute_input": "2024-12-04T16:57:34.665597Z",
     "iopub.status.busy": "2024-12-04T16:57:34.665055Z",
     "iopub.status.idle": "2024-12-04T16:57:34.675527Z",
     "shell.execute_reply": "2024-12-04T16:57:34.674757Z"
    },
    "papermill": {
     "duration": 0.018458,
     "end_time": "2024-12-04T16:57:34.677386",
     "exception": false,
     "start_time": "2024-12-04T16:57:34.658928",
     "status": "completed"
    },
    "tags": []
   },
   "outputs": [],
   "source": [
    "df = df.dropna(subset=['sii'])"
   ]
  },
  {
   "cell_type": "markdown",
   "id": "86ae26e8",
   "metadata": {
    "papermill": {
     "duration": 0.004636,
     "end_time": "2024-12-04T16:57:34.687030",
     "exception": false,
     "start_time": "2024-12-04T16:57:34.682394",
     "status": "completed"
    },
    "tags": []
   },
   "source": [
    "Remove columns which not appear in test.csv"
   ]
  },
  {
   "cell_type": "markdown",
   "id": "18783ddc",
   "metadata": {
    "papermill": {
     "duration": 0.004841,
     "end_time": "2024-12-04T16:57:34.696893",
     "exception": false,
     "start_time": "2024-12-04T16:57:34.692052",
     "status": "completed"
    },
    "tags": []
   },
   "source": [
    "One-hot encoding process"
   ]
  },
  {
   "cell_type": "code",
   "execution_count": 5,
   "id": "7f789f66",
   "metadata": {
    "execution": {
     "iopub.execute_input": "2024-12-04T16:57:34.708252Z",
     "iopub.status.busy": "2024-12-04T16:57:34.707758Z",
     "iopub.status.idle": "2024-12-04T16:57:34.712009Z",
     "shell.execute_reply": "2024-12-04T16:57:34.711344Z"
    },
    "papermill": {
     "duration": 0.011703,
     "end_time": "2024-12-04T16:57:34.713712",
     "exception": false,
     "start_time": "2024-12-04T16:57:34.702009",
     "status": "completed"
    },
    "tags": []
   },
   "outputs": [],
   "source": [
    "#Helper function\n",
    "def encode_and_bind(original_dataframe, feature_to_encode):\n",
    "    dummies = pd.get_dummies(original_dataframe[[feature_to_encode]], dtype=int)\n",
    "    original_dataframe = pd.concat([original_dataframe, dummies], axis=1)\n",
    "    original_dataframe = original_dataframe.drop([feature_to_encode], axis=1)\n",
    "    return original_dataframe"
   ]
  },
  {
   "cell_type": "code",
   "execution_count": 6,
   "id": "fe324f24",
   "metadata": {
    "execution": {
     "iopub.execute_input": "2024-12-04T16:57:34.724758Z",
     "iopub.status.busy": "2024-12-04T16:57:34.724327Z",
     "iopub.status.idle": "2024-12-04T16:57:34.776888Z",
     "shell.execute_reply": "2024-12-04T16:57:34.776293Z"
    },
    "papermill": {
     "duration": 0.059903,
     "end_time": "2024-12-04T16:57:34.778586",
     "exception": false,
     "start_time": "2024-12-04T16:57:34.718683",
     "status": "completed"
    },
    "tags": []
   },
   "outputs": [],
   "source": [
    "# Proceed with encoding\n",
    "categorical_cols = ['Basic_Demos-Enroll_Season', 'CGAS-Season', 'Physical-Season',\n",
    "       'Fitness_Endurance-Season', 'FGC-Season', 'BIA-Season', 'PAQ_A-Season',\n",
    "       'PAQ_C-Season', 'PCIAT-Season', 'SDS-Season', 'PreInt_EduHx-Season']\n",
    "df_encoded = df\n",
    "for col in categorical_cols:\n",
    "    df_encoded = encode_and_bind(df_encoded, col)"
   ]
  },
  {
   "cell_type": "code",
   "execution_count": 7,
   "id": "c6e40535",
   "metadata": {
    "execution": {
     "iopub.execute_input": "2024-12-04T16:57:34.789402Z",
     "iopub.status.busy": "2024-12-04T16:57:34.789151Z",
     "iopub.status.idle": "2024-12-04T16:57:34.823109Z",
     "shell.execute_reply": "2024-12-04T16:57:34.822505Z"
    },
    "papermill": {
     "duration": 0.041222,
     "end_time": "2024-12-04T16:57:34.824803",
     "exception": false,
     "start_time": "2024-12-04T16:57:34.783581",
     "status": "completed"
    },
    "tags": []
   },
   "outputs": [],
   "source": [
    "binary_columns = [col for col in df_encoded.columns if df_encoded[col].nunique() == 2]\n",
    "columns_to_standardize = [col for col in df_encoded.columns if col not in binary_columns and col != 'sii']\n",
    "df_encoded[columns_to_standardize] = scaler.fit_transform(df_encoded[columns_to_standardize])"
   ]
  },
  {
   "cell_type": "markdown",
   "id": "c6b8508f",
   "metadata": {
    "papermill": {
     "duration": 0.004571,
     "end_time": "2024-12-04T16:57:34.834344",
     "exception": false,
     "start_time": "2024-12-04T16:57:34.829773",
     "status": "completed"
    },
    "tags": []
   },
   "source": [
    "Bring output to end"
   ]
  },
  {
   "cell_type": "code",
   "execution_count": 8,
   "id": "8a32d989",
   "metadata": {
    "execution": {
     "iopub.execute_input": "2024-12-04T16:57:34.844580Z",
     "iopub.status.busy": "2024-12-04T16:57:34.844326Z",
     "iopub.status.idle": "2024-12-04T16:57:34.850796Z",
     "shell.execute_reply": "2024-12-04T16:57:34.850144Z"
    },
    "papermill": {
     "duration": 0.013351,
     "end_time": "2024-12-04T16:57:34.852261",
     "exception": false,
     "start_time": "2024-12-04T16:57:34.838910",
     "status": "completed"
    },
    "tags": []
   },
   "outputs": [],
   "source": [
    "cols = [col for col in df_encoded.columns if col != 'sii'] + ['sii']\n",
    "df_encoded = df_encoded[cols]"
   ]
  },
  {
   "cell_type": "code",
   "execution_count": 9,
   "id": "8480ea53",
   "metadata": {
    "execution": {
     "iopub.execute_input": "2024-12-04T16:57:34.862486Z",
     "iopub.status.busy": "2024-12-04T16:57:34.862246Z",
     "iopub.status.idle": "2024-12-04T16:57:34.903803Z",
     "shell.execute_reply": "2024-12-04T16:57:34.903039Z"
    },
    "papermill": {
     "duration": 0.048451,
     "end_time": "2024-12-04T16:57:34.905395",
     "exception": false,
     "start_time": "2024-12-04T16:57:34.856944",
     "status": "completed"
    },
    "tags": []
   },
   "outputs": [],
   "source": [
    "#missing colums\n",
    "missing_columns = ['PCIAT-PCIAT_01', 'PCIAT-PCIAT_02', 'PCIAT-PCIAT_03', 'PCIAT-PCIAT_04',\n",
    "       'PCIAT-PCIAT_05', 'PCIAT-PCIAT_06', 'PCIAT-PCIAT_07', 'PCIAT-PCIAT_08',\n",
    "       'PCIAT-PCIAT_09', 'PCIAT-PCIAT_10', 'PCIAT-PCIAT_11', 'PCIAT-PCIAT_12',\n",
    "       'PCIAT-PCIAT_13', 'PCIAT-PCIAT_14', 'PCIAT-PCIAT_15', 'PCIAT-PCIAT_16',\n",
    "       'PCIAT-PCIAT_17', 'PCIAT-PCIAT_18', 'PCIAT-PCIAT_19', 'PCIAT-PCIAT_20',\n",
    "       'PCIAT-PCIAT_Total']\n",
    "df_processed = df_encoded\n",
    "for column in missing_columns:\n",
    "    df_processed = df_processed.drop(columns=column)"
   ]
  },
  {
   "cell_type": "code",
   "execution_count": 10,
   "id": "e2b63653",
   "metadata": {
    "execution": {
     "iopub.execute_input": "2024-12-04T16:57:34.915559Z",
     "iopub.status.busy": "2024-12-04T16:57:34.915334Z",
     "iopub.status.idle": "2024-12-04T16:57:34.920780Z",
     "shell.execute_reply": "2024-12-04T16:57:34.920247Z"
    },
    "papermill": {
     "duration": 0.012264,
     "end_time": "2024-12-04T16:57:34.922316",
     "exception": false,
     "start_time": "2024-12-04T16:57:34.910052",
     "status": "completed"
    },
    "tags": []
   },
   "outputs": [],
   "source": [
    "features = [col for col in df_processed.columns if col != 'sii']\n",
    "X = df_processed[features]\n",
    "y = df_processed.sii"
   ]
  },
  {
   "cell_type": "code",
   "execution_count": 11,
   "id": "cdfe1b12",
   "metadata": {
    "execution": {
     "iopub.execute_input": "2024-12-04T16:57:34.932802Z",
     "iopub.status.busy": "2024-12-04T16:57:34.932568Z",
     "iopub.status.idle": "2024-12-04T16:57:34.960118Z",
     "shell.execute_reply": "2024-12-04T16:57:34.959567Z"
    },
    "papermill": {
     "duration": 0.034432,
     "end_time": "2024-12-04T16:57:34.961705",
     "exception": false,
     "start_time": "2024-12-04T16:57:34.927273",
     "status": "completed"
    },
    "tags": []
   },
   "outputs": [],
   "source": [
    "#Fill missing cells\n",
    "X = X.fillna(X.mean())"
   ]
  },
  {
   "cell_type": "code",
   "execution_count": 12,
   "id": "d7c37e1b",
   "metadata": {
    "execution": {
     "iopub.execute_input": "2024-12-04T16:57:34.971999Z",
     "iopub.status.busy": "2024-12-04T16:57:34.971768Z",
     "iopub.status.idle": "2024-12-04T16:57:34.979158Z",
     "shell.execute_reply": "2024-12-04T16:57:34.978391Z"
    },
    "papermill": {
     "duration": 0.01415,
     "end_time": "2024-12-04T16:57:34.980738",
     "exception": false,
     "start_time": "2024-12-04T16:57:34.966588",
     "status": "completed"
    },
    "tags": []
   },
   "outputs": [],
   "source": [
    "exclusion_list = [\n",
    "    \"Fitness_Endurance-Season_Winter\", \"BIA-Season_Spring\", \n",
    "    \"PAQ_A-Season_Fall\", \"PAQ_A-Season_Spring\", \"PAQ_A-Season_Winter\", \n",
    "    \"PCIAT-Season_Fall\", \"PCIAT-Season_Spring\", \"PCIAT-Season_Summer\", \n",
    "    \"PCIAT-Season_Winter\"\n",
    "]\n",
    "filtered_features = [feature for feature in features if feature not in exclusion_list]\n",
    "X = X[filtered_features]"
   ]
  },
  {
   "cell_type": "code",
   "execution_count": 13,
   "id": "0b7610fd",
   "metadata": {
    "execution": {
     "iopub.execute_input": "2024-12-04T16:57:34.990929Z",
     "iopub.status.busy": "2024-12-04T16:57:34.990695Z",
     "iopub.status.idle": "2024-12-04T16:57:35.161033Z",
     "shell.execute_reply": "2024-12-04T16:57:35.160266Z"
    },
    "papermill": {
     "duration": 0.178077,
     "end_time": "2024-12-04T16:57:35.163470",
     "exception": false,
     "start_time": "2024-12-04T16:57:34.985393",
     "status": "completed"
    },
    "tags": []
   },
   "outputs": [],
   "source": [
    "from sklearn.model_selection import train_test_split\n",
    "X_train, X_val, y_train, y_val = train_test_split(X, y, test_size=0.2, random_state=42)"
   ]
  },
  {
   "cell_type": "code",
   "execution_count": 14,
   "id": "dd938280",
   "metadata": {
    "execution": {
     "iopub.execute_input": "2024-12-04T16:57:35.176704Z",
     "iopub.status.busy": "2024-12-04T16:57:35.176405Z",
     "iopub.status.idle": "2024-12-04T16:57:36.634253Z",
     "shell.execute_reply": "2024-12-04T16:57:36.633411Z"
    },
    "papermill": {
     "duration": 1.466158,
     "end_time": "2024-12-04T16:57:36.635945",
     "exception": false,
     "start_time": "2024-12-04T16:57:35.169787",
     "status": "completed"
    },
    "tags": []
   },
   "outputs": [
    {
     "data": {
      "text/html": [
       "<style>#sk-container-id-1 {color: black;background-color: white;}#sk-container-id-1 pre{padding: 0;}#sk-container-id-1 div.sk-toggleable {background-color: white;}#sk-container-id-1 label.sk-toggleable__label {cursor: pointer;display: block;width: 100%;margin-bottom: 0;padding: 0.3em;box-sizing: border-box;text-align: center;}#sk-container-id-1 label.sk-toggleable__label-arrow:before {content: \"▸\";float: left;margin-right: 0.25em;color: #696969;}#sk-container-id-1 label.sk-toggleable__label-arrow:hover:before {color: black;}#sk-container-id-1 div.sk-estimator:hover label.sk-toggleable__label-arrow:before {color: black;}#sk-container-id-1 div.sk-toggleable__content {max-height: 0;max-width: 0;overflow: hidden;text-align: left;background-color: #f0f8ff;}#sk-container-id-1 div.sk-toggleable__content pre {margin: 0.2em;color: black;border-radius: 0.25em;background-color: #f0f8ff;}#sk-container-id-1 input.sk-toggleable__control:checked~div.sk-toggleable__content {max-height: 200px;max-width: 100%;overflow: auto;}#sk-container-id-1 input.sk-toggleable__control:checked~label.sk-toggleable__label-arrow:before {content: \"▾\";}#sk-container-id-1 div.sk-estimator input.sk-toggleable__control:checked~label.sk-toggleable__label {background-color: #d4ebff;}#sk-container-id-1 div.sk-label input.sk-toggleable__control:checked~label.sk-toggleable__label {background-color: #d4ebff;}#sk-container-id-1 input.sk-hidden--visually {border: 0;clip: rect(1px 1px 1px 1px);clip: rect(1px, 1px, 1px, 1px);height: 1px;margin: -1px;overflow: hidden;padding: 0;position: absolute;width: 1px;}#sk-container-id-1 div.sk-estimator {font-family: monospace;background-color: #f0f8ff;border: 1px dotted black;border-radius: 0.25em;box-sizing: border-box;margin-bottom: 0.5em;}#sk-container-id-1 div.sk-estimator:hover {background-color: #d4ebff;}#sk-container-id-1 div.sk-parallel-item::after {content: \"\";width: 100%;border-bottom: 1px solid gray;flex-grow: 1;}#sk-container-id-1 div.sk-label:hover label.sk-toggleable__label {background-color: #d4ebff;}#sk-container-id-1 div.sk-serial::before {content: \"\";position: absolute;border-left: 1px solid gray;box-sizing: border-box;top: 0;bottom: 0;left: 50%;z-index: 0;}#sk-container-id-1 div.sk-serial {display: flex;flex-direction: column;align-items: center;background-color: white;padding-right: 0.2em;padding-left: 0.2em;position: relative;}#sk-container-id-1 div.sk-item {position: relative;z-index: 1;}#sk-container-id-1 div.sk-parallel {display: flex;align-items: stretch;justify-content: center;background-color: white;position: relative;}#sk-container-id-1 div.sk-item::before, #sk-container-id-1 div.sk-parallel-item::before {content: \"\";position: absolute;border-left: 1px solid gray;box-sizing: border-box;top: 0;bottom: 0;left: 50%;z-index: -1;}#sk-container-id-1 div.sk-parallel-item {display: flex;flex-direction: column;z-index: 1;position: relative;background-color: white;}#sk-container-id-1 div.sk-parallel-item:first-child::after {align-self: flex-end;width: 50%;}#sk-container-id-1 div.sk-parallel-item:last-child::after {align-self: flex-start;width: 50%;}#sk-container-id-1 div.sk-parallel-item:only-child::after {width: 0;}#sk-container-id-1 div.sk-dashed-wrapped {border: 1px dashed gray;margin: 0 0.4em 0.5em 0.4em;box-sizing: border-box;padding-bottom: 0.4em;background-color: white;}#sk-container-id-1 div.sk-label label {font-family: monospace;font-weight: bold;display: inline-block;line-height: 1.2em;}#sk-container-id-1 div.sk-label-container {text-align: center;}#sk-container-id-1 div.sk-container {/* jupyter's `normalize.less` sets `[hidden] { display: none; }` but bootstrap.min.css set `[hidden] { display: none !important; }` so we also need the `!important` here to be able to override the default hidden behavior on the sphinx rendered scikit-learn.org. See: https://github.com/scikit-learn/scikit-learn/issues/21755 */display: inline-block !important;position: relative;}#sk-container-id-1 div.sk-text-repr-fallback {display: none;}</style><div id=\"sk-container-id-1\" class=\"sk-top-container\"><div class=\"sk-text-repr-fallback\"><pre>RandomForestClassifier(class_weight=&#x27;balanced&#x27;, max_depth=10,\n",
       "                       min_samples_leaf=2, min_samples_split=5,\n",
       "                       n_estimators=200, random_state=42)</pre><b>In a Jupyter environment, please rerun this cell to show the HTML representation or trust the notebook. <br />On GitHub, the HTML representation is unable to render, please try loading this page with nbviewer.org.</b></div><div class=\"sk-container\" hidden><div class=\"sk-item\"><div class=\"sk-estimator sk-toggleable\"><input class=\"sk-toggleable__control sk-hidden--visually\" id=\"sk-estimator-id-1\" type=\"checkbox\" checked><label for=\"sk-estimator-id-1\" class=\"sk-toggleable__label sk-toggleable__label-arrow\">RandomForestClassifier</label><div class=\"sk-toggleable__content\"><pre>RandomForestClassifier(class_weight=&#x27;balanced&#x27;, max_depth=10,\n",
       "                       min_samples_leaf=2, min_samples_split=5,\n",
       "                       n_estimators=200, random_state=42)</pre></div></div></div></div></div>"
      ],
      "text/plain": [
       "RandomForestClassifier(class_weight='balanced', max_depth=10,\n",
       "                       min_samples_leaf=2, min_samples_split=5,\n",
       "                       n_estimators=200, random_state=42)"
      ]
     },
     "execution_count": 14,
     "metadata": {},
     "output_type": "execute_result"
    }
   ],
   "source": [
    "from sklearn.ensemble import RandomForestClassifier\n",
    "\n",
    "rf_model = RandomForestClassifier(\n",
    "    n_estimators=200,\n",
    "    max_depth=10,\n",
    "    max_features='sqrt',\n",
    "    min_samples_split=5,\n",
    "    min_samples_leaf=2,\n",
    "    class_weight='balanced',\n",
    "    random_state=42,\n",
    ")\n",
    "\n",
    "rf_model.fit(X, y)"
   ]
  },
  {
   "cell_type": "code",
   "execution_count": 15,
   "id": "669d558c",
   "metadata": {
    "execution": {
     "iopub.execute_input": "2024-12-04T16:57:36.647473Z",
     "iopub.status.busy": "2024-12-04T16:57:36.646987Z",
     "iopub.status.idle": "2024-12-04T16:57:37.296170Z",
     "shell.execute_reply": "2024-12-04T16:57:37.295233Z"
    },
    "papermill": {
     "duration": 0.656655,
     "end_time": "2024-12-04T16:57:37.298020",
     "exception": false,
     "start_time": "2024-12-04T16:57:36.641365",
     "status": "completed"
    },
    "tags": []
   },
   "outputs": [
    {
     "data": {
      "text/html": [
       "<style>#sk-container-id-2 {color: black;background-color: white;}#sk-container-id-2 pre{padding: 0;}#sk-container-id-2 div.sk-toggleable {background-color: white;}#sk-container-id-2 label.sk-toggleable__label {cursor: pointer;display: block;width: 100%;margin-bottom: 0;padding: 0.3em;box-sizing: border-box;text-align: center;}#sk-container-id-2 label.sk-toggleable__label-arrow:before {content: \"▸\";float: left;margin-right: 0.25em;color: #696969;}#sk-container-id-2 label.sk-toggleable__label-arrow:hover:before {color: black;}#sk-container-id-2 div.sk-estimator:hover label.sk-toggleable__label-arrow:before {color: black;}#sk-container-id-2 div.sk-toggleable__content {max-height: 0;max-width: 0;overflow: hidden;text-align: left;background-color: #f0f8ff;}#sk-container-id-2 div.sk-toggleable__content pre {margin: 0.2em;color: black;border-radius: 0.25em;background-color: #f0f8ff;}#sk-container-id-2 input.sk-toggleable__control:checked~div.sk-toggleable__content {max-height: 200px;max-width: 100%;overflow: auto;}#sk-container-id-2 input.sk-toggleable__control:checked~label.sk-toggleable__label-arrow:before {content: \"▾\";}#sk-container-id-2 div.sk-estimator input.sk-toggleable__control:checked~label.sk-toggleable__label {background-color: #d4ebff;}#sk-container-id-2 div.sk-label input.sk-toggleable__control:checked~label.sk-toggleable__label {background-color: #d4ebff;}#sk-container-id-2 input.sk-hidden--visually {border: 0;clip: rect(1px 1px 1px 1px);clip: rect(1px, 1px, 1px, 1px);height: 1px;margin: -1px;overflow: hidden;padding: 0;position: absolute;width: 1px;}#sk-container-id-2 div.sk-estimator {font-family: monospace;background-color: #f0f8ff;border: 1px dotted black;border-radius: 0.25em;box-sizing: border-box;margin-bottom: 0.5em;}#sk-container-id-2 div.sk-estimator:hover {background-color: #d4ebff;}#sk-container-id-2 div.sk-parallel-item::after {content: \"\";width: 100%;border-bottom: 1px solid gray;flex-grow: 1;}#sk-container-id-2 div.sk-label:hover label.sk-toggleable__label {background-color: #d4ebff;}#sk-container-id-2 div.sk-serial::before {content: \"\";position: absolute;border-left: 1px solid gray;box-sizing: border-box;top: 0;bottom: 0;left: 50%;z-index: 0;}#sk-container-id-2 div.sk-serial {display: flex;flex-direction: column;align-items: center;background-color: white;padding-right: 0.2em;padding-left: 0.2em;position: relative;}#sk-container-id-2 div.sk-item {position: relative;z-index: 1;}#sk-container-id-2 div.sk-parallel {display: flex;align-items: stretch;justify-content: center;background-color: white;position: relative;}#sk-container-id-2 div.sk-item::before, #sk-container-id-2 div.sk-parallel-item::before {content: \"\";position: absolute;border-left: 1px solid gray;box-sizing: border-box;top: 0;bottom: 0;left: 50%;z-index: -1;}#sk-container-id-2 div.sk-parallel-item {display: flex;flex-direction: column;z-index: 1;position: relative;background-color: white;}#sk-container-id-2 div.sk-parallel-item:first-child::after {align-self: flex-end;width: 50%;}#sk-container-id-2 div.sk-parallel-item:last-child::after {align-self: flex-start;width: 50%;}#sk-container-id-2 div.sk-parallel-item:only-child::after {width: 0;}#sk-container-id-2 div.sk-dashed-wrapped {border: 1px dashed gray;margin: 0 0.4em 0.5em 0.4em;box-sizing: border-box;padding-bottom: 0.4em;background-color: white;}#sk-container-id-2 div.sk-label label {font-family: monospace;font-weight: bold;display: inline-block;line-height: 1.2em;}#sk-container-id-2 div.sk-label-container {text-align: center;}#sk-container-id-2 div.sk-container {/* jupyter's `normalize.less` sets `[hidden] { display: none; }` but bootstrap.min.css set `[hidden] { display: none !important; }` so we also need the `!important` here to be able to override the default hidden behavior on the sphinx rendered scikit-learn.org. See: https://github.com/scikit-learn/scikit-learn/issues/21755 */display: inline-block !important;position: relative;}#sk-container-id-2 div.sk-text-repr-fallback {display: none;}</style><div id=\"sk-container-id-2\" class=\"sk-top-container\"><div class=\"sk-text-repr-fallback\"><pre>RandomForestClassifier(class_weight=&#x27;balanced&#x27;, max_depth=20,\n",
       "                       min_samples_leaf=4, random_state=42)</pre><b>In a Jupyter environment, please rerun this cell to show the HTML representation or trust the notebook. <br />On GitHub, the HTML representation is unable to render, please try loading this page with nbviewer.org.</b></div><div class=\"sk-container\" hidden><div class=\"sk-item\"><div class=\"sk-estimator sk-toggleable\"><input class=\"sk-toggleable__control sk-hidden--visually\" id=\"sk-estimator-id-2\" type=\"checkbox\" checked><label for=\"sk-estimator-id-2\" class=\"sk-toggleable__label sk-toggleable__label-arrow\">RandomForestClassifier</label><div class=\"sk-toggleable__content\"><pre>RandomForestClassifier(class_weight=&#x27;balanced&#x27;, max_depth=20,\n",
       "                       min_samples_leaf=4, random_state=42)</pre></div></div></div></div></div>"
      ],
      "text/plain": [
       "RandomForestClassifier(class_weight='balanced', max_depth=20,\n",
       "                       min_samples_leaf=4, random_state=42)"
      ]
     },
     "execution_count": 15,
     "metadata": {},
     "output_type": "execute_result"
    }
   ],
   "source": [
    "from sklearn.ensemble import RandomForestClassifier\n",
    "\n",
    "val_model = RandomForestClassifier(\n",
    "    n_estimators=100,\n",
    "    max_depth=20,\n",
    "    max_features='sqrt',\n",
    "    min_samples_split=2,\n",
    "    min_samples_leaf=4,\n",
    "    class_weight='balanced',\n",
    "    random_state=42,\n",
    ")\n",
    "\n",
    "val_model.fit(X, y)"
   ]
  },
  {
   "cell_type": "markdown",
   "id": "503650eb",
   "metadata": {
    "papermill": {
     "duration": 0.004941,
     "end_time": "2024-12-04T16:57:37.308258",
     "exception": false,
     "start_time": "2024-12-04T16:57:37.303317",
     "status": "completed"
    },
    "tags": []
   },
   "source": [
    "### Evaluation function"
   ]
  },
  {
   "cell_type": "code",
   "execution_count": 16,
   "id": "4bc830cf",
   "metadata": {
    "execution": {
     "iopub.execute_input": "2024-12-04T16:57:37.319781Z",
     "iopub.status.busy": "2024-12-04T16:57:37.319436Z",
     "iopub.status.idle": "2024-12-04T16:57:37.347630Z",
     "shell.execute_reply": "2024-12-04T16:57:37.346809Z"
    },
    "papermill": {
     "duration": 0.035937,
     "end_time": "2024-12-04T16:57:37.349195",
     "exception": false,
     "start_time": "2024-12-04T16:57:37.313258",
     "status": "completed"
    },
    "tags": []
   },
   "outputs": [
    {
     "name": "stdout",
     "output_type": "stream",
     "text": [
      "0.8745606095687133\n"
     ]
    }
   ],
   "source": [
    "#Evaluation function\n",
    "def quadratic_weighted_kappa(y_true, y_pred, n_classes):\n",
    "    \"\"\"\n",
    "    Calculate the Quadratic Weighted Kappa (QWK) score.\n",
    "\n",
    "    Parameters:\n",
    "    y_true (list or numpy array): Actual values (ground truth).\n",
    "    y_pred (list or numpy array): Predicted values.\n",
    "    n_classes (int): Number of distinct classes/labels.\n",
    "\n",
    "    Returns:\n",
    "    float: QWK score.\n",
    "    \"\"\"\n",
    "    # Create histogram matrix O (observed matrix)\n",
    "    O = np.zeros((n_classes, n_classes), dtype=np.float64)\n",
    "    for true, pred in zip(y_true, y_pred):\n",
    "        O[true, pred] += 1\n",
    "\n",
    "    # Create weight matrix W\n",
    "    W = np.zeros((n_classes, n_classes), dtype=np.float64)\n",
    "    for i in range(n_classes):\n",
    "        for j in range(n_classes):\n",
    "            W[i, j] = ((i - j) ** 2) / ((n_classes - 1) ** 2)\n",
    "\n",
    "    # Create expected matrix E\n",
    "    actual_hist = np.sum(O, axis=1)\n",
    "    pred_hist = np.sum(O, axis=0)\n",
    "    E = np.outer(actual_hist, pred_hist) / np.sum(O)\n",
    "\n",
    "    # Calculate QWK\n",
    "    numerator = np.sum(W * O)\n",
    "    denominator = np.sum(W * E)\n",
    "    kappa = 1 - (numerator / denominator)\n",
    "\n",
    "    return kappa\n",
    "\n",
    "val_preds = val_model.predict(X_val)\n",
    "val_preds = np.array(val_preds).astype(int)\n",
    "\n",
    "y_val = np.array(y_val).astype(int)\n",
    "\n",
    "print(quadratic_weighted_kappa(y_val, val_preds, 4))"
   ]
  },
  {
   "cell_type": "markdown",
   "id": "4584c5e1",
   "metadata": {
    "papermill": {
     "duration": 0.004839,
     "end_time": "2024-12-04T16:57:37.359453",
     "exception": false,
     "start_time": "2024-12-04T16:57:37.354614",
     "status": "completed"
    },
    "tags": []
   },
   "source": [
    "### Handle test data"
   ]
  },
  {
   "cell_type": "code",
   "execution_count": 17,
   "id": "8fac9726",
   "metadata": {
    "execution": {
     "iopub.execute_input": "2024-12-04T16:57:37.370434Z",
     "iopub.status.busy": "2024-12-04T16:57:37.370170Z",
     "iopub.status.idle": "2024-12-04T16:57:37.379351Z",
     "shell.execute_reply": "2024-12-04T16:57:37.378744Z"
    },
    "papermill": {
     "duration": 0.016377,
     "end_time": "2024-12-04T16:57:37.380798",
     "exception": false,
     "start_time": "2024-12-04T16:57:37.364421",
     "status": "completed"
    },
    "tags": []
   },
   "outputs": [],
   "source": [
    "test_data = pd.read_csv('/kaggle/input/child-mind-institute-problematic-internet-use/test.csv')"
   ]
  },
  {
   "cell_type": "code",
   "execution_count": 18,
   "id": "f7fd5e20",
   "metadata": {
    "execution": {
     "iopub.execute_input": "2024-12-04T16:57:37.392139Z",
     "iopub.status.busy": "2024-12-04T16:57:37.391476Z",
     "iopub.status.idle": "2024-12-04T16:57:37.419241Z",
     "shell.execute_reply": "2024-12-04T16:57:37.418395Z"
    },
    "papermill": {
     "duration": 0.035004,
     "end_time": "2024-12-04T16:57:37.420801",
     "exception": false,
     "start_time": "2024-12-04T16:57:37.385797",
     "status": "completed"
    },
    "tags": []
   },
   "outputs": [],
   "source": [
    "test_categorical_cols = ['Basic_Demos-Enroll_Season', 'CGAS-Season', 'Physical-Season',\n",
    "       'Fitness_Endurance-Season', 'FGC-Season', 'BIA-Season', 'PAQ_A-Season',\n",
    "       'PAQ_C-Season','SDS-Season', 'PreInt_EduHx-Season']\n",
    "for col in test_categorical_cols:\n",
    "    test_data = encode_and_bind(test_data, col)"
   ]
  },
  {
   "cell_type": "code",
   "execution_count": 19,
   "id": "4c1451db",
   "metadata": {
    "execution": {
     "iopub.execute_input": "2024-12-04T16:57:37.431704Z",
     "iopub.status.busy": "2024-12-04T16:57:37.431458Z",
     "iopub.status.idle": "2024-12-04T16:57:37.452863Z",
     "shell.execute_reply": "2024-12-04T16:57:37.451901Z"
    },
    "papermill": {
     "duration": 0.028819,
     "end_time": "2024-12-04T16:57:37.454674",
     "exception": false,
     "start_time": "2024-12-04T16:57:37.425855",
     "status": "completed"
    },
    "tags": []
   },
   "outputs": [],
   "source": [
    "binary_columns = [col for col in test_data.columns if test_data[col].nunique() == 2]\n",
    "columns_to_standardize = [col for col in test_data.columns if col not in binary_columns and col != 'sii' and col != 'id']\n",
    "test_data[columns_to_standardize] = scaler.fit_transform(test_data[columns_to_standardize])"
   ]
  },
  {
   "cell_type": "code",
   "execution_count": 20,
   "id": "4c3f3183",
   "metadata": {
    "execution": {
     "iopub.execute_input": "2024-12-04T16:57:37.466727Z",
     "iopub.status.busy": "2024-12-04T16:57:37.466479Z",
     "iopub.status.idle": "2024-12-04T16:57:37.491720Z",
     "shell.execute_reply": "2024-12-04T16:57:37.491136Z"
    },
    "papermill": {
     "duration": 0.033126,
     "end_time": "2024-12-04T16:57:37.493348",
     "exception": false,
     "start_time": "2024-12-04T16:57:37.460222",
     "status": "completed"
    },
    "tags": []
   },
   "outputs": [],
   "source": [
    "test_X = test_data[filtered_features]\n",
    "\n",
    "test_X = test_X.fillna(test_X.mean())"
   ]
  },
  {
   "cell_type": "code",
   "execution_count": 21,
   "id": "0654a069",
   "metadata": {
    "execution": {
     "iopub.execute_input": "2024-12-04T16:57:37.505174Z",
     "iopub.status.busy": "2024-12-04T16:57:37.504916Z",
     "iopub.status.idle": "2024-12-04T16:57:37.527763Z",
     "shell.execute_reply": "2024-12-04T16:57:37.526916Z"
    },
    "papermill": {
     "duration": 0.030636,
     "end_time": "2024-12-04T16:57:37.529419",
     "exception": false,
     "start_time": "2024-12-04T16:57:37.498783",
     "status": "completed"
    },
    "tags": []
   },
   "outputs": [
    {
     "data": {
      "text/html": [
       "<div>\n",
       "<style scoped>\n",
       "    .dataframe tbody tr th:only-of-type {\n",
       "        vertical-align: middle;\n",
       "    }\n",
       "\n",
       "    .dataframe tbody tr th {\n",
       "        vertical-align: top;\n",
       "    }\n",
       "\n",
       "    .dataframe thead th {\n",
       "        text-align: right;\n",
       "    }\n",
       "</style>\n",
       "<table border=\"1\" class=\"dataframe\">\n",
       "  <thead>\n",
       "    <tr style=\"text-align: right;\">\n",
       "      <th></th>\n",
       "      <th>Basic_Demos-Age</th>\n",
       "      <th>Basic_Demos-Sex</th>\n",
       "      <th>CGAS-CGAS_Score</th>\n",
       "      <th>Physical-BMI</th>\n",
       "      <th>Physical-Height</th>\n",
       "      <th>Physical-Weight</th>\n",
       "      <th>Physical-Waist_Circumference</th>\n",
       "      <th>Physical-Diastolic_BP</th>\n",
       "      <th>Physical-HeartRate</th>\n",
       "      <th>Physical-Systolic_BP</th>\n",
       "      <th>...</th>\n",
       "      <th>PAQ_C-Season_Summer</th>\n",
       "      <th>PAQ_C-Season_Winter</th>\n",
       "      <th>SDS-Season_Fall</th>\n",
       "      <th>SDS-Season_Spring</th>\n",
       "      <th>SDS-Season_Summer</th>\n",
       "      <th>SDS-Season_Winter</th>\n",
       "      <th>PreInt_EduHx-Season_Fall</th>\n",
       "      <th>PreInt_EduHx-Season_Spring</th>\n",
       "      <th>PreInt_EduHx-Season_Summer</th>\n",
       "      <th>PreInt_EduHx-Season_Winter</th>\n",
       "    </tr>\n",
       "  </thead>\n",
       "  <tbody>\n",
       "    <tr>\n",
       "      <th>0</th>\n",
       "      <td>-1.583385</td>\n",
       "      <td>0</td>\n",
       "      <td>-1.090305e+00</td>\n",
       "      <td>-6.249326e-01</td>\n",
       "      <td>-1.043709e+00</td>\n",
       "      <td>-1.250822e+00</td>\n",
       "      <td>4.662937e-16</td>\n",
       "      <td>-6.055762e-17</td>\n",
       "      <td>-5.366078e-16</td>\n",
       "      <td>-8.074349e-17</td>\n",
       "      <td>...</td>\n",
       "      <td>0</td>\n",
       "      <td>0</td>\n",
       "      <td>0</td>\n",
       "      <td>0</td>\n",
       "      <td>0</td>\n",
       "      <td>0</td>\n",
       "      <td>1</td>\n",
       "      <td>0</td>\n",
       "      <td>0</td>\n",
       "      <td>0</td>\n",
       "    </tr>\n",
       "    <tr>\n",
       "      <th>1</th>\n",
       "      <td>-0.481900</td>\n",
       "      <td>0</td>\n",
       "      <td>-4.857226e-17</td>\n",
       "      <td>-1.225173e+00</td>\n",
       "      <td>-7.438588e-01</td>\n",
       "      <td>-1.462229e+00</td>\n",
       "      <td>-1.214286e+00</td>\n",
       "      <td>2.484271e-01</td>\n",
       "      <td>-1.308011e+00</td>\n",
       "      <td>2.197332e-01</td>\n",
       "      <td>...</td>\n",
       "      <td>0</td>\n",
       "      <td>0</td>\n",
       "      <td>1</td>\n",
       "      <td>0</td>\n",
       "      <td>0</td>\n",
       "      <td>0</td>\n",
       "      <td>0</td>\n",
       "      <td>0</td>\n",
       "      <td>1</td>\n",
       "      <td>0</td>\n",
       "    </tr>\n",
       "    <tr>\n",
       "      <th>2</th>\n",
       "      <td>-0.206529</td>\n",
       "      <td>1</td>\n",
       "      <td>8.058773e-01</td>\n",
       "      <td>-6.732225e-01</td>\n",
       "      <td>5.305039e-01</td>\n",
       "      <td>-1.585549e-01</td>\n",
       "      <td>4.662937e-16</td>\n",
       "      <td>-3.092664e-01</td>\n",
       "      <td>1.382755e+00</td>\n",
       "      <td>-2.690610e-02</td>\n",
       "      <td>...</td>\n",
       "      <td>1</td>\n",
       "      <td>0</td>\n",
       "      <td>1</td>\n",
       "      <td>0</td>\n",
       "      <td>0</td>\n",
       "      <td>0</td>\n",
       "      <td>0</td>\n",
       "      <td>0</td>\n",
       "      <td>1</td>\n",
       "      <td>0</td>\n",
       "    </tr>\n",
       "    <tr>\n",
       "      <th>3</th>\n",
       "      <td>-0.481900</td>\n",
       "      <td>0</td>\n",
       "      <td>8.058773e-01</td>\n",
       "      <td>-3.260439e-01</td>\n",
       "      <td>4.555414e-01</td>\n",
       "      <td>1.057033e-01</td>\n",
       "      <td>4.662937e-16</td>\n",
       "      <td>-5.881131e-01</td>\n",
       "      <td>1.719101e+00</td>\n",
       "      <td>-2.690610e-02</td>\n",
       "      <td>...</td>\n",
       "      <td>0</td>\n",
       "      <td>1</td>\n",
       "      <td>0</td>\n",
       "      <td>0</td>\n",
       "      <td>1</td>\n",
       "      <td>0</td>\n",
       "      <td>0</td>\n",
       "      <td>0</td>\n",
       "      <td>0</td>\n",
       "      <td>1</td>\n",
       "    </tr>\n",
       "    <tr>\n",
       "      <th>4</th>\n",
       "      <td>1.996442</td>\n",
       "      <td>1</td>\n",
       "      <td>-4.857226e-17</td>\n",
       "      <td>7.173749e-16</td>\n",
       "      <td>2.732857e-16</td>\n",
       "      <td>-8.540177e-16</td>\n",
       "      <td>4.662937e-16</td>\n",
       "      <td>-6.055762e-17</td>\n",
       "      <td>-5.366078e-16</td>\n",
       "      <td>-8.074349e-17</td>\n",
       "      <td>...</td>\n",
       "      <td>0</td>\n",
       "      <td>0</td>\n",
       "      <td>0</td>\n",
       "      <td>0</td>\n",
       "      <td>0</td>\n",
       "      <td>0</td>\n",
       "      <td>0</td>\n",
       "      <td>0</td>\n",
       "      <td>0</td>\n",
       "      <td>0</td>\n",
       "    </tr>\n",
       "  </tbody>\n",
       "</table>\n",
       "<p>5 rows × 83 columns</p>\n",
       "</div>"
      ],
      "text/plain": [
       "   Basic_Demos-Age  Basic_Demos-Sex  CGAS-CGAS_Score  Physical-BMI  \\\n",
       "0        -1.583385                0    -1.090305e+00 -6.249326e-01   \n",
       "1        -0.481900                0    -4.857226e-17 -1.225173e+00   \n",
       "2        -0.206529                1     8.058773e-01 -6.732225e-01   \n",
       "3        -0.481900                0     8.058773e-01 -3.260439e-01   \n",
       "4         1.996442                1    -4.857226e-17  7.173749e-16   \n",
       "\n",
       "   Physical-Height  Physical-Weight  Physical-Waist_Circumference  \\\n",
       "0    -1.043709e+00    -1.250822e+00                  4.662937e-16   \n",
       "1    -7.438588e-01    -1.462229e+00                 -1.214286e+00   \n",
       "2     5.305039e-01    -1.585549e-01                  4.662937e-16   \n",
       "3     4.555414e-01     1.057033e-01                  4.662937e-16   \n",
       "4     2.732857e-16    -8.540177e-16                  4.662937e-16   \n",
       "\n",
       "   Physical-Diastolic_BP  Physical-HeartRate  Physical-Systolic_BP  ...  \\\n",
       "0          -6.055762e-17       -5.366078e-16         -8.074349e-17  ...   \n",
       "1           2.484271e-01       -1.308011e+00          2.197332e-01  ...   \n",
       "2          -3.092664e-01        1.382755e+00         -2.690610e-02  ...   \n",
       "3          -5.881131e-01        1.719101e+00         -2.690610e-02  ...   \n",
       "4          -6.055762e-17       -5.366078e-16         -8.074349e-17  ...   \n",
       "\n",
       "   PAQ_C-Season_Summer  PAQ_C-Season_Winter  SDS-Season_Fall  \\\n",
       "0                    0                    0                0   \n",
       "1                    0                    0                1   \n",
       "2                    1                    0                1   \n",
       "3                    0                    1                0   \n",
       "4                    0                    0                0   \n",
       "\n",
       "   SDS-Season_Spring  SDS-Season_Summer  SDS-Season_Winter  \\\n",
       "0                  0                  0                  0   \n",
       "1                  0                  0                  0   \n",
       "2                  0                  0                  0   \n",
       "3                  0                  1                  0   \n",
       "4                  0                  0                  0   \n",
       "\n",
       "   PreInt_EduHx-Season_Fall  PreInt_EduHx-Season_Spring  \\\n",
       "0                         1                           0   \n",
       "1                         0                           0   \n",
       "2                         0                           0   \n",
       "3                         0                           0   \n",
       "4                         0                           0   \n",
       "\n",
       "   PreInt_EduHx-Season_Summer  PreInt_EduHx-Season_Winter  \n",
       "0                           0                           0  \n",
       "1                           1                           0  \n",
       "2                           1                           0  \n",
       "3                           0                           1  \n",
       "4                           0                           0  \n",
       "\n",
       "[5 rows x 83 columns]"
      ]
     },
     "execution_count": 21,
     "metadata": {},
     "output_type": "execute_result"
    }
   ],
   "source": [
    "test_X.head()"
   ]
  },
  {
   "cell_type": "code",
   "execution_count": 22,
   "id": "c13c7967",
   "metadata": {
    "execution": {
     "iopub.execute_input": "2024-12-04T16:57:37.541247Z",
     "iopub.status.busy": "2024-12-04T16:57:37.540991Z",
     "iopub.status.idle": "2024-12-04T16:57:37.554830Z",
     "shell.execute_reply": "2024-12-04T16:57:37.554228Z"
    },
    "papermill": {
     "duration": 0.021288,
     "end_time": "2024-12-04T16:57:37.556341",
     "exception": false,
     "start_time": "2024-12-04T16:57:37.535053",
     "status": "completed"
    },
    "tags": []
   },
   "outputs": [],
   "source": [
    "test_preds = val_model.predict(test_X)\n",
    "test_preds = np.array(test_preds).astype(int)"
   ]
  },
  {
   "cell_type": "markdown",
   "id": "2e443ca9",
   "metadata": {
    "papermill": {
     "duration": 0.005487,
     "end_time": "2024-12-04T16:57:37.567046",
     "exception": false,
     "start_time": "2024-12-04T16:57:37.561559",
     "status": "completed"
    },
    "tags": []
   },
   "source": [
    "### Submit"
   ]
  },
  {
   "cell_type": "code",
   "execution_count": 23,
   "id": "1df51f3e",
   "metadata": {
    "execution": {
     "iopub.execute_input": "2024-12-04T16:57:37.578514Z",
     "iopub.status.busy": "2024-12-04T16:57:37.578268Z",
     "iopub.status.idle": "2024-12-04T16:57:37.584598Z",
     "shell.execute_reply": "2024-12-04T16:57:37.583825Z"
    },
    "papermill": {
     "duration": 0.013841,
     "end_time": "2024-12-04T16:57:37.586216",
     "exception": false,
     "start_time": "2024-12-04T16:57:37.572375",
     "status": "completed"
    },
    "tags": []
   },
   "outputs": [],
   "source": [
    "# Run the code to save predictions in the format used for competition scoring\n",
    "\n",
    "output = pd.DataFrame({'id': test_data.id,\n",
    "                       'sii': test_preds})\n",
    "output.to_csv('submission.csv', index=False)"
   ]
  },
  {
   "cell_type": "code",
   "execution_count": null,
   "id": "ad734551",
   "metadata": {
    "papermill": {
     "duration": 0.005013,
     "end_time": "2024-12-04T16:57:37.596574",
     "exception": false,
     "start_time": "2024-12-04T16:57:37.591561",
     "status": "completed"
    },
    "tags": []
   },
   "outputs": [],
   "source": []
  }
 ],
 "metadata": {
  "kaggle": {
   "accelerator": "nvidiaTeslaT4",
   "dataSources": [
    {
     "databundleVersionId": 9643020,
     "sourceId": 81933,
     "sourceType": "competition"
    }
   ],
   "dockerImageVersionId": 30786,
   "isGpuEnabled": true,
   "isInternetEnabled": false,
   "language": "python",
   "sourceType": "notebook"
  },
  "kernelspec": {
   "display_name": "Python 3",
   "language": "python",
   "name": "python3"
  },
  "language_info": {
   "codemirror_mode": {
    "name": "ipython",
    "version": 3
   },
   "file_extension": ".py",
   "mimetype": "text/x-python",
   "name": "python",
   "nbconvert_exporter": "python",
   "pygments_lexer": "ipython3",
   "version": "3.10.14"
  },
  "papermill": {
   "default_parameters": {},
   "duration": 8.179982,
   "end_time": "2024-12-04T16:57:38.019216",
   "environment_variables": {},
   "exception": null,
   "input_path": "__notebook__.ipynb",
   "output_path": "__notebook__.ipynb",
   "parameters": {},
   "start_time": "2024-12-04T16:57:29.839234",
   "version": "2.6.0"
  }
 },
 "nbformat": 4,
 "nbformat_minor": 5
}
