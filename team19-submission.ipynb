{
 "cells": [
  {
   "cell_type": "markdown",
   "id": "da81e6d4",
   "metadata": {
    "papermill": {
     "duration": 0.008409,
     "end_time": "2024-12-01T10:33:58.830875",
     "exception": false,
     "start_time": "2024-12-01T10:33:58.822466",
     "status": "completed"
    },
    "tags": []
   },
   "source": [
    "Import required libraries"
   ]
  },
  {
   "cell_type": "code",
   "execution_count": 1,
   "id": "813bdcd4",
   "metadata": {
    "_cell_guid": "b1076dfc-b9ad-4769-8c92-a6c4dae69d19",
    "_uuid": "8f2839f25d086af736a60e9eeb907d3b93b6e0e5",
    "execution": {
     "iopub.execute_input": "2024-12-01T10:33:58.847551Z",
     "iopub.status.busy": "2024-12-01T10:33:58.847030Z",
     "iopub.status.idle": "2024-12-01T10:34:01.248797Z",
     "shell.execute_reply": "2024-12-01T10:34:01.247661Z"
    },
    "papermill": {
     "duration": 2.413108,
     "end_time": "2024-12-01T10:34:01.252147",
     "exception": false,
     "start_time": "2024-12-01T10:33:58.839039",
     "status": "completed"
    },
    "tags": []
   },
   "outputs": [],
   "source": [
    "import pandas as pd\n",
    "import numpy as np\n",
    "import matplotlib.pyplot as plt\n",
    "from sklearn.preprocessing import StandardScaler"
   ]
  },
  {
   "cell_type": "code",
   "execution_count": 2,
   "id": "b255e8ef",
   "metadata": {
    "execution": {
     "iopub.execute_input": "2024-12-01T10:34:01.266517Z",
     "iopub.status.busy": "2024-12-01T10:34:01.265526Z",
     "iopub.status.idle": "2024-12-01T10:34:01.270638Z",
     "shell.execute_reply": "2024-12-01T10:34:01.269564Z"
    },
    "papermill": {
     "duration": 0.014709,
     "end_time": "2024-12-01T10:34:01.273003",
     "exception": false,
     "start_time": "2024-12-01T10:34:01.258294",
     "status": "completed"
    },
    "tags": []
   },
   "outputs": [],
   "source": [
    "scaler = StandardScaler()"
   ]
  },
  {
   "cell_type": "markdown",
   "id": "bf111b6a",
   "metadata": {
    "papermill": {
     "duration": 0.005635,
     "end_time": "2024-12-01T10:34:01.284704",
     "exception": false,
     "start_time": "2024-12-01T10:34:01.279069",
     "status": "completed"
    },
    "tags": []
   },
   "source": [
    "Read the train CSV file"
   ]
  },
  {
   "cell_type": "code",
   "execution_count": 3,
   "id": "698ee9df",
   "metadata": {
    "execution": {
     "iopub.execute_input": "2024-12-01T10:34:01.299203Z",
     "iopub.status.busy": "2024-12-01T10:34:01.298836Z",
     "iopub.status.idle": "2024-12-01T10:34:01.384326Z",
     "shell.execute_reply": "2024-12-01T10:34:01.382276Z"
    },
    "papermill": {
     "duration": 0.096586,
     "end_time": "2024-12-01T10:34:01.388129",
     "exception": false,
     "start_time": "2024-12-01T10:34:01.291543",
     "status": "completed"
    },
    "tags": []
   },
   "outputs": [],
   "source": [
    "df = pd.read_csv(\"/kaggle/input/child-mind-institute-problematic-internet-use/train.csv\", index_col=\"id\")"
   ]
  },
  {
   "cell_type": "markdown",
   "id": "c5cff158",
   "metadata": {
    "papermill": {
     "duration": 0.005914,
     "end_time": "2024-12-01T10:34:01.402823",
     "exception": false,
     "start_time": "2024-12-01T10:34:01.396909",
     "status": "completed"
    },
    "tags": []
   },
   "source": [
    "Dataset overview"
   ]
  },
  {
   "cell_type": "markdown",
   "id": "c8f07555",
   "metadata": {
    "papermill": {
     "duration": 0.006171,
     "end_time": "2024-12-01T10:34:01.415255",
     "exception": false,
     "start_time": "2024-12-01T10:34:01.409084",
     "status": "completed"
    },
    "tags": []
   },
   "source": [
    "Delete row which not have output"
   ]
  },
  {
   "cell_type": "code",
   "execution_count": 4,
   "id": "53ca070d",
   "metadata": {
    "execution": {
     "iopub.execute_input": "2024-12-01T10:34:01.431188Z",
     "iopub.status.busy": "2024-12-01T10:34:01.430634Z",
     "iopub.status.idle": "2024-12-01T10:34:01.451407Z",
     "shell.execute_reply": "2024-12-01T10:34:01.449078Z"
    },
    "papermill": {
     "duration": 0.032413,
     "end_time": "2024-12-01T10:34:01.454554",
     "exception": false,
     "start_time": "2024-12-01T10:34:01.422141",
     "status": "completed"
    },
    "tags": []
   },
   "outputs": [],
   "source": [
    "df = df.dropna(subset=['sii'])"
   ]
  },
  {
   "cell_type": "markdown",
   "id": "e82ca4e6",
   "metadata": {
    "papermill": {
     "duration": 0.006231,
     "end_time": "2024-12-01T10:34:01.467588",
     "exception": false,
     "start_time": "2024-12-01T10:34:01.461357",
     "status": "completed"
    },
    "tags": []
   },
   "source": [
    "Remove columns which not appear in test.csv"
   ]
  },
  {
   "cell_type": "markdown",
   "id": "db613d4d",
   "metadata": {
    "papermill": {
     "duration": 0.006379,
     "end_time": "2024-12-01T10:34:01.480388",
     "exception": false,
     "start_time": "2024-12-01T10:34:01.474009",
     "status": "completed"
    },
    "tags": []
   },
   "source": [
    "One-hot encoding process"
   ]
  },
  {
   "cell_type": "code",
   "execution_count": 5,
   "id": "d2772065",
   "metadata": {
    "execution": {
     "iopub.execute_input": "2024-12-01T10:34:01.494773Z",
     "iopub.status.busy": "2024-12-01T10:34:01.493643Z",
     "iopub.status.idle": "2024-12-01T10:34:01.500055Z",
     "shell.execute_reply": "2024-12-01T10:34:01.498774Z"
    },
    "papermill": {
     "duration": 0.015807,
     "end_time": "2024-12-01T10:34:01.502261",
     "exception": false,
     "start_time": "2024-12-01T10:34:01.486454",
     "status": "completed"
    },
    "tags": []
   },
   "outputs": [],
   "source": [
    "#Helper function\n",
    "def encode_and_bind(original_dataframe, feature_to_encode):\n",
    "    dummies = pd.get_dummies(original_dataframe[[feature_to_encode]], dtype=int)\n",
    "    original_dataframe = pd.concat([original_dataframe, dummies], axis=1)\n",
    "    original_dataframe = original_dataframe.drop([feature_to_encode], axis=1)\n",
    "    return original_dataframe"
   ]
  },
  {
   "cell_type": "code",
   "execution_count": 6,
   "id": "de94ff46",
   "metadata": {
    "execution": {
     "iopub.execute_input": "2024-12-01T10:34:01.517649Z",
     "iopub.status.busy": "2024-12-01T10:34:01.516468Z",
     "iopub.status.idle": "2024-12-01T10:34:01.603310Z",
     "shell.execute_reply": "2024-12-01T10:34:01.602125Z"
    },
    "papermill": {
     "duration": 0.097604,
     "end_time": "2024-12-01T10:34:01.606048",
     "exception": false,
     "start_time": "2024-12-01T10:34:01.508444",
     "status": "completed"
    },
    "tags": []
   },
   "outputs": [],
   "source": [
    "# Proceed with encoding\n",
    "categorical_cols = ['Basic_Demos-Enroll_Season', 'CGAS-Season', 'Physical-Season',\n",
    "       'Fitness_Endurance-Season', 'FGC-Season', 'BIA-Season', 'PAQ_A-Season',\n",
    "       'PAQ_C-Season', 'PCIAT-Season', 'SDS-Season', 'PreInt_EduHx-Season']\n",
    "df_encoded = df\n",
    "for col in categorical_cols:\n",
    "    df_encoded = encode_and_bind(df_encoded, col)"
   ]
  },
  {
   "cell_type": "code",
   "execution_count": 7,
   "id": "130e3001",
   "metadata": {
    "execution": {
     "iopub.execute_input": "2024-12-01T10:34:01.620458Z",
     "iopub.status.busy": "2024-12-01T10:34:01.619927Z",
     "iopub.status.idle": "2024-12-01T10:34:01.670355Z",
     "shell.execute_reply": "2024-12-01T10:34:01.669050Z"
    },
    "papermill": {
     "duration": 0.060954,
     "end_time": "2024-12-01T10:34:01.673118",
     "exception": false,
     "start_time": "2024-12-01T10:34:01.612164",
     "status": "completed"
    },
    "tags": []
   },
   "outputs": [],
   "source": [
    "binary_columns = [col for col in df_encoded.columns if df_encoded[col].nunique() == 2]\n",
    "columns_to_standardize = [col for col in df_encoded.columns if col not in binary_columns and col != 'sii']\n",
    "df_encoded[columns_to_standardize] = scaler.fit_transform(df_encoded[columns_to_standardize])"
   ]
  },
  {
   "cell_type": "markdown",
   "id": "9d766b4b",
   "metadata": {
    "papermill": {
     "duration": 0.007891,
     "end_time": "2024-12-01T10:34:01.687095",
     "exception": false,
     "start_time": "2024-12-01T10:34:01.679204",
     "status": "completed"
    },
    "tags": []
   },
   "source": [
    "Bring output to end"
   ]
  },
  {
   "cell_type": "code",
   "execution_count": 8,
   "id": "83e814d9",
   "metadata": {
    "execution": {
     "iopub.execute_input": "2024-12-01T10:34:01.702604Z",
     "iopub.status.busy": "2024-12-01T10:34:01.702202Z",
     "iopub.status.idle": "2024-12-01T10:34:01.713144Z",
     "shell.execute_reply": "2024-12-01T10:34:01.711778Z"
    },
    "papermill": {
     "duration": 0.02248,
     "end_time": "2024-12-01T10:34:01.716609",
     "exception": false,
     "start_time": "2024-12-01T10:34:01.694129",
     "status": "completed"
    },
    "tags": []
   },
   "outputs": [],
   "source": [
    "cols = [col for col in df_encoded.columns if col != 'sii'] + ['sii']\n",
    "df_encoded = df_encoded[cols]"
   ]
  },
  {
   "cell_type": "code",
   "execution_count": 9,
   "id": "46576929",
   "metadata": {
    "execution": {
     "iopub.execute_input": "2024-12-01T10:34:01.731568Z",
     "iopub.status.busy": "2024-12-01T10:34:01.730553Z",
     "iopub.status.idle": "2024-12-01T10:34:01.796879Z",
     "shell.execute_reply": "2024-12-01T10:34:01.795542Z"
    },
    "papermill": {
     "duration": 0.076623,
     "end_time": "2024-12-01T10:34:01.799781",
     "exception": false,
     "start_time": "2024-12-01T10:34:01.723158",
     "status": "completed"
    },
    "tags": []
   },
   "outputs": [],
   "source": [
    "#missing colums\n",
    "missing_columns = ['PCIAT-PCIAT_01', 'PCIAT-PCIAT_02', 'PCIAT-PCIAT_03', 'PCIAT-PCIAT_04',\n",
    "       'PCIAT-PCIAT_05', 'PCIAT-PCIAT_06', 'PCIAT-PCIAT_07', 'PCIAT-PCIAT_08',\n",
    "       'PCIAT-PCIAT_09', 'PCIAT-PCIAT_10', 'PCIAT-PCIAT_11', 'PCIAT-PCIAT_12',\n",
    "       'PCIAT-PCIAT_13', 'PCIAT-PCIAT_14', 'PCIAT-PCIAT_15', 'PCIAT-PCIAT_16',\n",
    "       'PCIAT-PCIAT_17', 'PCIAT-PCIAT_18', 'PCIAT-PCIAT_19', 'PCIAT-PCIAT_20',\n",
    "       'PCIAT-PCIAT_Total']\n",
    "df_processed = df_encoded\n",
    "for column in missing_columns:\n",
    "    df_processed = df_processed.drop(columns=column)"
   ]
  },
  {
   "cell_type": "code",
   "execution_count": 10,
   "id": "88db09af",
   "metadata": {
    "execution": {
     "iopub.execute_input": "2024-12-01T10:34:01.814556Z",
     "iopub.status.busy": "2024-12-01T10:34:01.814031Z",
     "iopub.status.idle": "2024-12-01T10:34:01.825089Z",
     "shell.execute_reply": "2024-12-01T10:34:01.823794Z"
    },
    "papermill": {
     "duration": 0.021705,
     "end_time": "2024-12-01T10:34:01.827626",
     "exception": false,
     "start_time": "2024-12-01T10:34:01.805921",
     "status": "completed"
    },
    "tags": []
   },
   "outputs": [],
   "source": [
    "features = [col for col in df_processed.columns if col != 'sii']\n",
    "X = df_processed[features]\n",
    "y = df_processed.sii"
   ]
  },
  {
   "cell_type": "code",
   "execution_count": 11,
   "id": "fa92e282",
   "metadata": {
    "execution": {
     "iopub.execute_input": "2024-12-01T10:34:01.846230Z",
     "iopub.status.busy": "2024-12-01T10:34:01.844961Z",
     "iopub.status.idle": "2024-12-01T10:34:01.893192Z",
     "shell.execute_reply": "2024-12-01T10:34:01.891760Z"
    },
    "papermill": {
     "duration": 0.060101,
     "end_time": "2024-12-01T10:34:01.895973",
     "exception": false,
     "start_time": "2024-12-01T10:34:01.835872",
     "status": "completed"
    },
    "tags": []
   },
   "outputs": [],
   "source": [
    "#Fill missing cells\n",
    "X = X.fillna(X.mean())"
   ]
  },
  {
   "cell_type": "code",
   "execution_count": 12,
   "id": "5f1861e0",
   "metadata": {
    "execution": {
     "iopub.execute_input": "2024-12-01T10:34:01.910083Z",
     "iopub.status.busy": "2024-12-01T10:34:01.909612Z",
     "iopub.status.idle": "2024-12-01T10:34:01.921180Z",
     "shell.execute_reply": "2024-12-01T10:34:01.920012Z"
    },
    "papermill": {
     "duration": 0.022264,
     "end_time": "2024-12-01T10:34:01.924314",
     "exception": false,
     "start_time": "2024-12-01T10:34:01.902050",
     "status": "completed"
    },
    "tags": []
   },
   "outputs": [],
   "source": [
    "exclusion_list = [\n",
    "    \"Fitness_Endurance-Season_Winter\", \"BIA-Season_Spring\", \n",
    "    \"PAQ_A-Season_Fall\", \"PAQ_A-Season_Spring\", \"PAQ_A-Season_Winter\", \n",
    "    \"PCIAT-Season_Fall\", \"PCIAT-Season_Spring\", \"PCIAT-Season_Summer\", \n",
    "    \"PCIAT-Season_Winter\"\n",
    "]\n",
    "filtered_features = [feature for feature in features if feature not in exclusion_list]\n",
    "X = X[filtered_features]"
   ]
  },
  {
   "cell_type": "code",
   "execution_count": 13,
   "id": "53b68895",
   "metadata": {
    "execution": {
     "iopub.execute_input": "2024-12-01T10:34:01.945372Z",
     "iopub.status.busy": "2024-12-01T10:34:01.944983Z",
     "iopub.status.idle": "2024-12-01T10:34:02.149998Z",
     "shell.execute_reply": "2024-12-01T10:34:02.148795Z"
    },
    "papermill": {
     "duration": 0.218463,
     "end_time": "2024-12-01T10:34:02.153623",
     "exception": false,
     "start_time": "2024-12-01T10:34:01.935160",
     "status": "completed"
    },
    "tags": []
   },
   "outputs": [],
   "source": [
    "from sklearn.model_selection import train_test_split\n",
    "X_train, X_val, y_train, y_val = train_test_split(X, y, test_size=0.2, random_state=42)"
   ]
  },
  {
   "cell_type": "code",
   "execution_count": 14,
   "id": "3cf34110",
   "metadata": {
    "execution": {
     "iopub.execute_input": "2024-12-01T10:34:02.174505Z",
     "iopub.status.busy": "2024-12-01T10:34:02.174101Z",
     "iopub.status.idle": "2024-12-01T10:34:03.262177Z",
     "shell.execute_reply": "2024-12-01T10:34:03.260741Z"
    },
    "papermill": {
     "duration": 1.099547,
     "end_time": "2024-12-01T10:34:03.264818",
     "exception": false,
     "start_time": "2024-12-01T10:34:02.165271",
     "status": "completed"
    },
    "tags": []
   },
   "outputs": [
    {
     "data": {
      "text/html": [
       "<style>#sk-container-id-1 {color: black;background-color: white;}#sk-container-id-1 pre{padding: 0;}#sk-container-id-1 div.sk-toggleable {background-color: white;}#sk-container-id-1 label.sk-toggleable__label {cursor: pointer;display: block;width: 100%;margin-bottom: 0;padding: 0.3em;box-sizing: border-box;text-align: center;}#sk-container-id-1 label.sk-toggleable__label-arrow:before {content: \"▸\";float: left;margin-right: 0.25em;color: #696969;}#sk-container-id-1 label.sk-toggleable__label-arrow:hover:before {color: black;}#sk-container-id-1 div.sk-estimator:hover label.sk-toggleable__label-arrow:before {color: black;}#sk-container-id-1 div.sk-toggleable__content {max-height: 0;max-width: 0;overflow: hidden;text-align: left;background-color: #f0f8ff;}#sk-container-id-1 div.sk-toggleable__content pre {margin: 0.2em;color: black;border-radius: 0.25em;background-color: #f0f8ff;}#sk-container-id-1 input.sk-toggleable__control:checked~div.sk-toggleable__content {max-height: 200px;max-width: 100%;overflow: auto;}#sk-container-id-1 input.sk-toggleable__control:checked~label.sk-toggleable__label-arrow:before {content: \"▾\";}#sk-container-id-1 div.sk-estimator input.sk-toggleable__control:checked~label.sk-toggleable__label {background-color: #d4ebff;}#sk-container-id-1 div.sk-label input.sk-toggleable__control:checked~label.sk-toggleable__label {background-color: #d4ebff;}#sk-container-id-1 input.sk-hidden--visually {border: 0;clip: rect(1px 1px 1px 1px);clip: rect(1px, 1px, 1px, 1px);height: 1px;margin: -1px;overflow: hidden;padding: 0;position: absolute;width: 1px;}#sk-container-id-1 div.sk-estimator {font-family: monospace;background-color: #f0f8ff;border: 1px dotted black;border-radius: 0.25em;box-sizing: border-box;margin-bottom: 0.5em;}#sk-container-id-1 div.sk-estimator:hover {background-color: #d4ebff;}#sk-container-id-1 div.sk-parallel-item::after {content: \"\";width: 100%;border-bottom: 1px solid gray;flex-grow: 1;}#sk-container-id-1 div.sk-label:hover label.sk-toggleable__label {background-color: #d4ebff;}#sk-container-id-1 div.sk-serial::before {content: \"\";position: absolute;border-left: 1px solid gray;box-sizing: border-box;top: 0;bottom: 0;left: 50%;z-index: 0;}#sk-container-id-1 div.sk-serial {display: flex;flex-direction: column;align-items: center;background-color: white;padding-right: 0.2em;padding-left: 0.2em;position: relative;}#sk-container-id-1 div.sk-item {position: relative;z-index: 1;}#sk-container-id-1 div.sk-parallel {display: flex;align-items: stretch;justify-content: center;background-color: white;position: relative;}#sk-container-id-1 div.sk-item::before, #sk-container-id-1 div.sk-parallel-item::before {content: \"\";position: absolute;border-left: 1px solid gray;box-sizing: border-box;top: 0;bottom: 0;left: 50%;z-index: -1;}#sk-container-id-1 div.sk-parallel-item {display: flex;flex-direction: column;z-index: 1;position: relative;background-color: white;}#sk-container-id-1 div.sk-parallel-item:first-child::after {align-self: flex-end;width: 50%;}#sk-container-id-1 div.sk-parallel-item:last-child::after {align-self: flex-start;width: 50%;}#sk-container-id-1 div.sk-parallel-item:only-child::after {width: 0;}#sk-container-id-1 div.sk-dashed-wrapped {border: 1px dashed gray;margin: 0 0.4em 0.5em 0.4em;box-sizing: border-box;padding-bottom: 0.4em;background-color: white;}#sk-container-id-1 div.sk-label label {font-family: monospace;font-weight: bold;display: inline-block;line-height: 1.2em;}#sk-container-id-1 div.sk-label-container {text-align: center;}#sk-container-id-1 div.sk-container {/* jupyter's `normalize.less` sets `[hidden] { display: none; }` but bootstrap.min.css set `[hidden] { display: none !important; }` so we also need the `!important` here to be able to override the default hidden behavior on the sphinx rendered scikit-learn.org. See: https://github.com/scikit-learn/scikit-learn/issues/21755 */display: inline-block !important;position: relative;}#sk-container-id-1 div.sk-text-repr-fallback {display: none;}</style><div id=\"sk-container-id-1\" class=\"sk-top-container\"><div class=\"sk-text-repr-fallback\"><pre>RandomForestClassifier(class_weight=&#x27;balanced&#x27;, max_depth=10,\n",
       "                       min_samples_leaf=2, min_samples_split=5,\n",
       "                       random_state=42)</pre><b>In a Jupyter environment, please rerun this cell to show the HTML representation or trust the notebook. <br />On GitHub, the HTML representation is unable to render, please try loading this page with nbviewer.org.</b></div><div class=\"sk-container\" hidden><div class=\"sk-item\"><div class=\"sk-estimator sk-toggleable\"><input class=\"sk-toggleable__control sk-hidden--visually\" id=\"sk-estimator-id-1\" type=\"checkbox\" checked><label for=\"sk-estimator-id-1\" class=\"sk-toggleable__label sk-toggleable__label-arrow\">RandomForestClassifier</label><div class=\"sk-toggleable__content\"><pre>RandomForestClassifier(class_weight=&#x27;balanced&#x27;, max_depth=10,\n",
       "                       min_samples_leaf=2, min_samples_split=5,\n",
       "                       random_state=42)</pre></div></div></div></div></div>"
      ],
      "text/plain": [
       "RandomForestClassifier(class_weight='balanced', max_depth=10,\n",
       "                       min_samples_leaf=2, min_samples_split=5,\n",
       "                       random_state=42)"
      ]
     },
     "execution_count": 14,
     "metadata": {},
     "output_type": "execute_result"
    }
   ],
   "source": [
    "from sklearn.ensemble import RandomForestClassifier\n",
    "\n",
    "rf_model = RandomForestClassifier(\n",
    "    n_estimators=100,\n",
    "    max_depth=10,\n",
    "    max_features='sqrt',\n",
    "    min_samples_split=5,\n",
    "    min_samples_leaf=2,\n",
    "    class_weight='balanced',\n",
    "    random_state=42,\n",
    ")\n",
    "\n",
    "rf_model.fit(X, y)"
   ]
  },
  {
   "cell_type": "markdown",
   "id": "0bacfef4",
   "metadata": {
    "papermill": {
     "duration": 0.006204,
     "end_time": "2024-12-01T10:34:03.277457",
     "exception": false,
     "start_time": "2024-12-01T10:34:03.271253",
     "status": "completed"
    },
    "tags": []
   },
   "source": [
    "### Evaluation function"
   ]
  },
  {
   "cell_type": "code",
   "execution_count": 15,
   "id": "9c2b3d79",
   "metadata": {
    "execution": {
     "iopub.execute_input": "2024-12-01T10:34:03.293437Z",
     "iopub.status.busy": "2024-12-01T10:34:03.293027Z",
     "iopub.status.idle": "2024-12-01T10:34:03.326251Z",
     "shell.execute_reply": "2024-12-01T10:34:03.324801Z"
    },
    "papermill": {
     "duration": 0.043928,
     "end_time": "2024-12-01T10:34:03.329296",
     "exception": false,
     "start_time": "2024-12-01T10:34:03.285368",
     "status": "completed"
    },
    "tags": []
   },
   "outputs": [
    {
     "name": "stdout",
     "output_type": "stream",
     "text": [
      "0.8380028123402079\n"
     ]
    }
   ],
   "source": [
    "#Evaluation function\n",
    "def quadratic_weighted_kappa(y_true, y_pred, n_classes):\n",
    "    \"\"\"\n",
    "    Calculate the Quadratic Weighted Kappa (QWK) score.\n",
    "\n",
    "    Parameters:\n",
    "    y_true (list or numpy array): Actual values (ground truth).\n",
    "    y_pred (list or numpy array): Predicted values.\n",
    "    n_classes (int): Number of distinct classes/labels.\n",
    "\n",
    "    Returns:\n",
    "    float: QWK score.\n",
    "    \"\"\"\n",
    "    # Create histogram matrix O (observed matrix)\n",
    "    O = np.zeros((n_classes, n_classes), dtype=np.float64)\n",
    "    for true, pred in zip(y_true, y_pred):\n",
    "        O[true, pred] += 1\n",
    "\n",
    "    # Create weight matrix W\n",
    "    W = np.zeros((n_classes, n_classes), dtype=np.float64)\n",
    "    for i in range(n_classes):\n",
    "        for j in range(n_classes):\n",
    "            W[i, j] = ((i - j) ** 2) / ((n_classes - 1) ** 2)\n",
    "\n",
    "    # Create expected matrix E\n",
    "    actual_hist = np.sum(O, axis=1)\n",
    "    pred_hist = np.sum(O, axis=0)\n",
    "    E = np.outer(actual_hist, pred_hist) / np.sum(O)\n",
    "\n",
    "    # Calculate QWK\n",
    "    numerator = np.sum(W * O)\n",
    "    denominator = np.sum(W * E)\n",
    "    kappa = 1 - (numerator / denominator)\n",
    "\n",
    "    return kappa\n",
    "\n",
    "val_preds = rf_model.predict(X_val)\n",
    "val_preds = np.array(val_preds).astype(int)\n",
    "\n",
    "y_val = np.array(y_val).astype(int)\n",
    "\n",
    "print(quadratic_weighted_kappa(y_val, val_preds, 4))"
   ]
  },
  {
   "cell_type": "markdown",
   "id": "a1bf93fd",
   "metadata": {
    "papermill": {
     "duration": 0.00686,
     "end_time": "2024-12-01T10:34:03.343141",
     "exception": false,
     "start_time": "2024-12-01T10:34:03.336281",
     "status": "completed"
    },
    "tags": []
   },
   "source": [
    "### Handle test data"
   ]
  },
  {
   "cell_type": "code",
   "execution_count": 16,
   "id": "d6795f6d",
   "metadata": {
    "execution": {
     "iopub.execute_input": "2024-12-01T10:34:03.359280Z",
     "iopub.status.busy": "2024-12-01T10:34:03.358258Z",
     "iopub.status.idle": "2024-12-01T10:34:03.370915Z",
     "shell.execute_reply": "2024-12-01T10:34:03.369689Z"
    },
    "papermill": {
     "duration": 0.023716,
     "end_time": "2024-12-01T10:34:03.373634",
     "exception": false,
     "start_time": "2024-12-01T10:34:03.349918",
     "status": "completed"
    },
    "tags": []
   },
   "outputs": [],
   "source": [
    "test_data = pd.read_csv('/kaggle/input/child-mind-institute-problematic-internet-use/test.csv')"
   ]
  },
  {
   "cell_type": "code",
   "execution_count": 17,
   "id": "51eb77d0",
   "metadata": {
    "execution": {
     "iopub.execute_input": "2024-12-01T10:34:03.388702Z",
     "iopub.status.busy": "2024-12-01T10:34:03.387610Z",
     "iopub.status.idle": "2024-12-01T10:34:03.426235Z",
     "shell.execute_reply": "2024-12-01T10:34:03.425154Z"
    },
    "papermill": {
     "duration": 0.048641,
     "end_time": "2024-12-01T10:34:03.428765",
     "exception": false,
     "start_time": "2024-12-01T10:34:03.380124",
     "status": "completed"
    },
    "tags": []
   },
   "outputs": [],
   "source": [
    "test_categorical_cols = ['Basic_Demos-Enroll_Season', 'CGAS-Season', 'Physical-Season',\n",
    "       'Fitness_Endurance-Season', 'FGC-Season', 'BIA-Season', 'PAQ_A-Season',\n",
    "       'PAQ_C-Season','SDS-Season', 'PreInt_EduHx-Season']\n",
    "for col in test_categorical_cols:\n",
    "    test_data = encode_and_bind(test_data, col)"
   ]
  },
  {
   "cell_type": "code",
   "execution_count": 18,
   "id": "e3d59fdf",
   "metadata": {
    "execution": {
     "iopub.execute_input": "2024-12-01T10:34:03.443263Z",
     "iopub.status.busy": "2024-12-01T10:34:03.442884Z",
     "iopub.status.idle": "2024-12-01T10:34:03.469741Z",
     "shell.execute_reply": "2024-12-01T10:34:03.468534Z"
    },
    "papermill": {
     "duration": 0.037286,
     "end_time": "2024-12-01T10:34:03.472579",
     "exception": false,
     "start_time": "2024-12-01T10:34:03.435293",
     "status": "completed"
    },
    "tags": []
   },
   "outputs": [],
   "source": [
    "binary_columns = [col for col in test_data.columns if test_data[col].nunique() == 2]\n",
    "columns_to_standardize = [col for col in test_data.columns if col not in binary_columns and col != 'sii' and col != 'id']\n",
    "test_data[columns_to_standardize] = scaler.fit_transform(test_data[columns_to_standardize])"
   ]
  },
  {
   "cell_type": "code",
   "execution_count": 19,
   "id": "34766445",
   "metadata": {
    "execution": {
     "iopub.execute_input": "2024-12-01T10:34:03.487114Z",
     "iopub.status.busy": "2024-12-01T10:34:03.486732Z",
     "iopub.status.idle": "2024-12-01T10:34:03.521113Z",
     "shell.execute_reply": "2024-12-01T10:34:03.519973Z"
    },
    "papermill": {
     "duration": 0.044667,
     "end_time": "2024-12-01T10:34:03.523733",
     "exception": false,
     "start_time": "2024-12-01T10:34:03.479066",
     "status": "completed"
    },
    "tags": []
   },
   "outputs": [],
   "source": [
    "test_X = test_data[filtered_features]\n",
    "\n",
    "test_X = test_X.fillna(test_X.mean())"
   ]
  },
  {
   "cell_type": "code",
   "execution_count": 20,
   "id": "0e6e1847",
   "metadata": {
    "execution": {
     "iopub.execute_input": "2024-12-01T10:34:03.538132Z",
     "iopub.status.busy": "2024-12-01T10:34:03.537738Z",
     "iopub.status.idle": "2024-12-01T10:34:03.567913Z",
     "shell.execute_reply": "2024-12-01T10:34:03.566753Z"
    },
    "papermill": {
     "duration": 0.040073,
     "end_time": "2024-12-01T10:34:03.570305",
     "exception": false,
     "start_time": "2024-12-01T10:34:03.530232",
     "status": "completed"
    },
    "tags": []
   },
   "outputs": [
    {
     "data": {
      "text/html": [
       "<div>\n",
       "<style scoped>\n",
       "    .dataframe tbody tr th:only-of-type {\n",
       "        vertical-align: middle;\n",
       "    }\n",
       "\n",
       "    .dataframe tbody tr th {\n",
       "        vertical-align: top;\n",
       "    }\n",
       "\n",
       "    .dataframe thead th {\n",
       "        text-align: right;\n",
       "    }\n",
       "</style>\n",
       "<table border=\"1\" class=\"dataframe\">\n",
       "  <thead>\n",
       "    <tr style=\"text-align: right;\">\n",
       "      <th></th>\n",
       "      <th>Basic_Demos-Age</th>\n",
       "      <th>Basic_Demos-Sex</th>\n",
       "      <th>CGAS-CGAS_Score</th>\n",
       "      <th>Physical-BMI</th>\n",
       "      <th>Physical-Height</th>\n",
       "      <th>Physical-Weight</th>\n",
       "      <th>Physical-Waist_Circumference</th>\n",
       "      <th>Physical-Diastolic_BP</th>\n",
       "      <th>Physical-HeartRate</th>\n",
       "      <th>Physical-Systolic_BP</th>\n",
       "      <th>...</th>\n",
       "      <th>PAQ_C-Season_Summer</th>\n",
       "      <th>PAQ_C-Season_Winter</th>\n",
       "      <th>SDS-Season_Fall</th>\n",
       "      <th>SDS-Season_Spring</th>\n",
       "      <th>SDS-Season_Summer</th>\n",
       "      <th>SDS-Season_Winter</th>\n",
       "      <th>PreInt_EduHx-Season_Fall</th>\n",
       "      <th>PreInt_EduHx-Season_Spring</th>\n",
       "      <th>PreInt_EduHx-Season_Summer</th>\n",
       "      <th>PreInt_EduHx-Season_Winter</th>\n",
       "    </tr>\n",
       "  </thead>\n",
       "  <tbody>\n",
       "    <tr>\n",
       "      <th>0</th>\n",
       "      <td>-1.583385</td>\n",
       "      <td>0</td>\n",
       "      <td>-1.090305e+00</td>\n",
       "      <td>-6.249326e-01</td>\n",
       "      <td>-1.043709e+00</td>\n",
       "      <td>-1.250822e+00</td>\n",
       "      <td>4.662937e-16</td>\n",
       "      <td>-6.055762e-17</td>\n",
       "      <td>-5.366078e-16</td>\n",
       "      <td>-8.074349e-17</td>\n",
       "      <td>...</td>\n",
       "      <td>0</td>\n",
       "      <td>0</td>\n",
       "      <td>0</td>\n",
       "      <td>0</td>\n",
       "      <td>0</td>\n",
       "      <td>0</td>\n",
       "      <td>1</td>\n",
       "      <td>0</td>\n",
       "      <td>0</td>\n",
       "      <td>0</td>\n",
       "    </tr>\n",
       "    <tr>\n",
       "      <th>1</th>\n",
       "      <td>-0.481900</td>\n",
       "      <td>0</td>\n",
       "      <td>-4.857226e-17</td>\n",
       "      <td>-1.225173e+00</td>\n",
       "      <td>-7.438588e-01</td>\n",
       "      <td>-1.462229e+00</td>\n",
       "      <td>-1.214286e+00</td>\n",
       "      <td>2.484271e-01</td>\n",
       "      <td>-1.308011e+00</td>\n",
       "      <td>2.197332e-01</td>\n",
       "      <td>...</td>\n",
       "      <td>0</td>\n",
       "      <td>0</td>\n",
       "      <td>1</td>\n",
       "      <td>0</td>\n",
       "      <td>0</td>\n",
       "      <td>0</td>\n",
       "      <td>0</td>\n",
       "      <td>0</td>\n",
       "      <td>1</td>\n",
       "      <td>0</td>\n",
       "    </tr>\n",
       "    <tr>\n",
       "      <th>2</th>\n",
       "      <td>-0.206529</td>\n",
       "      <td>1</td>\n",
       "      <td>8.058773e-01</td>\n",
       "      <td>-6.732225e-01</td>\n",
       "      <td>5.305039e-01</td>\n",
       "      <td>-1.585549e-01</td>\n",
       "      <td>4.662937e-16</td>\n",
       "      <td>-3.092664e-01</td>\n",
       "      <td>1.382755e+00</td>\n",
       "      <td>-2.690610e-02</td>\n",
       "      <td>...</td>\n",
       "      <td>1</td>\n",
       "      <td>0</td>\n",
       "      <td>1</td>\n",
       "      <td>0</td>\n",
       "      <td>0</td>\n",
       "      <td>0</td>\n",
       "      <td>0</td>\n",
       "      <td>0</td>\n",
       "      <td>1</td>\n",
       "      <td>0</td>\n",
       "    </tr>\n",
       "    <tr>\n",
       "      <th>3</th>\n",
       "      <td>-0.481900</td>\n",
       "      <td>0</td>\n",
       "      <td>8.058773e-01</td>\n",
       "      <td>-3.260439e-01</td>\n",
       "      <td>4.555414e-01</td>\n",
       "      <td>1.057033e-01</td>\n",
       "      <td>4.662937e-16</td>\n",
       "      <td>-5.881131e-01</td>\n",
       "      <td>1.719101e+00</td>\n",
       "      <td>-2.690610e-02</td>\n",
       "      <td>...</td>\n",
       "      <td>0</td>\n",
       "      <td>1</td>\n",
       "      <td>0</td>\n",
       "      <td>0</td>\n",
       "      <td>1</td>\n",
       "      <td>0</td>\n",
       "      <td>0</td>\n",
       "      <td>0</td>\n",
       "      <td>0</td>\n",
       "      <td>1</td>\n",
       "    </tr>\n",
       "    <tr>\n",
       "      <th>4</th>\n",
       "      <td>1.996442</td>\n",
       "      <td>1</td>\n",
       "      <td>-4.857226e-17</td>\n",
       "      <td>7.173749e-16</td>\n",
       "      <td>2.732857e-16</td>\n",
       "      <td>-8.540177e-16</td>\n",
       "      <td>4.662937e-16</td>\n",
       "      <td>-6.055762e-17</td>\n",
       "      <td>-5.366078e-16</td>\n",
       "      <td>-8.074349e-17</td>\n",
       "      <td>...</td>\n",
       "      <td>0</td>\n",
       "      <td>0</td>\n",
       "      <td>0</td>\n",
       "      <td>0</td>\n",
       "      <td>0</td>\n",
       "      <td>0</td>\n",
       "      <td>0</td>\n",
       "      <td>0</td>\n",
       "      <td>0</td>\n",
       "      <td>0</td>\n",
       "    </tr>\n",
       "  </tbody>\n",
       "</table>\n",
       "<p>5 rows × 83 columns</p>\n",
       "</div>"
      ],
      "text/plain": [
       "   Basic_Demos-Age  Basic_Demos-Sex  CGAS-CGAS_Score  Physical-BMI  \\\n",
       "0        -1.583385                0    -1.090305e+00 -6.249326e-01   \n",
       "1        -0.481900                0    -4.857226e-17 -1.225173e+00   \n",
       "2        -0.206529                1     8.058773e-01 -6.732225e-01   \n",
       "3        -0.481900                0     8.058773e-01 -3.260439e-01   \n",
       "4         1.996442                1    -4.857226e-17  7.173749e-16   \n",
       "\n",
       "   Physical-Height  Physical-Weight  Physical-Waist_Circumference  \\\n",
       "0    -1.043709e+00    -1.250822e+00                  4.662937e-16   \n",
       "1    -7.438588e-01    -1.462229e+00                 -1.214286e+00   \n",
       "2     5.305039e-01    -1.585549e-01                  4.662937e-16   \n",
       "3     4.555414e-01     1.057033e-01                  4.662937e-16   \n",
       "4     2.732857e-16    -8.540177e-16                  4.662937e-16   \n",
       "\n",
       "   Physical-Diastolic_BP  Physical-HeartRate  Physical-Systolic_BP  ...  \\\n",
       "0          -6.055762e-17       -5.366078e-16         -8.074349e-17  ...   \n",
       "1           2.484271e-01       -1.308011e+00          2.197332e-01  ...   \n",
       "2          -3.092664e-01        1.382755e+00         -2.690610e-02  ...   \n",
       "3          -5.881131e-01        1.719101e+00         -2.690610e-02  ...   \n",
       "4          -6.055762e-17       -5.366078e-16         -8.074349e-17  ...   \n",
       "\n",
       "   PAQ_C-Season_Summer  PAQ_C-Season_Winter  SDS-Season_Fall  \\\n",
       "0                    0                    0                0   \n",
       "1                    0                    0                1   \n",
       "2                    1                    0                1   \n",
       "3                    0                    1                0   \n",
       "4                    0                    0                0   \n",
       "\n",
       "   SDS-Season_Spring  SDS-Season_Summer  SDS-Season_Winter  \\\n",
       "0                  0                  0                  0   \n",
       "1                  0                  0                  0   \n",
       "2                  0                  0                  0   \n",
       "3                  0                  1                  0   \n",
       "4                  0                  0                  0   \n",
       "\n",
       "   PreInt_EduHx-Season_Fall  PreInt_EduHx-Season_Spring  \\\n",
       "0                         1                           0   \n",
       "1                         0                           0   \n",
       "2                         0                           0   \n",
       "3                         0                           0   \n",
       "4                         0                           0   \n",
       "\n",
       "   PreInt_EduHx-Season_Summer  PreInt_EduHx-Season_Winter  \n",
       "0                           0                           0  \n",
       "1                           1                           0  \n",
       "2                           1                           0  \n",
       "3                           0                           1  \n",
       "4                           0                           0  \n",
       "\n",
       "[5 rows x 83 columns]"
      ]
     },
     "execution_count": 20,
     "metadata": {},
     "output_type": "execute_result"
    }
   ],
   "source": [
    "test_X.head()"
   ]
  },
  {
   "cell_type": "code",
   "execution_count": 21,
   "id": "22e2ac1d",
   "metadata": {
    "execution": {
     "iopub.execute_input": "2024-12-01T10:34:03.585558Z",
     "iopub.status.busy": "2024-12-01T10:34:03.585174Z",
     "iopub.status.idle": "2024-12-01T10:34:03.602933Z",
     "shell.execute_reply": "2024-12-01T10:34:03.601534Z"
    },
    "papermill": {
     "duration": 0.028404,
     "end_time": "2024-12-01T10:34:03.605597",
     "exception": false,
     "start_time": "2024-12-01T10:34:03.577193",
     "status": "completed"
    },
    "tags": []
   },
   "outputs": [],
   "source": [
    "test_preds = rf_model.predict(test_X)\n",
    "test_preds = np.array(test_preds).astype(int)"
   ]
  },
  {
   "cell_type": "markdown",
   "id": "174445ec",
   "metadata": {
    "papermill": {
     "duration": 0.006524,
     "end_time": "2024-12-01T10:34:03.619088",
     "exception": false,
     "start_time": "2024-12-01T10:34:03.612564",
     "status": "completed"
    },
    "tags": []
   },
   "source": [
    "### Submit"
   ]
  },
  {
   "cell_type": "code",
   "execution_count": 22,
   "id": "5e2fe94e",
   "metadata": {
    "execution": {
     "iopub.execute_input": "2024-12-01T10:34:03.634771Z",
     "iopub.status.busy": "2024-12-01T10:34:03.633781Z",
     "iopub.status.idle": "2024-12-01T10:34:03.643282Z",
     "shell.execute_reply": "2024-12-01T10:34:03.641969Z"
    },
    "papermill": {
     "duration": 0.020208,
     "end_time": "2024-12-01T10:34:03.645979",
     "exception": false,
     "start_time": "2024-12-01T10:34:03.625771",
     "status": "completed"
    },
    "tags": []
   },
   "outputs": [],
   "source": [
    "# Run the code to save predictions in the format used for competition scoring\n",
    "\n",
    "output = pd.DataFrame({'id': test_data.id,\n",
    "                       'sii': test_preds})\n",
    "output.to_csv('submission.csv', index=False)"
   ]
  },
  {
   "cell_type": "code",
   "execution_count": null,
   "id": "3cb788b5",
   "metadata": {
    "papermill": {
     "duration": 0.006792,
     "end_time": "2024-12-01T10:34:03.659807",
     "exception": false,
     "start_time": "2024-12-01T10:34:03.653015",
     "status": "completed"
    },
    "tags": []
   },
   "outputs": [],
   "source": []
  }
 ],
 "metadata": {
  "kaggle": {
   "accelerator": "none",
   "dataSources": [
    {
     "databundleVersionId": 9643020,
     "sourceId": 81933,
     "sourceType": "competition"
    }
   ],
   "dockerImageVersionId": 30786,
   "isGpuEnabled": false,
   "isInternetEnabled": false,
   "language": "python",
   "sourceType": "notebook"
  },
  "kernelspec": {
   "display_name": "Python 3",
   "language": "python",
   "name": "python3"
  },
  "language_info": {
   "codemirror_mode": {
    "name": "ipython",
    "version": 3
   },
   "file_extension": ".py",
   "mimetype": "text/x-python",
   "name": "python",
   "nbconvert_exporter": "python",
   "pygments_lexer": "ipython3",
   "version": "3.10.14"
  },
  "papermill": {
   "default_parameters": {},
   "duration": 8.4133,
   "end_time": "2024-12-01T10:34:04.290853",
   "environment_variables": {},
   "exception": null,
   "input_path": "__notebook__.ipynb",
   "output_path": "__notebook__.ipynb",
   "parameters": {},
   "start_time": "2024-12-01T10:33:55.877553",
   "version": "2.6.0"
  }
 },
 "nbformat": 4,
 "nbformat_minor": 5
}
