{
 "cells": [
  {
   "cell_type": "markdown",
   "id": "e10dacee",
   "metadata": {
    "papermill": {
     "duration": 0.006759,
     "end_time": "2024-12-01T09:38:25.789196",
     "exception": false,
     "start_time": "2024-12-01T09:38:25.782437",
     "status": "completed"
    },
    "tags": []
   },
   "source": [
    "Import required libraries"
   ]
  },
  {
   "cell_type": "code",
   "execution_count": 1,
   "id": "fa5eaf88",
   "metadata": {
    "_cell_guid": "b1076dfc-b9ad-4769-8c92-a6c4dae69d19",
    "_uuid": "8f2839f25d086af736a60e9eeb907d3b93b6e0e5",
    "execution": {
     "iopub.execute_input": "2024-12-01T09:38:25.804434Z",
     "iopub.status.busy": "2024-12-01T09:38:25.803681Z",
     "iopub.status.idle": "2024-12-01T09:38:28.132619Z",
     "shell.execute_reply": "2024-12-01T09:38:28.131050Z"
    },
    "papermill": {
     "duration": 2.340006,
     "end_time": "2024-12-01T09:38:28.135444",
     "exception": false,
     "start_time": "2024-12-01T09:38:25.795438",
     "status": "completed"
    },
    "tags": []
   },
   "outputs": [],
   "source": [
    "import pandas as pd\n",
    "import numpy as np\n",
    "import matplotlib.pyplot as plt\n",
    "from sklearn.preprocessing import StandardScaler"
   ]
  },
  {
   "cell_type": "code",
   "execution_count": 2,
   "id": "91099030",
   "metadata": {
    "execution": {
     "iopub.execute_input": "2024-12-01T09:38:28.150703Z",
     "iopub.status.busy": "2024-12-01T09:38:28.150155Z",
     "iopub.status.idle": "2024-12-01T09:38:28.156595Z",
     "shell.execute_reply": "2024-12-01T09:38:28.155147Z"
    },
    "papermill": {
     "duration": 0.016857,
     "end_time": "2024-12-01T09:38:28.158977",
     "exception": false,
     "start_time": "2024-12-01T09:38:28.142120",
     "status": "completed"
    },
    "tags": []
   },
   "outputs": [],
   "source": [
    "scaler = StandardScaler()"
   ]
  },
  {
   "cell_type": "markdown",
   "id": "c6ea4b21",
   "metadata": {
    "papermill": {
     "duration": 0.005681,
     "end_time": "2024-12-01T09:38:28.170866",
     "exception": false,
     "start_time": "2024-12-01T09:38:28.165185",
     "status": "completed"
    },
    "tags": []
   },
   "source": [
    "Read the train CSV file"
   ]
  },
  {
   "cell_type": "code",
   "execution_count": 3,
   "id": "adbbd600",
   "metadata": {
    "execution": {
     "iopub.execute_input": "2024-12-01T09:38:28.185746Z",
     "iopub.status.busy": "2024-12-01T09:38:28.185349Z",
     "iopub.status.idle": "2024-12-01T09:38:28.268262Z",
     "shell.execute_reply": "2024-12-01T09:38:28.267013Z"
    },
    "papermill": {
     "duration": 0.092923,
     "end_time": "2024-12-01T09:38:28.270851",
     "exception": false,
     "start_time": "2024-12-01T09:38:28.177928",
     "status": "completed"
    },
    "tags": []
   },
   "outputs": [],
   "source": [
    "df = pd.read_csv(\"/kaggle/input/child-mind-institute-problematic-internet-use/train.csv\", index_col=\"id\")"
   ]
  },
  {
   "cell_type": "markdown",
   "id": "c5ab5630",
   "metadata": {
    "papermill": {
     "duration": 0.005646,
     "end_time": "2024-12-01T09:38:28.282704",
     "exception": false,
     "start_time": "2024-12-01T09:38:28.277058",
     "status": "completed"
    },
    "tags": []
   },
   "source": [
    "Dataset overview"
   ]
  },
  {
   "cell_type": "markdown",
   "id": "01c88530",
   "metadata": {
    "papermill": {
     "duration": 0.005786,
     "end_time": "2024-12-01T09:38:28.294451",
     "exception": false,
     "start_time": "2024-12-01T09:38:28.288665",
     "status": "completed"
    },
    "tags": []
   },
   "source": [
    "Delete row which not have output"
   ]
  },
  {
   "cell_type": "code",
   "execution_count": 4,
   "id": "00c3145d",
   "metadata": {
    "execution": {
     "iopub.execute_input": "2024-12-01T09:38:28.309899Z",
     "iopub.status.busy": "2024-12-01T09:38:28.309497Z",
     "iopub.status.idle": "2024-12-01T09:38:28.323072Z",
     "shell.execute_reply": "2024-12-01T09:38:28.321804Z"
    },
    "papermill": {
     "duration": 0.024258,
     "end_time": "2024-12-01T09:38:28.325589",
     "exception": false,
     "start_time": "2024-12-01T09:38:28.301331",
     "status": "completed"
    },
    "tags": []
   },
   "outputs": [],
   "source": [
    "df = df.dropna(subset=['sii'])"
   ]
  },
  {
   "cell_type": "markdown",
   "id": "0ea7d1f8",
   "metadata": {
    "papermill": {
     "duration": 0.006222,
     "end_time": "2024-12-01T09:38:28.337887",
     "exception": false,
     "start_time": "2024-12-01T09:38:28.331665",
     "status": "completed"
    },
    "tags": []
   },
   "source": [
    "Remove columns which not appear in test.csv"
   ]
  },
  {
   "cell_type": "markdown",
   "id": "634c019d",
   "metadata": {
    "papermill": {
     "duration": 0.007827,
     "end_time": "2024-12-01T09:38:28.352327",
     "exception": false,
     "start_time": "2024-12-01T09:38:28.344500",
     "status": "completed"
    },
    "tags": []
   },
   "source": [
    "One-hot encoding process"
   ]
  },
  {
   "cell_type": "code",
   "execution_count": 5,
   "id": "a4b1fa7d",
   "metadata": {
    "execution": {
     "iopub.execute_input": "2024-12-01T09:38:28.366267Z",
     "iopub.status.busy": "2024-12-01T09:38:28.365817Z",
     "iopub.status.idle": "2024-12-01T09:38:28.372241Z",
     "shell.execute_reply": "2024-12-01T09:38:28.371128Z"
    },
    "papermill": {
     "duration": 0.016142,
     "end_time": "2024-12-01T09:38:28.374635",
     "exception": false,
     "start_time": "2024-12-01T09:38:28.358493",
     "status": "completed"
    },
    "tags": []
   },
   "outputs": [],
   "source": [
    "#Helper function\n",
    "def encode_and_bind(original_dataframe, feature_to_encode):\n",
    "    dummies = pd.get_dummies(original_dataframe[[feature_to_encode]], dtype=int)\n",
    "    original_dataframe = pd.concat([original_dataframe, dummies], axis=1)\n",
    "    original_dataframe = original_dataframe.drop([feature_to_encode], axis=1)\n",
    "    return original_dataframe"
   ]
  },
  {
   "cell_type": "code",
   "execution_count": 6,
   "id": "ab8454b7",
   "metadata": {
    "execution": {
     "iopub.execute_input": "2024-12-01T09:38:28.389470Z",
     "iopub.status.busy": "2024-12-01T09:38:28.388224Z",
     "iopub.status.idle": "2024-12-01T09:38:28.468294Z",
     "shell.execute_reply": "2024-12-01T09:38:28.466871Z"
    },
    "papermill": {
     "duration": 0.090209,
     "end_time": "2024-12-01T09:38:28.471073",
     "exception": false,
     "start_time": "2024-12-01T09:38:28.380864",
     "status": "completed"
    },
    "tags": []
   },
   "outputs": [],
   "source": [
    "# Proceed with encoding\n",
    "categorical_cols = ['Basic_Demos-Enroll_Season', 'CGAS-Season', 'Physical-Season',\n",
    "       'Fitness_Endurance-Season', 'FGC-Season', 'BIA-Season', 'PAQ_A-Season',\n",
    "       'PAQ_C-Season', 'PCIAT-Season', 'SDS-Season', 'PreInt_EduHx-Season']\n",
    "df_encoded = df\n",
    "for col in categorical_cols:\n",
    "    df_encoded = encode_and_bind(df_encoded, col)"
   ]
  },
  {
   "cell_type": "code",
   "execution_count": 7,
   "id": "95192632",
   "metadata": {
    "execution": {
     "iopub.execute_input": "2024-12-01T09:38:28.485555Z",
     "iopub.status.busy": "2024-12-01T09:38:28.485157Z",
     "iopub.status.idle": "2024-12-01T09:38:28.529672Z",
     "shell.execute_reply": "2024-12-01T09:38:28.528408Z"
    },
    "papermill": {
     "duration": 0.054338,
     "end_time": "2024-12-01T09:38:28.532178",
     "exception": false,
     "start_time": "2024-12-01T09:38:28.477840",
     "status": "completed"
    },
    "tags": []
   },
   "outputs": [],
   "source": [
    "binary_columns = [col for col in df_encoded.columns if df_encoded[col].nunique() == 2]\n",
    "columns_to_standardize = [col for col in df_encoded.columns if col not in binary_columns and col != 'sii']\n",
    "df_encoded[columns_to_standardize] = scaler.fit_transform(df_encoded[columns_to_standardize])"
   ]
  },
  {
   "cell_type": "markdown",
   "id": "eb187037",
   "metadata": {
    "papermill": {
     "duration": 0.005775,
     "end_time": "2024-12-01T09:38:28.544753",
     "exception": false,
     "start_time": "2024-12-01T09:38:28.538978",
     "status": "completed"
    },
    "tags": []
   },
   "source": [
    "Bring output to end"
   ]
  },
  {
   "cell_type": "code",
   "execution_count": 8,
   "id": "72b17cf5",
   "metadata": {
    "execution": {
     "iopub.execute_input": "2024-12-01T09:38:28.559570Z",
     "iopub.status.busy": "2024-12-01T09:38:28.559148Z",
     "iopub.status.idle": "2024-12-01T09:38:28.570250Z",
     "shell.execute_reply": "2024-12-01T09:38:28.569046Z"
    },
    "papermill": {
     "duration": 0.021606,
     "end_time": "2024-12-01T09:38:28.573006",
     "exception": false,
     "start_time": "2024-12-01T09:38:28.551400",
     "status": "completed"
    },
    "tags": []
   },
   "outputs": [],
   "source": [
    "cols = [col for col in df_encoded.columns if col != 'sii'] + ['sii']\n",
    "df_encoded = df_encoded[cols]"
   ]
  },
  {
   "cell_type": "code",
   "execution_count": 9,
   "id": "db173652",
   "metadata": {
    "execution": {
     "iopub.execute_input": "2024-12-01T09:38:28.588081Z",
     "iopub.status.busy": "2024-12-01T09:38:28.587662Z",
     "iopub.status.idle": "2024-12-01T09:38:28.656463Z",
     "shell.execute_reply": "2024-12-01T09:38:28.655359Z"
    },
    "papermill": {
     "duration": 0.079762,
     "end_time": "2024-12-01T09:38:28.659261",
     "exception": false,
     "start_time": "2024-12-01T09:38:28.579499",
     "status": "completed"
    },
    "tags": []
   },
   "outputs": [],
   "source": [
    "#missing colums\n",
    "missing_columns = ['PCIAT-PCIAT_01', 'PCIAT-PCIAT_02', 'PCIAT-PCIAT_03', 'PCIAT-PCIAT_04',\n",
    "       'PCIAT-PCIAT_05', 'PCIAT-PCIAT_06', 'PCIAT-PCIAT_07', 'PCIAT-PCIAT_08',\n",
    "       'PCIAT-PCIAT_09', 'PCIAT-PCIAT_10', 'PCIAT-PCIAT_11', 'PCIAT-PCIAT_12',\n",
    "       'PCIAT-PCIAT_13', 'PCIAT-PCIAT_14', 'PCIAT-PCIAT_15', 'PCIAT-PCIAT_16',\n",
    "       'PCIAT-PCIAT_17', 'PCIAT-PCIAT_18', 'PCIAT-PCIAT_19', 'PCIAT-PCIAT_20',\n",
    "       'PCIAT-PCIAT_Total']\n",
    "df_processed = df_encoded\n",
    "for column in missing_columns:\n",
    "    df_processed = df_processed.drop(columns=column)"
   ]
  },
  {
   "cell_type": "code",
   "execution_count": 10,
   "id": "2c74024c",
   "metadata": {
    "execution": {
     "iopub.execute_input": "2024-12-01T09:38:28.673217Z",
     "iopub.status.busy": "2024-12-01T09:38:28.672767Z",
     "iopub.status.idle": "2024-12-01T09:38:28.682237Z",
     "shell.execute_reply": "2024-12-01T09:38:28.680893Z"
    },
    "papermill": {
     "duration": 0.020121,
     "end_time": "2024-12-01T09:38:28.685468",
     "exception": false,
     "start_time": "2024-12-01T09:38:28.665347",
     "status": "completed"
    },
    "tags": []
   },
   "outputs": [],
   "source": [
    "features = [col for col in df_processed.columns if col != 'sii']\n",
    "X = df_processed[features]\n",
    "y = df_processed.sii"
   ]
  },
  {
   "cell_type": "code",
   "execution_count": 11,
   "id": "831d2bcb",
   "metadata": {
    "execution": {
     "iopub.execute_input": "2024-12-01T09:38:28.702225Z",
     "iopub.status.busy": "2024-12-01T09:38:28.701737Z",
     "iopub.status.idle": "2024-12-01T09:38:28.741920Z",
     "shell.execute_reply": "2024-12-01T09:38:28.740849Z"
    },
    "papermill": {
     "duration": 0.052675,
     "end_time": "2024-12-01T09:38:28.744741",
     "exception": false,
     "start_time": "2024-12-01T09:38:28.692066",
     "status": "completed"
    },
    "tags": []
   },
   "outputs": [],
   "source": [
    "#Fill missing cells\n",
    "X = X.fillna(X.mean())"
   ]
  },
  {
   "cell_type": "code",
   "execution_count": 12,
   "id": "7f738fe6",
   "metadata": {
    "execution": {
     "iopub.execute_input": "2024-12-01T09:38:28.758681Z",
     "iopub.status.busy": "2024-12-01T09:38:28.758277Z",
     "iopub.status.idle": "2024-12-01T09:38:28.769185Z",
     "shell.execute_reply": "2024-12-01T09:38:28.768019Z"
    },
    "papermill": {
     "duration": 0.021226,
     "end_time": "2024-12-01T09:38:28.772015",
     "exception": false,
     "start_time": "2024-12-01T09:38:28.750789",
     "status": "completed"
    },
    "tags": []
   },
   "outputs": [],
   "source": [
    "exclusion_list = [\n",
    "    \"Fitness_Endurance-Season_Winter\", \"BIA-Season_Spring\", \n",
    "    \"PAQ_A-Season_Fall\", \"PAQ_A-Season_Spring\", \"PAQ_A-Season_Winter\", \n",
    "    \"PCIAT-Season_Fall\", \"PCIAT-Season_Spring\", \"PCIAT-Season_Summer\", \n",
    "    \"PCIAT-Season_Winter\"\n",
    "]\n",
    "filtered_features = [feature for feature in features if feature not in exclusion_list]\n",
    "X = X[filtered_features]"
   ]
  },
  {
   "cell_type": "code",
   "execution_count": 13,
   "id": "970e6410",
   "metadata": {
    "execution": {
     "iopub.execute_input": "2024-12-01T09:38:28.787890Z",
     "iopub.status.busy": "2024-12-01T09:38:28.787495Z",
     "iopub.status.idle": "2024-12-01T09:38:29.002209Z",
     "shell.execute_reply": "2024-12-01T09:38:29.001016Z"
    },
    "papermill": {
     "duration": 0.22553,
     "end_time": "2024-12-01T09:38:29.004720",
     "exception": false,
     "start_time": "2024-12-01T09:38:28.779190",
     "status": "completed"
    },
    "tags": []
   },
   "outputs": [],
   "source": [
    "from sklearn.model_selection import train_test_split\n",
    "X_train, X_val, y_train, y_val = train_test_split(X, y, test_size=0.2, random_state=42)"
   ]
  },
  {
   "cell_type": "code",
   "execution_count": 14,
   "id": "385d8230",
   "metadata": {
    "execution": {
     "iopub.execute_input": "2024-12-01T09:38:29.018826Z",
     "iopub.status.busy": "2024-12-01T09:38:29.017898Z",
     "iopub.status.idle": "2024-12-01T09:38:30.177957Z",
     "shell.execute_reply": "2024-12-01T09:38:30.176462Z"
    },
    "papermill": {
     "duration": 1.169755,
     "end_time": "2024-12-01T09:38:30.180580",
     "exception": false,
     "start_time": "2024-12-01T09:38:29.010825",
     "status": "completed"
    },
    "tags": []
   },
   "outputs": [
    {
     "data": {
      "text/html": [
       "<style>#sk-container-id-1 {color: black;background-color: white;}#sk-container-id-1 pre{padding: 0;}#sk-container-id-1 div.sk-toggleable {background-color: white;}#sk-container-id-1 label.sk-toggleable__label {cursor: pointer;display: block;width: 100%;margin-bottom: 0;padding: 0.3em;box-sizing: border-box;text-align: center;}#sk-container-id-1 label.sk-toggleable__label-arrow:before {content: \"▸\";float: left;margin-right: 0.25em;color: #696969;}#sk-container-id-1 label.sk-toggleable__label-arrow:hover:before {color: black;}#sk-container-id-1 div.sk-estimator:hover label.sk-toggleable__label-arrow:before {color: black;}#sk-container-id-1 div.sk-toggleable__content {max-height: 0;max-width: 0;overflow: hidden;text-align: left;background-color: #f0f8ff;}#sk-container-id-1 div.sk-toggleable__content pre {margin: 0.2em;color: black;border-radius: 0.25em;background-color: #f0f8ff;}#sk-container-id-1 input.sk-toggleable__control:checked~div.sk-toggleable__content {max-height: 200px;max-width: 100%;overflow: auto;}#sk-container-id-1 input.sk-toggleable__control:checked~label.sk-toggleable__label-arrow:before {content: \"▾\";}#sk-container-id-1 div.sk-estimator input.sk-toggleable__control:checked~label.sk-toggleable__label {background-color: #d4ebff;}#sk-container-id-1 div.sk-label input.sk-toggleable__control:checked~label.sk-toggleable__label {background-color: #d4ebff;}#sk-container-id-1 input.sk-hidden--visually {border: 0;clip: rect(1px 1px 1px 1px);clip: rect(1px, 1px, 1px, 1px);height: 1px;margin: -1px;overflow: hidden;padding: 0;position: absolute;width: 1px;}#sk-container-id-1 div.sk-estimator {font-family: monospace;background-color: #f0f8ff;border: 1px dotted black;border-radius: 0.25em;box-sizing: border-box;margin-bottom: 0.5em;}#sk-container-id-1 div.sk-estimator:hover {background-color: #d4ebff;}#sk-container-id-1 div.sk-parallel-item::after {content: \"\";width: 100%;border-bottom: 1px solid gray;flex-grow: 1;}#sk-container-id-1 div.sk-label:hover label.sk-toggleable__label {background-color: #d4ebff;}#sk-container-id-1 div.sk-serial::before {content: \"\";position: absolute;border-left: 1px solid gray;box-sizing: border-box;top: 0;bottom: 0;left: 50%;z-index: 0;}#sk-container-id-1 div.sk-serial {display: flex;flex-direction: column;align-items: center;background-color: white;padding-right: 0.2em;padding-left: 0.2em;position: relative;}#sk-container-id-1 div.sk-item {position: relative;z-index: 1;}#sk-container-id-1 div.sk-parallel {display: flex;align-items: stretch;justify-content: center;background-color: white;position: relative;}#sk-container-id-1 div.sk-item::before, #sk-container-id-1 div.sk-parallel-item::before {content: \"\";position: absolute;border-left: 1px solid gray;box-sizing: border-box;top: 0;bottom: 0;left: 50%;z-index: -1;}#sk-container-id-1 div.sk-parallel-item {display: flex;flex-direction: column;z-index: 1;position: relative;background-color: white;}#sk-container-id-1 div.sk-parallel-item:first-child::after {align-self: flex-end;width: 50%;}#sk-container-id-1 div.sk-parallel-item:last-child::after {align-self: flex-start;width: 50%;}#sk-container-id-1 div.sk-parallel-item:only-child::after {width: 0;}#sk-container-id-1 div.sk-dashed-wrapped {border: 1px dashed gray;margin: 0 0.4em 0.5em 0.4em;box-sizing: border-box;padding-bottom: 0.4em;background-color: white;}#sk-container-id-1 div.sk-label label {font-family: monospace;font-weight: bold;display: inline-block;line-height: 1.2em;}#sk-container-id-1 div.sk-label-container {text-align: center;}#sk-container-id-1 div.sk-container {/* jupyter's `normalize.less` sets `[hidden] { display: none; }` but bootstrap.min.css set `[hidden] { display: none !important; }` so we also need the `!important` here to be able to override the default hidden behavior on the sphinx rendered scikit-learn.org. See: https://github.com/scikit-learn/scikit-learn/issues/21755 */display: inline-block !important;position: relative;}#sk-container-id-1 div.sk-text-repr-fallback {display: none;}</style><div id=\"sk-container-id-1\" class=\"sk-top-container\"><div class=\"sk-text-repr-fallback\"><pre>RandomForestClassifier(random_state=42)</pre><b>In a Jupyter environment, please rerun this cell to show the HTML representation or trust the notebook. <br />On GitHub, the HTML representation is unable to render, please try loading this page with nbviewer.org.</b></div><div class=\"sk-container\" hidden><div class=\"sk-item\"><div class=\"sk-estimator sk-toggleable\"><input class=\"sk-toggleable__control sk-hidden--visually\" id=\"sk-estimator-id-1\" type=\"checkbox\" checked><label for=\"sk-estimator-id-1\" class=\"sk-toggleable__label sk-toggleable__label-arrow\">RandomForestClassifier</label><div class=\"sk-toggleable__content\"><pre>RandomForestClassifier(random_state=42)</pre></div></div></div></div></div>"
      ],
      "text/plain": [
       "RandomForestClassifier(random_state=42)"
      ]
     },
     "execution_count": 14,
     "metadata": {},
     "output_type": "execute_result"
    }
   ],
   "source": [
    "from sklearn.ensemble import RandomForestClassifier\n",
    "\n",
    "# Define a random forest model\n",
    "rf_model = RandomForestClassifier(n_estimators=100, random_state=42)\n",
    "rf_model.fit(X_train, y_train)"
   ]
  },
  {
   "cell_type": "markdown",
   "id": "da0ce22b",
   "metadata": {
    "papermill": {
     "duration": 0.00603,
     "end_time": "2024-12-01T09:38:30.192961",
     "exception": false,
     "start_time": "2024-12-01T09:38:30.186931",
     "status": "completed"
    },
    "tags": []
   },
   "source": [
    "### Evaluation function"
   ]
  },
  {
   "cell_type": "code",
   "execution_count": 15,
   "id": "b4445929",
   "metadata": {
    "execution": {
     "iopub.execute_input": "2024-12-01T09:38:30.207482Z",
     "iopub.status.busy": "2024-12-01T09:38:30.207071Z",
     "iopub.status.idle": "2024-12-01T09:38:30.242308Z",
     "shell.execute_reply": "2024-12-01T09:38:30.240802Z"
    },
    "papermill": {
     "duration": 0.045596,
     "end_time": "2024-12-01T09:38:30.244752",
     "exception": false,
     "start_time": "2024-12-01T09:38:30.199156",
     "status": "completed"
    },
    "tags": []
   },
   "outputs": [
    {
     "name": "stdout",
     "output_type": "stream",
     "text": [
      "0.2810574298657813\n"
     ]
    }
   ],
   "source": [
    "#Evaluation function\n",
    "def quadratic_weighted_kappa(y_true, y_pred, n_classes):\n",
    "    \"\"\"\n",
    "    Calculate the Quadratic Weighted Kappa (QWK) score.\n",
    "\n",
    "    Parameters:\n",
    "    y_true (list or numpy array): Actual values (ground truth).\n",
    "    y_pred (list or numpy array): Predicted values.\n",
    "    n_classes (int): Number of distinct classes/labels.\n",
    "\n",
    "    Returns:\n",
    "    float: QWK score.\n",
    "    \"\"\"\n",
    "    # Create histogram matrix O (observed matrix)\n",
    "    O = np.zeros((n_classes, n_classes), dtype=np.float64)\n",
    "    for true, pred in zip(y_true, y_pred):\n",
    "        O[true, pred] += 1\n",
    "\n",
    "    # Create weight matrix W\n",
    "    W = np.zeros((n_classes, n_classes), dtype=np.float64)\n",
    "    for i in range(n_classes):\n",
    "        for j in range(n_classes):\n",
    "            W[i, j] = ((i - j) ** 2) / ((n_classes - 1) ** 2)\n",
    "\n",
    "    # Create expected matrix E\n",
    "    actual_hist = np.sum(O, axis=1)\n",
    "    pred_hist = np.sum(O, axis=0)\n",
    "    E = np.outer(actual_hist, pred_hist) / np.sum(O)\n",
    "\n",
    "    # Calculate QWK\n",
    "    numerator = np.sum(W * O)\n",
    "    denominator = np.sum(W * E)\n",
    "    kappa = 1 - (numerator / denominator)\n",
    "\n",
    "    return kappa\n",
    "\n",
    "val_preds = rf_model.predict(X_val)\n",
    "val_preds = np.array(val_preds).astype(int)\n",
    "\n",
    "y_val = np.array(y_val).astype(int)\n",
    "\n",
    "print(quadratic_weighted_kappa(y_val, val_preds, 4))"
   ]
  },
  {
   "cell_type": "markdown",
   "id": "b949870e",
   "metadata": {
    "papermill": {
     "duration": 0.006682,
     "end_time": "2024-12-01T09:38:30.258591",
     "exception": false,
     "start_time": "2024-12-01T09:38:30.251909",
     "status": "completed"
    },
    "tags": []
   },
   "source": [
    "### Handle test data"
   ]
  },
  {
   "cell_type": "code",
   "execution_count": 16,
   "id": "97558aef",
   "metadata": {
    "execution": {
     "iopub.execute_input": "2024-12-01T09:38:30.273184Z",
     "iopub.status.busy": "2024-12-01T09:38:30.272759Z",
     "iopub.status.idle": "2024-12-01T09:38:30.284484Z",
     "shell.execute_reply": "2024-12-01T09:38:30.283117Z"
    },
    "papermill": {
     "duration": 0.022334,
     "end_time": "2024-12-01T09:38:30.287293",
     "exception": false,
     "start_time": "2024-12-01T09:38:30.264959",
     "status": "completed"
    },
    "tags": []
   },
   "outputs": [],
   "source": [
    "test_data = pd.read_csv('/kaggle/input/child-mind-institute-problematic-internet-use/test.csv')"
   ]
  },
  {
   "cell_type": "code",
   "execution_count": 17,
   "id": "30a41d77",
   "metadata": {
    "execution": {
     "iopub.execute_input": "2024-12-01T09:38:30.301677Z",
     "iopub.status.busy": "2024-12-01T09:38:30.301292Z",
     "iopub.status.idle": "2024-12-01T09:38:30.340554Z",
     "shell.execute_reply": "2024-12-01T09:38:30.339444Z"
    },
    "papermill": {
     "duration": 0.049647,
     "end_time": "2024-12-01T09:38:30.343413",
     "exception": false,
     "start_time": "2024-12-01T09:38:30.293766",
     "status": "completed"
    },
    "tags": []
   },
   "outputs": [],
   "source": [
    "test_categorical_cols = ['Basic_Demos-Enroll_Season', 'CGAS-Season', 'Physical-Season',\n",
    "       'Fitness_Endurance-Season', 'FGC-Season', 'BIA-Season', 'PAQ_A-Season',\n",
    "       'PAQ_C-Season','SDS-Season', 'PreInt_EduHx-Season']\n",
    "for col in test_categorical_cols:\n",
    "    test_data = encode_and_bind(test_data, col)"
   ]
  },
  {
   "cell_type": "code",
   "execution_count": 18,
   "id": "4fb32770",
   "metadata": {
    "execution": {
     "iopub.execute_input": "2024-12-01T09:38:30.360202Z",
     "iopub.status.busy": "2024-12-01T09:38:30.359550Z",
     "iopub.status.idle": "2024-12-01T09:38:30.390547Z",
     "shell.execute_reply": "2024-12-01T09:38:30.388972Z"
    },
    "papermill": {
     "duration": 0.043248,
     "end_time": "2024-12-01T09:38:30.393334",
     "exception": false,
     "start_time": "2024-12-01T09:38:30.350086",
     "status": "completed"
    },
    "tags": []
   },
   "outputs": [],
   "source": [
    "binary_columns = [col for col in test_data.columns if test_data[col].nunique() == 2]\n",
    "columns_to_standardize = [col for col in test_data.columns if col not in binary_columns and col != 'sii' and col != 'id']\n",
    "test_data[columns_to_standardize] = scaler.fit_transform(test_data[columns_to_standardize])"
   ]
  },
  {
   "cell_type": "code",
   "execution_count": 19,
   "id": "c426a7f2",
   "metadata": {
    "execution": {
     "iopub.execute_input": "2024-12-01T09:38:30.408824Z",
     "iopub.status.busy": "2024-12-01T09:38:30.408451Z",
     "iopub.status.idle": "2024-12-01T09:38:30.447461Z",
     "shell.execute_reply": "2024-12-01T09:38:30.446171Z"
    },
    "papermill": {
     "duration": 0.050528,
     "end_time": "2024-12-01T09:38:30.450191",
     "exception": false,
     "start_time": "2024-12-01T09:38:30.399663",
     "status": "completed"
    },
    "tags": []
   },
   "outputs": [],
   "source": [
    "test_X = test_data[filtered_features]\n",
    "\n",
    "test_X = test_X.fillna(test_X.mean())"
   ]
  },
  {
   "cell_type": "code",
   "execution_count": 20,
   "id": "d9be0357",
   "metadata": {
    "execution": {
     "iopub.execute_input": "2024-12-01T09:38:30.465459Z",
     "iopub.status.busy": "2024-12-01T09:38:30.465065Z",
     "iopub.status.idle": "2024-12-01T09:38:30.496293Z",
     "shell.execute_reply": "2024-12-01T09:38:30.495086Z"
    },
    "papermill": {
     "duration": 0.042171,
     "end_time": "2024-12-01T09:38:30.498840",
     "exception": false,
     "start_time": "2024-12-01T09:38:30.456669",
     "status": "completed"
    },
    "tags": []
   },
   "outputs": [
    {
     "data": {
      "text/html": [
       "<div>\n",
       "<style scoped>\n",
       "    .dataframe tbody tr th:only-of-type {\n",
       "        vertical-align: middle;\n",
       "    }\n",
       "\n",
       "    .dataframe tbody tr th {\n",
       "        vertical-align: top;\n",
       "    }\n",
       "\n",
       "    .dataframe thead th {\n",
       "        text-align: right;\n",
       "    }\n",
       "</style>\n",
       "<table border=\"1\" class=\"dataframe\">\n",
       "  <thead>\n",
       "    <tr style=\"text-align: right;\">\n",
       "      <th></th>\n",
       "      <th>Basic_Demos-Age</th>\n",
       "      <th>Basic_Demos-Sex</th>\n",
       "      <th>CGAS-CGAS_Score</th>\n",
       "      <th>Physical-BMI</th>\n",
       "      <th>Physical-Height</th>\n",
       "      <th>Physical-Weight</th>\n",
       "      <th>Physical-Waist_Circumference</th>\n",
       "      <th>Physical-Diastolic_BP</th>\n",
       "      <th>Physical-HeartRate</th>\n",
       "      <th>Physical-Systolic_BP</th>\n",
       "      <th>...</th>\n",
       "      <th>PAQ_C-Season_Summer</th>\n",
       "      <th>PAQ_C-Season_Winter</th>\n",
       "      <th>SDS-Season_Fall</th>\n",
       "      <th>SDS-Season_Spring</th>\n",
       "      <th>SDS-Season_Summer</th>\n",
       "      <th>SDS-Season_Winter</th>\n",
       "      <th>PreInt_EduHx-Season_Fall</th>\n",
       "      <th>PreInt_EduHx-Season_Spring</th>\n",
       "      <th>PreInt_EduHx-Season_Summer</th>\n",
       "      <th>PreInt_EduHx-Season_Winter</th>\n",
       "    </tr>\n",
       "  </thead>\n",
       "  <tbody>\n",
       "    <tr>\n",
       "      <th>0</th>\n",
       "      <td>-1.583385</td>\n",
       "      <td>0</td>\n",
       "      <td>-1.090305e+00</td>\n",
       "      <td>-6.249326e-01</td>\n",
       "      <td>-1.043709e+00</td>\n",
       "      <td>-1.250822e+00</td>\n",
       "      <td>4.662937e-16</td>\n",
       "      <td>-6.055762e-17</td>\n",
       "      <td>-5.366078e-16</td>\n",
       "      <td>-8.074349e-17</td>\n",
       "      <td>...</td>\n",
       "      <td>0</td>\n",
       "      <td>0</td>\n",
       "      <td>0</td>\n",
       "      <td>0</td>\n",
       "      <td>0</td>\n",
       "      <td>0</td>\n",
       "      <td>1</td>\n",
       "      <td>0</td>\n",
       "      <td>0</td>\n",
       "      <td>0</td>\n",
       "    </tr>\n",
       "    <tr>\n",
       "      <th>1</th>\n",
       "      <td>-0.481900</td>\n",
       "      <td>0</td>\n",
       "      <td>-4.857226e-17</td>\n",
       "      <td>-1.225173e+00</td>\n",
       "      <td>-7.438588e-01</td>\n",
       "      <td>-1.462229e+00</td>\n",
       "      <td>-1.214286e+00</td>\n",
       "      <td>2.484271e-01</td>\n",
       "      <td>-1.308011e+00</td>\n",
       "      <td>2.197332e-01</td>\n",
       "      <td>...</td>\n",
       "      <td>0</td>\n",
       "      <td>0</td>\n",
       "      <td>1</td>\n",
       "      <td>0</td>\n",
       "      <td>0</td>\n",
       "      <td>0</td>\n",
       "      <td>0</td>\n",
       "      <td>0</td>\n",
       "      <td>1</td>\n",
       "      <td>0</td>\n",
       "    </tr>\n",
       "    <tr>\n",
       "      <th>2</th>\n",
       "      <td>-0.206529</td>\n",
       "      <td>1</td>\n",
       "      <td>8.058773e-01</td>\n",
       "      <td>-6.732225e-01</td>\n",
       "      <td>5.305039e-01</td>\n",
       "      <td>-1.585549e-01</td>\n",
       "      <td>4.662937e-16</td>\n",
       "      <td>-3.092664e-01</td>\n",
       "      <td>1.382755e+00</td>\n",
       "      <td>-2.690610e-02</td>\n",
       "      <td>...</td>\n",
       "      <td>1</td>\n",
       "      <td>0</td>\n",
       "      <td>1</td>\n",
       "      <td>0</td>\n",
       "      <td>0</td>\n",
       "      <td>0</td>\n",
       "      <td>0</td>\n",
       "      <td>0</td>\n",
       "      <td>1</td>\n",
       "      <td>0</td>\n",
       "    </tr>\n",
       "    <tr>\n",
       "      <th>3</th>\n",
       "      <td>-0.481900</td>\n",
       "      <td>0</td>\n",
       "      <td>8.058773e-01</td>\n",
       "      <td>-3.260439e-01</td>\n",
       "      <td>4.555414e-01</td>\n",
       "      <td>1.057033e-01</td>\n",
       "      <td>4.662937e-16</td>\n",
       "      <td>-5.881131e-01</td>\n",
       "      <td>1.719101e+00</td>\n",
       "      <td>-2.690610e-02</td>\n",
       "      <td>...</td>\n",
       "      <td>0</td>\n",
       "      <td>1</td>\n",
       "      <td>0</td>\n",
       "      <td>0</td>\n",
       "      <td>1</td>\n",
       "      <td>0</td>\n",
       "      <td>0</td>\n",
       "      <td>0</td>\n",
       "      <td>0</td>\n",
       "      <td>1</td>\n",
       "    </tr>\n",
       "    <tr>\n",
       "      <th>4</th>\n",
       "      <td>1.996442</td>\n",
       "      <td>1</td>\n",
       "      <td>-4.857226e-17</td>\n",
       "      <td>7.173749e-16</td>\n",
       "      <td>2.732857e-16</td>\n",
       "      <td>-8.540177e-16</td>\n",
       "      <td>4.662937e-16</td>\n",
       "      <td>-6.055762e-17</td>\n",
       "      <td>-5.366078e-16</td>\n",
       "      <td>-8.074349e-17</td>\n",
       "      <td>...</td>\n",
       "      <td>0</td>\n",
       "      <td>0</td>\n",
       "      <td>0</td>\n",
       "      <td>0</td>\n",
       "      <td>0</td>\n",
       "      <td>0</td>\n",
       "      <td>0</td>\n",
       "      <td>0</td>\n",
       "      <td>0</td>\n",
       "      <td>0</td>\n",
       "    </tr>\n",
       "  </tbody>\n",
       "</table>\n",
       "<p>5 rows × 83 columns</p>\n",
       "</div>"
      ],
      "text/plain": [
       "   Basic_Demos-Age  Basic_Demos-Sex  CGAS-CGAS_Score  Physical-BMI  \\\n",
       "0        -1.583385                0    -1.090305e+00 -6.249326e-01   \n",
       "1        -0.481900                0    -4.857226e-17 -1.225173e+00   \n",
       "2        -0.206529                1     8.058773e-01 -6.732225e-01   \n",
       "3        -0.481900                0     8.058773e-01 -3.260439e-01   \n",
       "4         1.996442                1    -4.857226e-17  7.173749e-16   \n",
       "\n",
       "   Physical-Height  Physical-Weight  Physical-Waist_Circumference  \\\n",
       "0    -1.043709e+00    -1.250822e+00                  4.662937e-16   \n",
       "1    -7.438588e-01    -1.462229e+00                 -1.214286e+00   \n",
       "2     5.305039e-01    -1.585549e-01                  4.662937e-16   \n",
       "3     4.555414e-01     1.057033e-01                  4.662937e-16   \n",
       "4     2.732857e-16    -8.540177e-16                  4.662937e-16   \n",
       "\n",
       "   Physical-Diastolic_BP  Physical-HeartRate  Physical-Systolic_BP  ...  \\\n",
       "0          -6.055762e-17       -5.366078e-16         -8.074349e-17  ...   \n",
       "1           2.484271e-01       -1.308011e+00          2.197332e-01  ...   \n",
       "2          -3.092664e-01        1.382755e+00         -2.690610e-02  ...   \n",
       "3          -5.881131e-01        1.719101e+00         -2.690610e-02  ...   \n",
       "4          -6.055762e-17       -5.366078e-16         -8.074349e-17  ...   \n",
       "\n",
       "   PAQ_C-Season_Summer  PAQ_C-Season_Winter  SDS-Season_Fall  \\\n",
       "0                    0                    0                0   \n",
       "1                    0                    0                1   \n",
       "2                    1                    0                1   \n",
       "3                    0                    1                0   \n",
       "4                    0                    0                0   \n",
       "\n",
       "   SDS-Season_Spring  SDS-Season_Summer  SDS-Season_Winter  \\\n",
       "0                  0                  0                  0   \n",
       "1                  0                  0                  0   \n",
       "2                  0                  0                  0   \n",
       "3                  0                  1                  0   \n",
       "4                  0                  0                  0   \n",
       "\n",
       "   PreInt_EduHx-Season_Fall  PreInt_EduHx-Season_Spring  \\\n",
       "0                         1                           0   \n",
       "1                         0                           0   \n",
       "2                         0                           0   \n",
       "3                         0                           0   \n",
       "4                         0                           0   \n",
       "\n",
       "   PreInt_EduHx-Season_Summer  PreInt_EduHx-Season_Winter  \n",
       "0                           0                           0  \n",
       "1                           1                           0  \n",
       "2                           1                           0  \n",
       "3                           0                           1  \n",
       "4                           0                           0  \n",
       "\n",
       "[5 rows x 83 columns]"
      ]
     },
     "execution_count": 20,
     "metadata": {},
     "output_type": "execute_result"
    }
   ],
   "source": [
    "test_X.head()"
   ]
  },
  {
   "cell_type": "code",
   "execution_count": 21,
   "id": "66cdba19",
   "metadata": {
    "execution": {
     "iopub.execute_input": "2024-12-01T09:38:30.514269Z",
     "iopub.status.busy": "2024-12-01T09:38:30.513862Z",
     "iopub.status.idle": "2024-12-01T09:38:30.530520Z",
     "shell.execute_reply": "2024-12-01T09:38:30.529017Z"
    },
    "papermill": {
     "duration": 0.02725,
     "end_time": "2024-12-01T09:38:30.533123",
     "exception": false,
     "start_time": "2024-12-01T09:38:30.505873",
     "status": "completed"
    },
    "tags": []
   },
   "outputs": [],
   "source": [
    "test_preds = rf_model.predict(test_X)\n",
    "test_preds = np.array(test_preds).astype(int)"
   ]
  },
  {
   "cell_type": "markdown",
   "id": "c4bcddf6",
   "metadata": {
    "papermill": {
     "duration": 0.006295,
     "end_time": "2024-12-01T09:38:30.546121",
     "exception": false,
     "start_time": "2024-12-01T09:38:30.539826",
     "status": "completed"
    },
    "tags": []
   },
   "source": [
    "### Submit"
   ]
  },
  {
   "cell_type": "code",
   "execution_count": 22,
   "id": "2d725c49",
   "metadata": {
    "execution": {
     "iopub.execute_input": "2024-12-01T09:38:30.562492Z",
     "iopub.status.busy": "2024-12-01T09:38:30.562092Z",
     "iopub.status.idle": "2024-12-01T09:38:30.571901Z",
     "shell.execute_reply": "2024-12-01T09:38:30.570375Z"
    },
    "papermill": {
     "duration": 0.02202,
     "end_time": "2024-12-01T09:38:30.574915",
     "exception": false,
     "start_time": "2024-12-01T09:38:30.552895",
     "status": "completed"
    },
    "tags": []
   },
   "outputs": [],
   "source": [
    "# Run the code to save predictions in the format used for competition scoring\n",
    "\n",
    "output = pd.DataFrame({'id': test_data.id,\n",
    "                       'sii': test_preds})\n",
    "output.to_csv('submission.csv', index=False)"
   ]
  },
  {
   "cell_type": "code",
   "execution_count": null,
   "id": "e557fc8d",
   "metadata": {
    "papermill": {
     "duration": 0.007171,
     "end_time": "2024-12-01T09:38:30.588908",
     "exception": false,
     "start_time": "2024-12-01T09:38:30.581737",
     "status": "completed"
    },
    "tags": []
   },
   "outputs": [],
   "source": []
  }
 ],
 "metadata": {
  "kaggle": {
   "accelerator": "none",
   "dataSources": [
    {
     "databundleVersionId": 9643020,
     "sourceId": 81933,
     "sourceType": "competition"
    }
   ],
   "dockerImageVersionId": 30786,
   "isGpuEnabled": false,
   "isInternetEnabled": false,
   "language": "python",
   "sourceType": "notebook"
  },
  "kernelspec": {
   "display_name": "Python 3",
   "language": "python",
   "name": "python3"
  },
  "language_info": {
   "codemirror_mode": {
    "name": "ipython",
    "version": 3
   },
   "file_extension": ".py",
   "mimetype": "text/x-python",
   "name": "python",
   "nbconvert_exporter": "python",
   "pygments_lexer": "ipython3",
   "version": "3.10.14"
  },
  "papermill": {
   "default_parameters": {},
   "duration": 8.521228,
   "end_time": "2024-12-01T09:38:31.217537",
   "environment_variables": {},
   "exception": null,
   "input_path": "__notebook__.ipynb",
   "output_path": "__notebook__.ipynb",
   "parameters": {},
   "start_time": "2024-12-01T09:38:22.696309",
   "version": "2.6.0"
  }
 },
 "nbformat": 4,
 "nbformat_minor": 5
}
