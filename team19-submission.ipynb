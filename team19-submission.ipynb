{
 "cells": [
  {
   "cell_type": "markdown",
   "id": "a911a206",
   "metadata": {
    "papermill": {
     "duration": 0.004117,
     "end_time": "2024-11-30T19:08:45.124858",
     "exception": false,
     "start_time": "2024-11-30T19:08:45.120741",
     "status": "completed"
    },
    "tags": []
   },
   "source": [
    "Import required libraries"
   ]
  },
  {
   "cell_type": "code",
   "execution_count": 1,
   "id": "647cdadc",
   "metadata": {
    "_cell_guid": "b1076dfc-b9ad-4769-8c92-a6c4dae69d19",
    "_uuid": "8f2839f25d086af736a60e9eeb907d3b93b6e0e5",
    "execution": {
     "iopub.execute_input": "2024-11-30T19:08:45.133189Z",
     "iopub.status.busy": "2024-11-30T19:08:45.132918Z",
     "iopub.status.idle": "2024-11-30T19:08:45.906307Z",
     "shell.execute_reply": "2024-11-30T19:08:45.905662Z"
    },
    "papermill": {
     "duration": 0.779782,
     "end_time": "2024-11-30T19:08:45.908211",
     "exception": false,
     "start_time": "2024-11-30T19:08:45.128429",
     "status": "completed"
    },
    "tags": []
   },
   "outputs": [],
   "source": [
    "import pandas as pd\n",
    "import numpy as np\n",
    "import matplotlib.pyplot as plt"
   ]
  },
  {
   "cell_type": "markdown",
   "id": "04dc6baa",
   "metadata": {
    "papermill": {
     "duration": 0.003421,
     "end_time": "2024-11-30T19:08:45.915480",
     "exception": false,
     "start_time": "2024-11-30T19:08:45.912059",
     "status": "completed"
    },
    "tags": []
   },
   "source": [
    "Read the train CSV file"
   ]
  },
  {
   "cell_type": "code",
   "execution_count": 2,
   "id": "34d2407b",
   "metadata": {
    "execution": {
     "iopub.execute_input": "2024-11-30T19:08:45.924972Z",
     "iopub.status.busy": "2024-11-30T19:08:45.924207Z",
     "iopub.status.idle": "2024-11-30T19:08:45.987743Z",
     "shell.execute_reply": "2024-11-30T19:08:45.987129Z"
    },
    "papermill": {
     "duration": 0.070401,
     "end_time": "2024-11-30T19:08:45.989340",
     "exception": false,
     "start_time": "2024-11-30T19:08:45.918939",
     "status": "completed"
    },
    "tags": []
   },
   "outputs": [],
   "source": [
    "df = pd.read_csv(\"/kaggle/input/child-mind-institute-problematic-internet-use/train.csv\", index_col=\"id\")"
   ]
  },
  {
   "cell_type": "markdown",
   "id": "3ddf2860",
   "metadata": {
    "papermill": {
     "duration": 0.003393,
     "end_time": "2024-11-30T19:08:45.996497",
     "exception": false,
     "start_time": "2024-11-30T19:08:45.993104",
     "status": "completed"
    },
    "tags": []
   },
   "source": [
    "Dataset overview"
   ]
  },
  {
   "cell_type": "markdown",
   "id": "9f8b2367",
   "metadata": {
    "papermill": {
     "duration": 0.003269,
     "end_time": "2024-11-30T19:08:46.003253",
     "exception": false,
     "start_time": "2024-11-30T19:08:45.999984",
     "status": "completed"
    },
    "tags": []
   },
   "source": [
    "Delete row which not have output"
   ]
  },
  {
   "cell_type": "code",
   "execution_count": 3,
   "id": "489ad134",
   "metadata": {
    "execution": {
     "iopub.execute_input": "2024-11-30T19:08:46.011267Z",
     "iopub.status.busy": "2024-11-30T19:08:46.011013Z",
     "iopub.status.idle": "2024-11-30T19:08:46.020693Z",
     "shell.execute_reply": "2024-11-30T19:08:46.020009Z"
    },
    "papermill": {
     "duration": 0.015363,
     "end_time": "2024-11-30T19:08:46.022189",
     "exception": false,
     "start_time": "2024-11-30T19:08:46.006826",
     "status": "completed"
    },
    "tags": []
   },
   "outputs": [],
   "source": [
    "df = df.dropna(subset=['sii'])"
   ]
  },
  {
   "cell_type": "markdown",
   "id": "905c6803",
   "metadata": {
    "papermill": {
     "duration": 0.003284,
     "end_time": "2024-11-30T19:08:46.028991",
     "exception": false,
     "start_time": "2024-11-30T19:08:46.025707",
     "status": "completed"
    },
    "tags": []
   },
   "source": [
    "One-hot encoding process"
   ]
  },
  {
   "cell_type": "code",
   "execution_count": 4,
   "id": "90c9d1b3",
   "metadata": {
    "execution": {
     "iopub.execute_input": "2024-11-30T19:08:46.036817Z",
     "iopub.status.busy": "2024-11-30T19:08:46.036570Z",
     "iopub.status.idle": "2024-11-30T19:08:46.040663Z",
     "shell.execute_reply": "2024-11-30T19:08:46.039971Z"
    },
    "papermill": {
     "duration": 0.009641,
     "end_time": "2024-11-30T19:08:46.042101",
     "exception": false,
     "start_time": "2024-11-30T19:08:46.032460",
     "status": "completed"
    },
    "tags": []
   },
   "outputs": [],
   "source": [
    "#Helper function\n",
    "def encode_and_bind(original_dataframe, feature_to_encode):\n",
    "    dummies = pd.get_dummies(original_dataframe[[feature_to_encode]], dtype=int)\n",
    "    original_dataframe = pd.concat([original_dataframe, dummies], axis=1)\n",
    "    original_dataframe = original_dataframe.drop([feature_to_encode], axis=1)\n",
    "    return original_dataframe"
   ]
  },
  {
   "cell_type": "code",
   "execution_count": 5,
   "id": "95b15132",
   "metadata": {
    "execution": {
     "iopub.execute_input": "2024-11-30T19:08:46.049925Z",
     "iopub.status.busy": "2024-11-30T19:08:46.049684Z",
     "iopub.status.idle": "2024-11-30T19:08:46.098796Z",
     "shell.execute_reply": "2024-11-30T19:08:46.098197Z"
    },
    "papermill": {
     "duration": 0.054752,
     "end_time": "2024-11-30T19:08:46.100285",
     "exception": false,
     "start_time": "2024-11-30T19:08:46.045533",
     "status": "completed"
    },
    "tags": []
   },
   "outputs": [],
   "source": [
    "# Proceed with encoding\n",
    "categorical_cols = ['Basic_Demos-Enroll_Season', 'CGAS-Season', 'Physical-Season',\n",
    "       'Fitness_Endurance-Season', 'FGC-Season', 'BIA-Season', 'PAQ_A-Season',\n",
    "       'PAQ_C-Season', 'PCIAT-Season', 'SDS-Season', 'PreInt_EduHx-Season']\n",
    "df_encoded = df\n",
    "for col in categorical_cols:\n",
    "    df_encoded = encode_and_bind(df_encoded, col)"
   ]
  },
  {
   "cell_type": "markdown",
   "id": "677d4525",
   "metadata": {
    "papermill": {
     "duration": 0.003236,
     "end_time": "2024-11-30T19:08:46.107005",
     "exception": false,
     "start_time": "2024-11-30T19:08:46.103769",
     "status": "completed"
    },
    "tags": []
   },
   "source": [
    "Bring output to end"
   ]
  },
  {
   "cell_type": "code",
   "execution_count": 6,
   "id": "dfd28d07",
   "metadata": {
    "execution": {
     "iopub.execute_input": "2024-11-30T19:08:46.114886Z",
     "iopub.status.busy": "2024-11-30T19:08:46.114646Z",
     "iopub.status.idle": "2024-11-30T19:08:46.119660Z",
     "shell.execute_reply": "2024-11-30T19:08:46.119022Z"
    },
    "papermill": {
     "duration": 0.010637,
     "end_time": "2024-11-30T19:08:46.121069",
     "exception": false,
     "start_time": "2024-11-30T19:08:46.110432",
     "status": "completed"
    },
    "tags": []
   },
   "outputs": [],
   "source": [
    "cols = [col for col in df_encoded.columns if col != 'sii'] + ['sii']\n",
    "df_encoded = df_encoded[cols]"
   ]
  },
  {
   "cell_type": "markdown",
   "id": "0d2bfb92",
   "metadata": {
    "papermill": {
     "duration": 0.003205,
     "end_time": "2024-11-30T19:08:46.127697",
     "exception": false,
     "start_time": "2024-11-30T19:08:46.124492",
     "status": "completed"
    },
    "tags": []
   },
   "source": [
    "Remove columns which not appear in test.csv"
   ]
  },
  {
   "cell_type": "code",
   "execution_count": 7,
   "id": "9541325e",
   "metadata": {
    "execution": {
     "iopub.execute_input": "2024-11-30T19:08:46.135458Z",
     "iopub.status.busy": "2024-11-30T19:08:46.135194Z",
     "iopub.status.idle": "2024-11-30T19:08:46.152952Z",
     "shell.execute_reply": "2024-11-30T19:08:46.152309Z"
    },
    "papermill": {
     "duration": 0.023375,
     "end_time": "2024-11-30T19:08:46.154489",
     "exception": false,
     "start_time": "2024-11-30T19:08:46.131114",
     "status": "completed"
    },
    "tags": []
   },
   "outputs": [],
   "source": [
    "#missing colums\n",
    "missing_columns = ['PCIAT-PCIAT_01', 'PCIAT-PCIAT_02', 'PCIAT-PCIAT_03', 'PCIAT-PCIAT_04',\n",
    "       'PCIAT-PCIAT_05', 'PCIAT-PCIAT_06', 'PCIAT-PCIAT_07', 'PCIAT-PCIAT_08',\n",
    "       'PCIAT-PCIAT_09', 'PCIAT-PCIAT_10', 'PCIAT-PCIAT_11', 'PCIAT-PCIAT_12',\n",
    "       'PCIAT-PCIAT_13', 'PCIAT-PCIAT_14', 'PCIAT-PCIAT_15', 'PCIAT-PCIAT_16',\n",
    "       'PCIAT-PCIAT_17', 'PCIAT-PCIAT_18', 'PCIAT-PCIAT_19', 'PCIAT-PCIAT_20',\n",
    "       'PCIAT-PCIAT_Total']\n",
    "df_processed = df_encoded\n",
    "for column in missing_columns:\n",
    "    df_processed = df_processed.drop(columns=column)"
   ]
  },
  {
   "cell_type": "code",
   "execution_count": 8,
   "id": "dad7ce9f",
   "metadata": {
    "execution": {
     "iopub.execute_input": "2024-11-30T19:08:46.162579Z",
     "iopub.status.busy": "2024-11-30T19:08:46.162310Z",
     "iopub.status.idle": "2024-11-30T19:08:46.166833Z",
     "shell.execute_reply": "2024-11-30T19:08:46.166244Z"
    },
    "papermill": {
     "duration": 0.01022,
     "end_time": "2024-11-30T19:08:46.168285",
     "exception": false,
     "start_time": "2024-11-30T19:08:46.158065",
     "status": "completed"
    },
    "tags": []
   },
   "outputs": [],
   "source": [
    "features = [col for col in df_processed.columns if col != 'sii']\n",
    "X = df_processed[features]\n",
    "y = df_processed.sii"
   ]
  },
  {
   "cell_type": "code",
   "execution_count": 9,
   "id": "fdd9ef86",
   "metadata": {
    "execution": {
     "iopub.execute_input": "2024-11-30T19:08:46.176122Z",
     "iopub.status.busy": "2024-11-30T19:08:46.175705Z",
     "iopub.status.idle": "2024-11-30T19:08:46.199941Z",
     "shell.execute_reply": "2024-11-30T19:08:46.199393Z"
    },
    "papermill": {
     "duration": 0.029943,
     "end_time": "2024-11-30T19:08:46.201627",
     "exception": false,
     "start_time": "2024-11-30T19:08:46.171684",
     "status": "completed"
    },
    "tags": []
   },
   "outputs": [],
   "source": [
    "#Fill missing cells\n",
    "X = X.fillna(X.mean())"
   ]
  },
  {
   "cell_type": "code",
   "execution_count": 10,
   "id": "fecdcd39",
   "metadata": {
    "execution": {
     "iopub.execute_input": "2024-11-30T19:08:46.209372Z",
     "iopub.status.busy": "2024-11-30T19:08:46.209122Z",
     "iopub.status.idle": "2024-11-30T19:08:46.215676Z",
     "shell.execute_reply": "2024-11-30T19:08:46.214884Z"
    },
    "papermill": {
     "duration": 0.012169,
     "end_time": "2024-11-30T19:08:46.217203",
     "exception": false,
     "start_time": "2024-11-30T19:08:46.205034",
     "status": "completed"
    },
    "tags": []
   },
   "outputs": [],
   "source": [
    "exclusion_list = [\n",
    "    \"Fitness_Endurance-Season_Winter\", \"BIA-Season_Spring\", \n",
    "    \"PAQ_A-Season_Fall\", \"PAQ_A-Season_Spring\", \"PAQ_A-Season_Winter\", \n",
    "    \"PCIAT-Season_Fall\", \"PCIAT-Season_Spring\", \"PCIAT-Season_Summer\", \n",
    "    \"PCIAT-Season_Winter\"\n",
    "]\n",
    "filtered_features = [feature for feature in features if feature not in exclusion_list]\n",
    "X = X[filtered_features]"
   ]
  },
  {
   "cell_type": "code",
   "execution_count": 11,
   "id": "5253e5ca",
   "metadata": {
    "execution": {
     "iopub.execute_input": "2024-11-30T19:08:46.224923Z",
     "iopub.status.busy": "2024-11-30T19:08:46.224688Z",
     "iopub.status.idle": "2024-11-30T19:08:48.417444Z",
     "shell.execute_reply": "2024-11-30T19:08:48.416502Z"
    },
    "papermill": {
     "duration": 2.198418,
     "end_time": "2024-11-30T19:08:48.419076",
     "exception": false,
     "start_time": "2024-11-30T19:08:46.220658",
     "status": "completed"
    },
    "tags": []
   },
   "outputs": [
    {
     "data": {
      "text/html": [
       "<style>#sk-container-id-1 {color: black;background-color: white;}#sk-container-id-1 pre{padding: 0;}#sk-container-id-1 div.sk-toggleable {background-color: white;}#sk-container-id-1 label.sk-toggleable__label {cursor: pointer;display: block;width: 100%;margin-bottom: 0;padding: 0.3em;box-sizing: border-box;text-align: center;}#sk-container-id-1 label.sk-toggleable__label-arrow:before {content: \"▸\";float: left;margin-right: 0.25em;color: #696969;}#sk-container-id-1 label.sk-toggleable__label-arrow:hover:before {color: black;}#sk-container-id-1 div.sk-estimator:hover label.sk-toggleable__label-arrow:before {color: black;}#sk-container-id-1 div.sk-toggleable__content {max-height: 0;max-width: 0;overflow: hidden;text-align: left;background-color: #f0f8ff;}#sk-container-id-1 div.sk-toggleable__content pre {margin: 0.2em;color: black;border-radius: 0.25em;background-color: #f0f8ff;}#sk-container-id-1 input.sk-toggleable__control:checked~div.sk-toggleable__content {max-height: 200px;max-width: 100%;overflow: auto;}#sk-container-id-1 input.sk-toggleable__control:checked~label.sk-toggleable__label-arrow:before {content: \"▾\";}#sk-container-id-1 div.sk-estimator input.sk-toggleable__control:checked~label.sk-toggleable__label {background-color: #d4ebff;}#sk-container-id-1 div.sk-label input.sk-toggleable__control:checked~label.sk-toggleable__label {background-color: #d4ebff;}#sk-container-id-1 input.sk-hidden--visually {border: 0;clip: rect(1px 1px 1px 1px);clip: rect(1px, 1px, 1px, 1px);height: 1px;margin: -1px;overflow: hidden;padding: 0;position: absolute;width: 1px;}#sk-container-id-1 div.sk-estimator {font-family: monospace;background-color: #f0f8ff;border: 1px dotted black;border-radius: 0.25em;box-sizing: border-box;margin-bottom: 0.5em;}#sk-container-id-1 div.sk-estimator:hover {background-color: #d4ebff;}#sk-container-id-1 div.sk-parallel-item::after {content: \"\";width: 100%;border-bottom: 1px solid gray;flex-grow: 1;}#sk-container-id-1 div.sk-label:hover label.sk-toggleable__label {background-color: #d4ebff;}#sk-container-id-1 div.sk-serial::before {content: \"\";position: absolute;border-left: 1px solid gray;box-sizing: border-box;top: 0;bottom: 0;left: 50%;z-index: 0;}#sk-container-id-1 div.sk-serial {display: flex;flex-direction: column;align-items: center;background-color: white;padding-right: 0.2em;padding-left: 0.2em;position: relative;}#sk-container-id-1 div.sk-item {position: relative;z-index: 1;}#sk-container-id-1 div.sk-parallel {display: flex;align-items: stretch;justify-content: center;background-color: white;position: relative;}#sk-container-id-1 div.sk-item::before, #sk-container-id-1 div.sk-parallel-item::before {content: \"\";position: absolute;border-left: 1px solid gray;box-sizing: border-box;top: 0;bottom: 0;left: 50%;z-index: -1;}#sk-container-id-1 div.sk-parallel-item {display: flex;flex-direction: column;z-index: 1;position: relative;background-color: white;}#sk-container-id-1 div.sk-parallel-item:first-child::after {align-self: flex-end;width: 50%;}#sk-container-id-1 div.sk-parallel-item:last-child::after {align-self: flex-start;width: 50%;}#sk-container-id-1 div.sk-parallel-item:only-child::after {width: 0;}#sk-container-id-1 div.sk-dashed-wrapped {border: 1px dashed gray;margin: 0 0.4em 0.5em 0.4em;box-sizing: border-box;padding-bottom: 0.4em;background-color: white;}#sk-container-id-1 div.sk-label label {font-family: monospace;font-weight: bold;display: inline-block;line-height: 1.2em;}#sk-container-id-1 div.sk-label-container {text-align: center;}#sk-container-id-1 div.sk-container {/* jupyter's `normalize.less` sets `[hidden] { display: none; }` but bootstrap.min.css set `[hidden] { display: none !important; }` so we also need the `!important` here to be able to override the default hidden behavior on the sphinx rendered scikit-learn.org. See: https://github.com/scikit-learn/scikit-learn/issues/21755 */display: inline-block !important;position: relative;}#sk-container-id-1 div.sk-text-repr-fallback {display: none;}</style><div id=\"sk-container-id-1\" class=\"sk-top-container\"><div class=\"sk-text-repr-fallback\"><pre>RandomForestClassifier(random_state=42)</pre><b>In a Jupyter environment, please rerun this cell to show the HTML representation or trust the notebook. <br />On GitHub, the HTML representation is unable to render, please try loading this page with nbviewer.org.</b></div><div class=\"sk-container\" hidden><div class=\"sk-item\"><div class=\"sk-estimator sk-toggleable\"><input class=\"sk-toggleable__control sk-hidden--visually\" id=\"sk-estimator-id-1\" type=\"checkbox\" checked><label for=\"sk-estimator-id-1\" class=\"sk-toggleable__label sk-toggleable__label-arrow\">RandomForestClassifier</label><div class=\"sk-toggleable__content\"><pre>RandomForestClassifier(random_state=42)</pre></div></div></div></div></div>"
      ],
      "text/plain": [
       "RandomForestClassifier(random_state=42)"
      ]
     },
     "execution_count": 11,
     "metadata": {},
     "output_type": "execute_result"
    }
   ],
   "source": [
    "from sklearn.ensemble import RandomForestClassifier\n",
    "\n",
    "# Define a random forest model\n",
    "rf_model = RandomForestClassifier(n_estimators=100, random_state=42)\n",
    "rf_model.fit(X, y)"
   ]
  },
  {
   "cell_type": "code",
   "execution_count": 12,
   "id": "48085f9f",
   "metadata": {
    "execution": {
     "iopub.execute_input": "2024-11-30T19:08:48.427987Z",
     "iopub.status.busy": "2024-11-30T19:08:48.427630Z",
     "iopub.status.idle": "2024-11-30T19:08:48.436856Z",
     "shell.execute_reply": "2024-11-30T19:08:48.436213Z"
    },
    "papermill": {
     "duration": 0.01553,
     "end_time": "2024-11-30T19:08:48.438523",
     "exception": false,
     "start_time": "2024-11-30T19:08:48.422993",
     "status": "completed"
    },
    "tags": []
   },
   "outputs": [],
   "source": [
    "test_data = pd.read_csv('/kaggle/input/child-mind-institute-problematic-internet-use/test.csv')"
   ]
  },
  {
   "cell_type": "code",
   "execution_count": 13,
   "id": "be935818",
   "metadata": {
    "execution": {
     "iopub.execute_input": "2024-11-30T19:08:48.447013Z",
     "iopub.status.busy": "2024-11-30T19:08:48.446781Z",
     "iopub.status.idle": "2024-11-30T19:08:48.473223Z",
     "shell.execute_reply": "2024-11-30T19:08:48.472638Z"
    },
    "papermill": {
     "duration": 0.032394,
     "end_time": "2024-11-30T19:08:48.474732",
     "exception": false,
     "start_time": "2024-11-30T19:08:48.442338",
     "status": "completed"
    },
    "tags": []
   },
   "outputs": [],
   "source": [
    "test_categorical_cols = ['Basic_Demos-Enroll_Season', 'CGAS-Season', 'Physical-Season',\n",
    "       'Fitness_Endurance-Season', 'FGC-Season', 'BIA-Season', 'PAQ_A-Season',\n",
    "       'PAQ_C-Season','SDS-Season', 'PreInt_EduHx-Season']\n",
    "for col in test_categorical_cols:\n",
    "    test_data = encode_and_bind(test_data, col)"
   ]
  },
  {
   "cell_type": "code",
   "execution_count": 14,
   "id": "f443750c",
   "metadata": {
    "execution": {
     "iopub.execute_input": "2024-11-30T19:08:48.482890Z",
     "iopub.status.busy": "2024-11-30T19:08:48.482668Z",
     "iopub.status.idle": "2024-11-30T19:08:48.502006Z",
     "shell.execute_reply": "2024-11-30T19:08:48.501460Z"
    },
    "papermill": {
     "duration": 0.025107,
     "end_time": "2024-11-30T19:08:48.503441",
     "exception": false,
     "start_time": "2024-11-30T19:08:48.478334",
     "status": "completed"
    },
    "tags": []
   },
   "outputs": [],
   "source": [
    "test_X = test_data[filtered_features]\n",
    "\n",
    "test_X = test_X.fillna(test_X.mean())"
   ]
  },
  {
   "cell_type": "code",
   "execution_count": 15,
   "id": "87f172da",
   "metadata": {
    "execution": {
     "iopub.execute_input": "2024-11-30T19:08:48.511727Z",
     "iopub.status.busy": "2024-11-30T19:08:48.511488Z",
     "iopub.status.idle": "2024-11-30T19:08:48.523997Z",
     "shell.execute_reply": "2024-11-30T19:08:48.523377Z"
    },
    "papermill": {
     "duration": 0.018349,
     "end_time": "2024-11-30T19:08:48.525584",
     "exception": false,
     "start_time": "2024-11-30T19:08:48.507235",
     "status": "completed"
    },
    "tags": []
   },
   "outputs": [],
   "source": [
    "test_preds = rf_model.predict(test_X)\n",
    "test_preds = np.array(test_preds).astype(int)"
   ]
  },
  {
   "cell_type": "code",
   "execution_count": 16,
   "id": "004e9916",
   "metadata": {
    "execution": {
     "iopub.execute_input": "2024-11-30T19:08:48.534087Z",
     "iopub.status.busy": "2024-11-30T19:08:48.533828Z",
     "iopub.status.idle": "2024-11-30T19:08:48.540245Z",
     "shell.execute_reply": "2024-11-30T19:08:48.539683Z"
    },
    "papermill": {
     "duration": 0.012609,
     "end_time": "2024-11-30T19:08:48.541883",
     "exception": false,
     "start_time": "2024-11-30T19:08:48.529274",
     "status": "completed"
    },
    "tags": []
   },
   "outputs": [],
   "source": [
    "# Run the code to save predictions in the format used for competition scoring\n",
    "\n",
    "output = pd.DataFrame({'id': test_data.id,\n",
    "                       'sii': test_preds})\n",
    "output.to_csv('submission.csv', index=False)"
   ]
  },
  {
   "cell_type": "code",
   "execution_count": null,
   "id": "e500af91",
   "metadata": {
    "papermill": {
     "duration": 0.003592,
     "end_time": "2024-11-30T19:08:48.549256",
     "exception": false,
     "start_time": "2024-11-30T19:08:48.545664",
     "status": "completed"
    },
    "tags": []
   },
   "outputs": [],
   "source": []
  }
 ],
 "metadata": {
  "kaggle": {
   "accelerator": "nvidiaTeslaT4",
   "dataSources": [
    {
     "databundleVersionId": 9643020,
     "sourceId": 81933,
     "sourceType": "competition"
    }
   ],
   "dockerImageVersionId": 30786,
   "isGpuEnabled": true,
   "isInternetEnabled": false,
   "language": "python",
   "sourceType": "notebook"
  },
  "kernelspec": {
   "display_name": "Python 3",
   "language": "python",
   "name": "python3"
  },
  "language_info": {
   "codemirror_mode": {
    "name": "ipython",
    "version": 3
   },
   "file_extension": ".py",
   "mimetype": "text/x-python",
   "name": "python",
   "nbconvert_exporter": "python",
   "pygments_lexer": "ipython3",
   "version": "3.10.14"
  },
  "papermill": {
   "default_parameters": {},
   "duration": 6.406793,
   "end_time": "2024-11-30T19:08:48.969902",
   "environment_variables": {},
   "exception": null,
   "input_path": "__notebook__.ipynb",
   "output_path": "__notebook__.ipynb",
   "parameters": {},
   "start_time": "2024-11-30T19:08:42.563109",
   "version": "2.6.0"
  }
 },
 "nbformat": 4,
 "nbformat_minor": 5
}
