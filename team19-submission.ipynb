{
 "cells": [
  {
   "cell_type": "markdown",
   "id": "f4ec1918",
   "metadata": {
    "papermill": {
     "duration": 0.006974,
     "end_time": "2024-12-01T10:00:50.773993",
     "exception": false,
     "start_time": "2024-12-01T10:00:50.767019",
     "status": "completed"
    },
    "tags": []
   },
   "source": [
    "Import required libraries"
   ]
  },
  {
   "cell_type": "code",
   "execution_count": 1,
   "id": "2f6c1bb3",
   "metadata": {
    "_cell_guid": "b1076dfc-b9ad-4769-8c92-a6c4dae69d19",
    "_uuid": "8f2839f25d086af736a60e9eeb907d3b93b6e0e5",
    "execution": {
     "iopub.execute_input": "2024-12-01T10:00:50.788170Z",
     "iopub.status.busy": "2024-12-01T10:00:50.787784Z",
     "iopub.status.idle": "2024-12-01T10:00:53.190316Z",
     "shell.execute_reply": "2024-12-01T10:00:53.189129Z"
    },
    "papermill": {
     "duration": 2.41272,
     "end_time": "2024-12-01T10:00:53.193054",
     "exception": false,
     "start_time": "2024-12-01T10:00:50.780334",
     "status": "completed"
    },
    "tags": []
   },
   "outputs": [],
   "source": [
    "import pandas as pd\n",
    "import numpy as np\n",
    "import matplotlib.pyplot as plt\n",
    "from sklearn.preprocessing import StandardScaler"
   ]
  },
  {
   "cell_type": "code",
   "execution_count": 2,
   "id": "b06edc2f",
   "metadata": {
    "execution": {
     "iopub.execute_input": "2024-12-01T10:00:53.207338Z",
     "iopub.status.busy": "2024-12-01T10:00:53.206790Z",
     "iopub.status.idle": "2024-12-01T10:00:53.212274Z",
     "shell.execute_reply": "2024-12-01T10:00:53.210880Z"
    },
    "papermill": {
     "duration": 0.015027,
     "end_time": "2024-12-01T10:00:53.214494",
     "exception": false,
     "start_time": "2024-12-01T10:00:53.199467",
     "status": "completed"
    },
    "tags": []
   },
   "outputs": [],
   "source": [
    "scaler = StandardScaler()"
   ]
  },
  {
   "cell_type": "markdown",
   "id": "09c579df",
   "metadata": {
    "papermill": {
     "duration": 0.005587,
     "end_time": "2024-12-01T10:00:53.226108",
     "exception": false,
     "start_time": "2024-12-01T10:00:53.220521",
     "status": "completed"
    },
    "tags": []
   },
   "source": [
    "Read the train CSV file"
   ]
  },
  {
   "cell_type": "code",
   "execution_count": 3,
   "id": "4d9dd951",
   "metadata": {
    "execution": {
     "iopub.execute_input": "2024-12-01T10:00:53.240867Z",
     "iopub.status.busy": "2024-12-01T10:00:53.240451Z",
     "iopub.status.idle": "2024-12-01T10:00:53.327129Z",
     "shell.execute_reply": "2024-12-01T10:00:53.326066Z"
    },
    "papermill": {
     "duration": 0.096788,
     "end_time": "2024-12-01T10:00:53.329873",
     "exception": false,
     "start_time": "2024-12-01T10:00:53.233085",
     "status": "completed"
    },
    "tags": []
   },
   "outputs": [],
   "source": [
    "df = pd.read_csv(\"/kaggle/input/child-mind-institute-problematic-internet-use/train.csv\", index_col=\"id\")"
   ]
  },
  {
   "cell_type": "markdown",
   "id": "e2e373f2",
   "metadata": {
    "papermill": {
     "duration": 0.005532,
     "end_time": "2024-12-01T10:00:53.341669",
     "exception": false,
     "start_time": "2024-12-01T10:00:53.336137",
     "status": "completed"
    },
    "tags": []
   },
   "source": [
    "Dataset overview"
   ]
  },
  {
   "cell_type": "markdown",
   "id": "bb1bcba9",
   "metadata": {
    "papermill": {
     "duration": 0.006038,
     "end_time": "2024-12-01T10:00:53.353788",
     "exception": false,
     "start_time": "2024-12-01T10:00:53.347750",
     "status": "completed"
    },
    "tags": []
   },
   "source": [
    "Delete row which not have output"
   ]
  },
  {
   "cell_type": "code",
   "execution_count": 4,
   "id": "fac61e1b",
   "metadata": {
    "execution": {
     "iopub.execute_input": "2024-12-01T10:00:53.367267Z",
     "iopub.status.busy": "2024-12-01T10:00:53.366859Z",
     "iopub.status.idle": "2024-12-01T10:00:53.380119Z",
     "shell.execute_reply": "2024-12-01T10:00:53.378996Z"
    },
    "papermill": {
     "duration": 0.022919,
     "end_time": "2024-12-01T10:00:53.382682",
     "exception": false,
     "start_time": "2024-12-01T10:00:53.359763",
     "status": "completed"
    },
    "tags": []
   },
   "outputs": [],
   "source": [
    "df = df.dropna(subset=['sii'])"
   ]
  },
  {
   "cell_type": "markdown",
   "id": "6cd15c2a",
   "metadata": {
    "papermill": {
     "duration": 0.006228,
     "end_time": "2024-12-01T10:00:53.395126",
     "exception": false,
     "start_time": "2024-12-01T10:00:53.388898",
     "status": "completed"
    },
    "tags": []
   },
   "source": [
    "Remove columns which not appear in test.csv"
   ]
  },
  {
   "cell_type": "markdown",
   "id": "ff75b309",
   "metadata": {
    "papermill": {
     "duration": 0.005769,
     "end_time": "2024-12-01T10:00:53.406962",
     "exception": false,
     "start_time": "2024-12-01T10:00:53.401193",
     "status": "completed"
    },
    "tags": []
   },
   "source": [
    "One-hot encoding process"
   ]
  },
  {
   "cell_type": "code",
   "execution_count": 5,
   "id": "8d790e29",
   "metadata": {
    "execution": {
     "iopub.execute_input": "2024-12-01T10:00:53.420551Z",
     "iopub.status.busy": "2024-12-01T10:00:53.420127Z",
     "iopub.status.idle": "2024-12-01T10:00:53.426124Z",
     "shell.execute_reply": "2024-12-01T10:00:53.424953Z"
    },
    "papermill": {
     "duration": 0.015418,
     "end_time": "2024-12-01T10:00:53.428282",
     "exception": false,
     "start_time": "2024-12-01T10:00:53.412864",
     "status": "completed"
    },
    "tags": []
   },
   "outputs": [],
   "source": [
    "#Helper function\n",
    "def encode_and_bind(original_dataframe, feature_to_encode):\n",
    "    dummies = pd.get_dummies(original_dataframe[[feature_to_encode]], dtype=int)\n",
    "    original_dataframe = pd.concat([original_dataframe, dummies], axis=1)\n",
    "    original_dataframe = original_dataframe.drop([feature_to_encode], axis=1)\n",
    "    return original_dataframe"
   ]
  },
  {
   "cell_type": "code",
   "execution_count": 6,
   "id": "4ed1b63a",
   "metadata": {
    "execution": {
     "iopub.execute_input": "2024-12-01T10:00:53.441941Z",
     "iopub.status.busy": "2024-12-01T10:00:53.441543Z",
     "iopub.status.idle": "2024-12-01T10:00:53.518029Z",
     "shell.execute_reply": "2024-12-01T10:00:53.516650Z"
    },
    "papermill": {
     "duration": 0.086501,
     "end_time": "2024-12-01T10:00:53.520762",
     "exception": false,
     "start_time": "2024-12-01T10:00:53.434261",
     "status": "completed"
    },
    "tags": []
   },
   "outputs": [],
   "source": [
    "# Proceed with encoding\n",
    "categorical_cols = ['Basic_Demos-Enroll_Season', 'CGAS-Season', 'Physical-Season',\n",
    "       'Fitness_Endurance-Season', 'FGC-Season', 'BIA-Season', 'PAQ_A-Season',\n",
    "       'PAQ_C-Season', 'PCIAT-Season', 'SDS-Season', 'PreInt_EduHx-Season']\n",
    "df_encoded = df\n",
    "for col in categorical_cols:\n",
    "    df_encoded = encode_and_bind(df_encoded, col)"
   ]
  },
  {
   "cell_type": "code",
   "execution_count": 7,
   "id": "73253798",
   "metadata": {
    "execution": {
     "iopub.execute_input": "2024-12-01T10:00:53.534985Z",
     "iopub.status.busy": "2024-12-01T10:00:53.534557Z",
     "iopub.status.idle": "2024-12-01T10:00:53.579098Z",
     "shell.execute_reply": "2024-12-01T10:00:53.577873Z"
    },
    "papermill": {
     "duration": 0.055079,
     "end_time": "2024-12-01T10:00:53.581964",
     "exception": false,
     "start_time": "2024-12-01T10:00:53.526885",
     "status": "completed"
    },
    "tags": []
   },
   "outputs": [],
   "source": [
    "binary_columns = [col for col in df_encoded.columns if df_encoded[col].nunique() == 2]\n",
    "columns_to_standardize = [col for col in df_encoded.columns if col not in binary_columns and col != 'sii']\n",
    "df_encoded[columns_to_standardize] = scaler.fit_transform(df_encoded[columns_to_standardize])"
   ]
  },
  {
   "cell_type": "markdown",
   "id": "edf42fb6",
   "metadata": {
    "papermill": {
     "duration": 0.005821,
     "end_time": "2024-12-01T10:00:53.593803",
     "exception": false,
     "start_time": "2024-12-01T10:00:53.587982",
     "status": "completed"
    },
    "tags": []
   },
   "source": [
    "Bring output to end"
   ]
  },
  {
   "cell_type": "code",
   "execution_count": 8,
   "id": "e609482f",
   "metadata": {
    "execution": {
     "iopub.execute_input": "2024-12-01T10:00:53.607503Z",
     "iopub.status.busy": "2024-12-01T10:00:53.607093Z",
     "iopub.status.idle": "2024-12-01T10:00:53.617703Z",
     "shell.execute_reply": "2024-12-01T10:00:53.616544Z"
    },
    "papermill": {
     "duration": 0.020442,
     "end_time": "2024-12-01T10:00:53.620260",
     "exception": false,
     "start_time": "2024-12-01T10:00:53.599818",
     "status": "completed"
    },
    "tags": []
   },
   "outputs": [],
   "source": [
    "cols = [col for col in df_encoded.columns if col != 'sii'] + ['sii']\n",
    "df_encoded = df_encoded[cols]"
   ]
  },
  {
   "cell_type": "code",
   "execution_count": 9,
   "id": "e8ca5661",
   "metadata": {
    "execution": {
     "iopub.execute_input": "2024-12-01T10:00:53.633834Z",
     "iopub.status.busy": "2024-12-01T10:00:53.633468Z",
     "iopub.status.idle": "2024-12-01T10:00:53.687614Z",
     "shell.execute_reply": "2024-12-01T10:00:53.686622Z"
    },
    "papermill": {
     "duration": 0.063932,
     "end_time": "2024-12-01T10:00:53.690200",
     "exception": false,
     "start_time": "2024-12-01T10:00:53.626268",
     "status": "completed"
    },
    "tags": []
   },
   "outputs": [],
   "source": [
    "#missing colums\n",
    "missing_columns = ['PCIAT-PCIAT_01', 'PCIAT-PCIAT_02', 'PCIAT-PCIAT_03', 'PCIAT-PCIAT_04',\n",
    "       'PCIAT-PCIAT_05', 'PCIAT-PCIAT_06', 'PCIAT-PCIAT_07', 'PCIAT-PCIAT_08',\n",
    "       'PCIAT-PCIAT_09', 'PCIAT-PCIAT_10', 'PCIAT-PCIAT_11', 'PCIAT-PCIAT_12',\n",
    "       'PCIAT-PCIAT_13', 'PCIAT-PCIAT_14', 'PCIAT-PCIAT_15', 'PCIAT-PCIAT_16',\n",
    "       'PCIAT-PCIAT_17', 'PCIAT-PCIAT_18', 'PCIAT-PCIAT_19', 'PCIAT-PCIAT_20',\n",
    "       'PCIAT-PCIAT_Total']\n",
    "df_processed = df_encoded\n",
    "for column in missing_columns:\n",
    "    df_processed = df_processed.drop(columns=column)"
   ]
  },
  {
   "cell_type": "code",
   "execution_count": 10,
   "id": "44b2604c",
   "metadata": {
    "execution": {
     "iopub.execute_input": "2024-12-01T10:00:53.703557Z",
     "iopub.status.busy": "2024-12-01T10:00:53.703179Z",
     "iopub.status.idle": "2024-12-01T10:00:53.712497Z",
     "shell.execute_reply": "2024-12-01T10:00:53.711507Z"
    },
    "papermill": {
     "duration": 0.018635,
     "end_time": "2024-12-01T10:00:53.714876",
     "exception": false,
     "start_time": "2024-12-01T10:00:53.696241",
     "status": "completed"
    },
    "tags": []
   },
   "outputs": [],
   "source": [
    "features = [col for col in df_processed.columns if col != 'sii']\n",
    "X = df_processed[features]\n",
    "y = df_processed.sii"
   ]
  },
  {
   "cell_type": "code",
   "execution_count": 11,
   "id": "5bac4669",
   "metadata": {
    "execution": {
     "iopub.execute_input": "2024-12-01T10:00:53.729467Z",
     "iopub.status.busy": "2024-12-01T10:00:53.728247Z",
     "iopub.status.idle": "2024-12-01T10:00:53.764007Z",
     "shell.execute_reply": "2024-12-01T10:00:53.762512Z"
    },
    "papermill": {
     "duration": 0.045691,
     "end_time": "2024-12-01T10:00:53.766606",
     "exception": false,
     "start_time": "2024-12-01T10:00:53.720915",
     "status": "completed"
    },
    "tags": []
   },
   "outputs": [],
   "source": [
    "#Fill missing cells\n",
    "X = X.fillna(X.mean())"
   ]
  },
  {
   "cell_type": "code",
   "execution_count": 12,
   "id": "aebce841",
   "metadata": {
    "execution": {
     "iopub.execute_input": "2024-12-01T10:00:53.779999Z",
     "iopub.status.busy": "2024-12-01T10:00:53.779551Z",
     "iopub.status.idle": "2024-12-01T10:00:53.789923Z",
     "shell.execute_reply": "2024-12-01T10:00:53.788852Z"
    },
    "papermill": {
     "duration": 0.019733,
     "end_time": "2024-12-01T10:00:53.792185",
     "exception": false,
     "start_time": "2024-12-01T10:00:53.772452",
     "status": "completed"
    },
    "tags": []
   },
   "outputs": [],
   "source": [
    "exclusion_list = [\n",
    "    \"Fitness_Endurance-Season_Winter\", \"BIA-Season_Spring\", \n",
    "    \"PAQ_A-Season_Fall\", \"PAQ_A-Season_Spring\", \"PAQ_A-Season_Winter\", \n",
    "    \"PCIAT-Season_Fall\", \"PCIAT-Season_Spring\", \"PCIAT-Season_Summer\", \n",
    "    \"PCIAT-Season_Winter\"\n",
    "]\n",
    "filtered_features = [feature for feature in features if feature not in exclusion_list]\n",
    "X = X[filtered_features]"
   ]
  },
  {
   "cell_type": "code",
   "execution_count": 13,
   "id": "49aae70a",
   "metadata": {
    "execution": {
     "iopub.execute_input": "2024-12-01T10:00:53.805875Z",
     "iopub.status.busy": "2024-12-01T10:00:53.805390Z",
     "iopub.status.idle": "2024-12-01T10:00:54.004891Z",
     "shell.execute_reply": "2024-12-01T10:00:54.003516Z"
    },
    "papermill": {
     "duration": 0.208954,
     "end_time": "2024-12-01T10:00:54.007296",
     "exception": false,
     "start_time": "2024-12-01T10:00:53.798342",
     "status": "completed"
    },
    "tags": []
   },
   "outputs": [],
   "source": [
    "from sklearn.model_selection import train_test_split\n",
    "X_train, X_val, y_train, y_val = train_test_split(X, y, test_size=0.2, random_state=42)"
   ]
  },
  {
   "cell_type": "code",
   "execution_count": 14,
   "id": "eab5d28d",
   "metadata": {
    "execution": {
     "iopub.execute_input": "2024-12-01T10:00:54.021265Z",
     "iopub.status.busy": "2024-12-01T10:00:54.020491Z",
     "iopub.status.idle": "2024-12-01T10:00:55.834691Z",
     "shell.execute_reply": "2024-12-01T10:00:55.833178Z"
    },
    "papermill": {
     "duration": 1.824295,
     "end_time": "2024-12-01T10:00:55.837620",
     "exception": false,
     "start_time": "2024-12-01T10:00:54.013325",
     "status": "completed"
    },
    "tags": []
   },
   "outputs": [
    {
     "data": {
      "text/html": [
       "<style>#sk-container-id-1 {color: black;background-color: white;}#sk-container-id-1 pre{padding: 0;}#sk-container-id-1 div.sk-toggleable {background-color: white;}#sk-container-id-1 label.sk-toggleable__label {cursor: pointer;display: block;width: 100%;margin-bottom: 0;padding: 0.3em;box-sizing: border-box;text-align: center;}#sk-container-id-1 label.sk-toggleable__label-arrow:before {content: \"▸\";float: left;margin-right: 0.25em;color: #696969;}#sk-container-id-1 label.sk-toggleable__label-arrow:hover:before {color: black;}#sk-container-id-1 div.sk-estimator:hover label.sk-toggleable__label-arrow:before {color: black;}#sk-container-id-1 div.sk-toggleable__content {max-height: 0;max-width: 0;overflow: hidden;text-align: left;background-color: #f0f8ff;}#sk-container-id-1 div.sk-toggleable__content pre {margin: 0.2em;color: black;border-radius: 0.25em;background-color: #f0f8ff;}#sk-container-id-1 input.sk-toggleable__control:checked~div.sk-toggleable__content {max-height: 200px;max-width: 100%;overflow: auto;}#sk-container-id-1 input.sk-toggleable__control:checked~label.sk-toggleable__label-arrow:before {content: \"▾\";}#sk-container-id-1 div.sk-estimator input.sk-toggleable__control:checked~label.sk-toggleable__label {background-color: #d4ebff;}#sk-container-id-1 div.sk-label input.sk-toggleable__control:checked~label.sk-toggleable__label {background-color: #d4ebff;}#sk-container-id-1 input.sk-hidden--visually {border: 0;clip: rect(1px 1px 1px 1px);clip: rect(1px, 1px, 1px, 1px);height: 1px;margin: -1px;overflow: hidden;padding: 0;position: absolute;width: 1px;}#sk-container-id-1 div.sk-estimator {font-family: monospace;background-color: #f0f8ff;border: 1px dotted black;border-radius: 0.25em;box-sizing: border-box;margin-bottom: 0.5em;}#sk-container-id-1 div.sk-estimator:hover {background-color: #d4ebff;}#sk-container-id-1 div.sk-parallel-item::after {content: \"\";width: 100%;border-bottom: 1px solid gray;flex-grow: 1;}#sk-container-id-1 div.sk-label:hover label.sk-toggleable__label {background-color: #d4ebff;}#sk-container-id-1 div.sk-serial::before {content: \"\";position: absolute;border-left: 1px solid gray;box-sizing: border-box;top: 0;bottom: 0;left: 50%;z-index: 0;}#sk-container-id-1 div.sk-serial {display: flex;flex-direction: column;align-items: center;background-color: white;padding-right: 0.2em;padding-left: 0.2em;position: relative;}#sk-container-id-1 div.sk-item {position: relative;z-index: 1;}#sk-container-id-1 div.sk-parallel {display: flex;align-items: stretch;justify-content: center;background-color: white;position: relative;}#sk-container-id-1 div.sk-item::before, #sk-container-id-1 div.sk-parallel-item::before {content: \"\";position: absolute;border-left: 1px solid gray;box-sizing: border-box;top: 0;bottom: 0;left: 50%;z-index: -1;}#sk-container-id-1 div.sk-parallel-item {display: flex;flex-direction: column;z-index: 1;position: relative;background-color: white;}#sk-container-id-1 div.sk-parallel-item:first-child::after {align-self: flex-end;width: 50%;}#sk-container-id-1 div.sk-parallel-item:last-child::after {align-self: flex-start;width: 50%;}#sk-container-id-1 div.sk-parallel-item:only-child::after {width: 0;}#sk-container-id-1 div.sk-dashed-wrapped {border: 1px dashed gray;margin: 0 0.4em 0.5em 0.4em;box-sizing: border-box;padding-bottom: 0.4em;background-color: white;}#sk-container-id-1 div.sk-label label {font-family: monospace;font-weight: bold;display: inline-block;line-height: 1.2em;}#sk-container-id-1 div.sk-label-container {text-align: center;}#sk-container-id-1 div.sk-container {/* jupyter's `normalize.less` sets `[hidden] { display: none; }` but bootstrap.min.css set `[hidden] { display: none !important; }` so we also need the `!important` here to be able to override the default hidden behavior on the sphinx rendered scikit-learn.org. See: https://github.com/scikit-learn/scikit-learn/issues/21755 */display: inline-block !important;position: relative;}#sk-container-id-1 div.sk-text-repr-fallback {display: none;}</style><div id=\"sk-container-id-1\" class=\"sk-top-container\"><div class=\"sk-text-repr-fallback\"><pre>RandomForestClassifier(class_weight=&#x27;balanced&#x27;, max_depth=10,\n",
       "                       min_samples_leaf=2, min_samples_split=5,\n",
       "                       n_estimators=200, random_state=42)</pre><b>In a Jupyter environment, please rerun this cell to show the HTML representation or trust the notebook. <br />On GitHub, the HTML representation is unable to render, please try loading this page with nbviewer.org.</b></div><div class=\"sk-container\" hidden><div class=\"sk-item\"><div class=\"sk-estimator sk-toggleable\"><input class=\"sk-toggleable__control sk-hidden--visually\" id=\"sk-estimator-id-1\" type=\"checkbox\" checked><label for=\"sk-estimator-id-1\" class=\"sk-toggleable__label sk-toggleable__label-arrow\">RandomForestClassifier</label><div class=\"sk-toggleable__content\"><pre>RandomForestClassifier(class_weight=&#x27;balanced&#x27;, max_depth=10,\n",
       "                       min_samples_leaf=2, min_samples_split=5,\n",
       "                       n_estimators=200, random_state=42)</pre></div></div></div></div></div>"
      ],
      "text/plain": [
       "RandomForestClassifier(class_weight='balanced', max_depth=10,\n",
       "                       min_samples_leaf=2, min_samples_split=5,\n",
       "                       n_estimators=200, random_state=42)"
      ]
     },
     "execution_count": 14,
     "metadata": {},
     "output_type": "execute_result"
    }
   ],
   "source": [
    "from sklearn.ensemble import RandomForestClassifier\n",
    "\n",
    "rf_model = RandomForestClassifier(\n",
    "    n_estimators=200,\n",
    "    max_depth=10,\n",
    "    max_features='sqrt',\n",
    "    min_samples_split=5,\n",
    "    min_samples_leaf=2,\n",
    "    class_weight='balanced',\n",
    "    random_state=42,\n",
    ")\n",
    "\n",
    "rf_model.fit(X, y)"
   ]
  },
  {
   "cell_type": "markdown",
   "id": "2947b679",
   "metadata": {
    "papermill": {
     "duration": 0.006959,
     "end_time": "2024-12-01T10:00:55.856463",
     "exception": false,
     "start_time": "2024-12-01T10:00:55.849504",
     "status": "completed"
    },
    "tags": []
   },
   "source": [
    "### Evaluation function"
   ]
  },
  {
   "cell_type": "code",
   "execution_count": 15,
   "id": "40d42177",
   "metadata": {
    "execution": {
     "iopub.execute_input": "2024-12-01T10:00:55.870919Z",
     "iopub.status.busy": "2024-12-01T10:00:55.870503Z",
     "iopub.status.idle": "2024-12-01T10:00:55.916185Z",
     "shell.execute_reply": "2024-12-01T10:00:55.914926Z"
    },
    "papermill": {
     "duration": 0.056209,
     "end_time": "2024-12-01T10:00:55.919139",
     "exception": false,
     "start_time": "2024-12-01T10:00:55.862930",
     "status": "completed"
    },
    "tags": []
   },
   "outputs": [
    {
     "name": "stdout",
     "output_type": "stream",
     "text": [
      "0.8143041701082236\n"
     ]
    }
   ],
   "source": [
    "#Evaluation function\n",
    "def quadratic_weighted_kappa(y_true, y_pred, n_classes):\n",
    "    \"\"\"\n",
    "    Calculate the Quadratic Weighted Kappa (QWK) score.\n",
    "\n",
    "    Parameters:\n",
    "    y_true (list or numpy array): Actual values (ground truth).\n",
    "    y_pred (list or numpy array): Predicted values.\n",
    "    n_classes (int): Number of distinct classes/labels.\n",
    "\n",
    "    Returns:\n",
    "    float: QWK score.\n",
    "    \"\"\"\n",
    "    # Create histogram matrix O (observed matrix)\n",
    "    O = np.zeros((n_classes, n_classes), dtype=np.float64)\n",
    "    for true, pred in zip(y_true, y_pred):\n",
    "        O[true, pred] += 1\n",
    "\n",
    "    # Create weight matrix W\n",
    "    W = np.zeros((n_classes, n_classes), dtype=np.float64)\n",
    "    for i in range(n_classes):\n",
    "        for j in range(n_classes):\n",
    "            W[i, j] = ((i - j) ** 2) / ((n_classes - 1) ** 2)\n",
    "\n",
    "    # Create expected matrix E\n",
    "    actual_hist = np.sum(O, axis=1)\n",
    "    pred_hist = np.sum(O, axis=0)\n",
    "    E = np.outer(actual_hist, pred_hist) / np.sum(O)\n",
    "\n",
    "    # Calculate QWK\n",
    "    numerator = np.sum(W * O)\n",
    "    denominator = np.sum(W * E)\n",
    "    kappa = 1 - (numerator / denominator)\n",
    "\n",
    "    return kappa\n",
    "\n",
    "val_preds = rf_model.predict(X_val)\n",
    "val_preds = np.array(val_preds).astype(int)\n",
    "\n",
    "y_val = np.array(y_val).astype(int)\n",
    "\n",
    "print(quadratic_weighted_kappa(y_val, val_preds, 4))"
   ]
  },
  {
   "cell_type": "markdown",
   "id": "63e7fb13",
   "metadata": {
    "papermill": {
     "duration": 0.006733,
     "end_time": "2024-12-01T10:00:55.937512",
     "exception": false,
     "start_time": "2024-12-01T10:00:55.930779",
     "status": "completed"
    },
    "tags": []
   },
   "source": [
    "### Handle test data"
   ]
  },
  {
   "cell_type": "code",
   "execution_count": 16,
   "id": "3bfd3988",
   "metadata": {
    "execution": {
     "iopub.execute_input": "2024-12-01T10:00:55.952454Z",
     "iopub.status.busy": "2024-12-01T10:00:55.951360Z",
     "iopub.status.idle": "2024-12-01T10:00:55.964091Z",
     "shell.execute_reply": "2024-12-01T10:00:55.963079Z"
    },
    "papermill": {
     "duration": 0.023208,
     "end_time": "2024-12-01T10:00:55.966995",
     "exception": false,
     "start_time": "2024-12-01T10:00:55.943787",
     "status": "completed"
    },
    "tags": []
   },
   "outputs": [],
   "source": [
    "test_data = pd.read_csv('/kaggle/input/child-mind-institute-problematic-internet-use/test.csv')"
   ]
  },
  {
   "cell_type": "code",
   "execution_count": 17,
   "id": "619a54f2",
   "metadata": {
    "execution": {
     "iopub.execute_input": "2024-12-01T10:00:55.982664Z",
     "iopub.status.busy": "2024-12-01T10:00:55.981525Z",
     "iopub.status.idle": "2024-12-01T10:00:56.022187Z",
     "shell.execute_reply": "2024-12-01T10:00:56.020959Z"
    },
    "papermill": {
     "duration": 0.051067,
     "end_time": "2024-12-01T10:00:56.024680",
     "exception": false,
     "start_time": "2024-12-01T10:00:55.973613",
     "status": "completed"
    },
    "tags": []
   },
   "outputs": [],
   "source": [
    "test_categorical_cols = ['Basic_Demos-Enroll_Season', 'CGAS-Season', 'Physical-Season',\n",
    "       'Fitness_Endurance-Season', 'FGC-Season', 'BIA-Season', 'PAQ_A-Season',\n",
    "       'PAQ_C-Season','SDS-Season', 'PreInt_EduHx-Season']\n",
    "for col in test_categorical_cols:\n",
    "    test_data = encode_and_bind(test_data, col)"
   ]
  },
  {
   "cell_type": "code",
   "execution_count": 18,
   "id": "2337b8e5",
   "metadata": {
    "execution": {
     "iopub.execute_input": "2024-12-01T10:00:56.039798Z",
     "iopub.status.busy": "2024-12-01T10:00:56.039340Z",
     "iopub.status.idle": "2024-12-01T10:00:56.068076Z",
     "shell.execute_reply": "2024-12-01T10:00:56.066926Z"
    },
    "papermill": {
     "duration": 0.039218,
     "end_time": "2024-12-01T10:00:56.070904",
     "exception": false,
     "start_time": "2024-12-01T10:00:56.031686",
     "status": "completed"
    },
    "tags": []
   },
   "outputs": [],
   "source": [
    "binary_columns = [col for col in test_data.columns if test_data[col].nunique() == 2]\n",
    "columns_to_standardize = [col for col in test_data.columns if col not in binary_columns and col != 'sii' and col != 'id']\n",
    "test_data[columns_to_standardize] = scaler.fit_transform(test_data[columns_to_standardize])"
   ]
  },
  {
   "cell_type": "code",
   "execution_count": 19,
   "id": "e501c2c6",
   "metadata": {
    "execution": {
     "iopub.execute_input": "2024-12-01T10:00:56.086484Z",
     "iopub.status.busy": "2024-12-01T10:00:56.085469Z",
     "iopub.status.idle": "2024-12-01T10:00:56.127923Z",
     "shell.execute_reply": "2024-12-01T10:00:56.126670Z"
    },
    "papermill": {
     "duration": 0.054116,
     "end_time": "2024-12-01T10:00:56.131708",
     "exception": false,
     "start_time": "2024-12-01T10:00:56.077592",
     "status": "completed"
    },
    "tags": []
   },
   "outputs": [],
   "source": [
    "test_X = test_data[filtered_features]\n",
    "\n",
    "test_X = test_X.fillna(test_X.mean())"
   ]
  },
  {
   "cell_type": "code",
   "execution_count": 20,
   "id": "30b92690",
   "metadata": {
    "execution": {
     "iopub.execute_input": "2024-12-01T10:00:56.151777Z",
     "iopub.status.busy": "2024-12-01T10:00:56.151324Z",
     "iopub.status.idle": "2024-12-01T10:00:56.184671Z",
     "shell.execute_reply": "2024-12-01T10:00:56.183646Z"
    },
    "papermill": {
     "duration": 0.044231,
     "end_time": "2024-12-01T10:00:56.187069",
     "exception": false,
     "start_time": "2024-12-01T10:00:56.142838",
     "status": "completed"
    },
    "tags": []
   },
   "outputs": [
    {
     "data": {
      "text/html": [
       "<div>\n",
       "<style scoped>\n",
       "    .dataframe tbody tr th:only-of-type {\n",
       "        vertical-align: middle;\n",
       "    }\n",
       "\n",
       "    .dataframe tbody tr th {\n",
       "        vertical-align: top;\n",
       "    }\n",
       "\n",
       "    .dataframe thead th {\n",
       "        text-align: right;\n",
       "    }\n",
       "</style>\n",
       "<table border=\"1\" class=\"dataframe\">\n",
       "  <thead>\n",
       "    <tr style=\"text-align: right;\">\n",
       "      <th></th>\n",
       "      <th>Basic_Demos-Age</th>\n",
       "      <th>Basic_Demos-Sex</th>\n",
       "      <th>CGAS-CGAS_Score</th>\n",
       "      <th>Physical-BMI</th>\n",
       "      <th>Physical-Height</th>\n",
       "      <th>Physical-Weight</th>\n",
       "      <th>Physical-Waist_Circumference</th>\n",
       "      <th>Physical-Diastolic_BP</th>\n",
       "      <th>Physical-HeartRate</th>\n",
       "      <th>Physical-Systolic_BP</th>\n",
       "      <th>...</th>\n",
       "      <th>PAQ_C-Season_Summer</th>\n",
       "      <th>PAQ_C-Season_Winter</th>\n",
       "      <th>SDS-Season_Fall</th>\n",
       "      <th>SDS-Season_Spring</th>\n",
       "      <th>SDS-Season_Summer</th>\n",
       "      <th>SDS-Season_Winter</th>\n",
       "      <th>PreInt_EduHx-Season_Fall</th>\n",
       "      <th>PreInt_EduHx-Season_Spring</th>\n",
       "      <th>PreInt_EduHx-Season_Summer</th>\n",
       "      <th>PreInt_EduHx-Season_Winter</th>\n",
       "    </tr>\n",
       "  </thead>\n",
       "  <tbody>\n",
       "    <tr>\n",
       "      <th>0</th>\n",
       "      <td>-1.583385</td>\n",
       "      <td>0</td>\n",
       "      <td>-1.090305e+00</td>\n",
       "      <td>-6.249326e-01</td>\n",
       "      <td>-1.043709e+00</td>\n",
       "      <td>-1.250822e+00</td>\n",
       "      <td>4.662937e-16</td>\n",
       "      <td>-6.055762e-17</td>\n",
       "      <td>-5.366078e-16</td>\n",
       "      <td>-8.074349e-17</td>\n",
       "      <td>...</td>\n",
       "      <td>0</td>\n",
       "      <td>0</td>\n",
       "      <td>0</td>\n",
       "      <td>0</td>\n",
       "      <td>0</td>\n",
       "      <td>0</td>\n",
       "      <td>1</td>\n",
       "      <td>0</td>\n",
       "      <td>0</td>\n",
       "      <td>0</td>\n",
       "    </tr>\n",
       "    <tr>\n",
       "      <th>1</th>\n",
       "      <td>-0.481900</td>\n",
       "      <td>0</td>\n",
       "      <td>-4.857226e-17</td>\n",
       "      <td>-1.225173e+00</td>\n",
       "      <td>-7.438588e-01</td>\n",
       "      <td>-1.462229e+00</td>\n",
       "      <td>-1.214286e+00</td>\n",
       "      <td>2.484271e-01</td>\n",
       "      <td>-1.308011e+00</td>\n",
       "      <td>2.197332e-01</td>\n",
       "      <td>...</td>\n",
       "      <td>0</td>\n",
       "      <td>0</td>\n",
       "      <td>1</td>\n",
       "      <td>0</td>\n",
       "      <td>0</td>\n",
       "      <td>0</td>\n",
       "      <td>0</td>\n",
       "      <td>0</td>\n",
       "      <td>1</td>\n",
       "      <td>0</td>\n",
       "    </tr>\n",
       "    <tr>\n",
       "      <th>2</th>\n",
       "      <td>-0.206529</td>\n",
       "      <td>1</td>\n",
       "      <td>8.058773e-01</td>\n",
       "      <td>-6.732225e-01</td>\n",
       "      <td>5.305039e-01</td>\n",
       "      <td>-1.585549e-01</td>\n",
       "      <td>4.662937e-16</td>\n",
       "      <td>-3.092664e-01</td>\n",
       "      <td>1.382755e+00</td>\n",
       "      <td>-2.690610e-02</td>\n",
       "      <td>...</td>\n",
       "      <td>1</td>\n",
       "      <td>0</td>\n",
       "      <td>1</td>\n",
       "      <td>0</td>\n",
       "      <td>0</td>\n",
       "      <td>0</td>\n",
       "      <td>0</td>\n",
       "      <td>0</td>\n",
       "      <td>1</td>\n",
       "      <td>0</td>\n",
       "    </tr>\n",
       "    <tr>\n",
       "      <th>3</th>\n",
       "      <td>-0.481900</td>\n",
       "      <td>0</td>\n",
       "      <td>8.058773e-01</td>\n",
       "      <td>-3.260439e-01</td>\n",
       "      <td>4.555414e-01</td>\n",
       "      <td>1.057033e-01</td>\n",
       "      <td>4.662937e-16</td>\n",
       "      <td>-5.881131e-01</td>\n",
       "      <td>1.719101e+00</td>\n",
       "      <td>-2.690610e-02</td>\n",
       "      <td>...</td>\n",
       "      <td>0</td>\n",
       "      <td>1</td>\n",
       "      <td>0</td>\n",
       "      <td>0</td>\n",
       "      <td>1</td>\n",
       "      <td>0</td>\n",
       "      <td>0</td>\n",
       "      <td>0</td>\n",
       "      <td>0</td>\n",
       "      <td>1</td>\n",
       "    </tr>\n",
       "    <tr>\n",
       "      <th>4</th>\n",
       "      <td>1.996442</td>\n",
       "      <td>1</td>\n",
       "      <td>-4.857226e-17</td>\n",
       "      <td>7.173749e-16</td>\n",
       "      <td>2.732857e-16</td>\n",
       "      <td>-8.540177e-16</td>\n",
       "      <td>4.662937e-16</td>\n",
       "      <td>-6.055762e-17</td>\n",
       "      <td>-5.366078e-16</td>\n",
       "      <td>-8.074349e-17</td>\n",
       "      <td>...</td>\n",
       "      <td>0</td>\n",
       "      <td>0</td>\n",
       "      <td>0</td>\n",
       "      <td>0</td>\n",
       "      <td>0</td>\n",
       "      <td>0</td>\n",
       "      <td>0</td>\n",
       "      <td>0</td>\n",
       "      <td>0</td>\n",
       "      <td>0</td>\n",
       "    </tr>\n",
       "  </tbody>\n",
       "</table>\n",
       "<p>5 rows × 83 columns</p>\n",
       "</div>"
      ],
      "text/plain": [
       "   Basic_Demos-Age  Basic_Demos-Sex  CGAS-CGAS_Score  Physical-BMI  \\\n",
       "0        -1.583385                0    -1.090305e+00 -6.249326e-01   \n",
       "1        -0.481900                0    -4.857226e-17 -1.225173e+00   \n",
       "2        -0.206529                1     8.058773e-01 -6.732225e-01   \n",
       "3        -0.481900                0     8.058773e-01 -3.260439e-01   \n",
       "4         1.996442                1    -4.857226e-17  7.173749e-16   \n",
       "\n",
       "   Physical-Height  Physical-Weight  Physical-Waist_Circumference  \\\n",
       "0    -1.043709e+00    -1.250822e+00                  4.662937e-16   \n",
       "1    -7.438588e-01    -1.462229e+00                 -1.214286e+00   \n",
       "2     5.305039e-01    -1.585549e-01                  4.662937e-16   \n",
       "3     4.555414e-01     1.057033e-01                  4.662937e-16   \n",
       "4     2.732857e-16    -8.540177e-16                  4.662937e-16   \n",
       "\n",
       "   Physical-Diastolic_BP  Physical-HeartRate  Physical-Systolic_BP  ...  \\\n",
       "0          -6.055762e-17       -5.366078e-16         -8.074349e-17  ...   \n",
       "1           2.484271e-01       -1.308011e+00          2.197332e-01  ...   \n",
       "2          -3.092664e-01        1.382755e+00         -2.690610e-02  ...   \n",
       "3          -5.881131e-01        1.719101e+00         -2.690610e-02  ...   \n",
       "4          -6.055762e-17       -5.366078e-16         -8.074349e-17  ...   \n",
       "\n",
       "   PAQ_C-Season_Summer  PAQ_C-Season_Winter  SDS-Season_Fall  \\\n",
       "0                    0                    0                0   \n",
       "1                    0                    0                1   \n",
       "2                    1                    0                1   \n",
       "3                    0                    1                0   \n",
       "4                    0                    0                0   \n",
       "\n",
       "   SDS-Season_Spring  SDS-Season_Summer  SDS-Season_Winter  \\\n",
       "0                  0                  0                  0   \n",
       "1                  0                  0                  0   \n",
       "2                  0                  0                  0   \n",
       "3                  0                  1                  0   \n",
       "4                  0                  0                  0   \n",
       "\n",
       "   PreInt_EduHx-Season_Fall  PreInt_EduHx-Season_Spring  \\\n",
       "0                         1                           0   \n",
       "1                         0                           0   \n",
       "2                         0                           0   \n",
       "3                         0                           0   \n",
       "4                         0                           0   \n",
       "\n",
       "   PreInt_EduHx-Season_Summer  PreInt_EduHx-Season_Winter  \n",
       "0                           0                           0  \n",
       "1                           1                           0  \n",
       "2                           1                           0  \n",
       "3                           0                           1  \n",
       "4                           0                           0  \n",
       "\n",
       "[5 rows x 83 columns]"
      ]
     },
     "execution_count": 20,
     "metadata": {},
     "output_type": "execute_result"
    }
   ],
   "source": [
    "test_X.head()"
   ]
  },
  {
   "cell_type": "code",
   "execution_count": 21,
   "id": "35bc3249",
   "metadata": {
    "execution": {
     "iopub.execute_input": "2024-12-01T10:00:56.203087Z",
     "iopub.status.busy": "2024-12-01T10:00:56.202696Z",
     "iopub.status.idle": "2024-12-01T10:00:56.223162Z",
     "shell.execute_reply": "2024-12-01T10:00:56.221812Z"
    },
    "papermill": {
     "duration": 0.032956,
     "end_time": "2024-12-01T10:00:56.226919",
     "exception": false,
     "start_time": "2024-12-01T10:00:56.193963",
     "status": "completed"
    },
    "tags": []
   },
   "outputs": [],
   "source": [
    "test_preds = rf_model.predict(test_X)\n",
    "test_preds = np.array(test_preds).astype(int)"
   ]
  },
  {
   "cell_type": "markdown",
   "id": "a16a5a4e",
   "metadata": {
    "papermill": {
     "duration": 0.009023,
     "end_time": "2024-12-01T10:00:56.248914",
     "exception": false,
     "start_time": "2024-12-01T10:00:56.239891",
     "status": "completed"
    },
    "tags": []
   },
   "source": [
    "### Submit"
   ]
  },
  {
   "cell_type": "code",
   "execution_count": 22,
   "id": "cd5c9c76",
   "metadata": {
    "execution": {
     "iopub.execute_input": "2024-12-01T10:00:56.272322Z",
     "iopub.status.busy": "2024-12-01T10:00:56.271964Z",
     "iopub.status.idle": "2024-12-01T10:00:56.281865Z",
     "shell.execute_reply": "2024-12-01T10:00:56.280805Z"
    },
    "papermill": {
     "duration": 0.02854,
     "end_time": "2024-12-01T10:00:56.285530",
     "exception": false,
     "start_time": "2024-12-01T10:00:56.256990",
     "status": "completed"
    },
    "tags": []
   },
   "outputs": [],
   "source": [
    "# Run the code to save predictions in the format used for competition scoring\n",
    "\n",
    "output = pd.DataFrame({'id': test_data.id,\n",
    "                       'sii': test_preds})\n",
    "output.to_csv('submission.csv', index=False)"
   ]
  },
  {
   "cell_type": "code",
   "execution_count": null,
   "id": "c4c25ef2",
   "metadata": {
    "papermill": {
     "duration": 0.01309,
     "end_time": "2024-12-01T10:00:56.311379",
     "exception": false,
     "start_time": "2024-12-01T10:00:56.298289",
     "status": "completed"
    },
    "tags": []
   },
   "outputs": [],
   "source": []
  }
 ],
 "metadata": {
  "kaggle": {
   "accelerator": "none",
   "dataSources": [
    {
     "databundleVersionId": 9643020,
     "sourceId": 81933,
     "sourceType": "competition"
    }
   ],
   "dockerImageVersionId": 30786,
   "isGpuEnabled": false,
   "isInternetEnabled": false,
   "language": "python",
   "sourceType": "notebook"
  },
  "kernelspec": {
   "display_name": "Python 3",
   "language": "python",
   "name": "python3"
  },
  "language_info": {
   "codemirror_mode": {
    "name": "ipython",
    "version": 3
   },
   "file_extension": ".py",
   "mimetype": "text/x-python",
   "name": "python",
   "nbconvert_exporter": "python",
   "pygments_lexer": "ipython3",
   "version": "3.10.14"
  },
  "papermill": {
   "default_parameters": {},
   "duration": 9.132087,
   "end_time": "2024-12-01T10:00:57.045724",
   "environment_variables": {},
   "exception": null,
   "input_path": "__notebook__.ipynb",
   "output_path": "__notebook__.ipynb",
   "parameters": {},
   "start_time": "2024-12-01T10:00:47.913637",
   "version": "2.6.0"
  }
 },
 "nbformat": 4,
 "nbformat_minor": 5
}
