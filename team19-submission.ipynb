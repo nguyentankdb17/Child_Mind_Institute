{
 "cells": [
  {
   "cell_type": "markdown",
   "id": "a7d85ad1",
   "metadata": {
    "papermill": {
     "duration": 0.006019,
     "end_time": "2024-12-02T01:53:25.818185",
     "exception": false,
     "start_time": "2024-12-02T01:53:25.812166",
     "status": "completed"
    },
    "tags": []
   },
   "source": [
    "## Import required libraries"
   ]
  },
  {
   "cell_type": "code",
   "execution_count": 1,
   "id": "7c69d6ce",
   "metadata": {
    "_cell_guid": "b1076dfc-b9ad-4769-8c92-a6c4dae69d19",
    "_uuid": "8f2839f25d086af736a60e9eeb907d3b93b6e0e5",
    "execution": {
     "iopub.execute_input": "2024-12-02T01:53:25.830165Z",
     "iopub.status.busy": "2024-12-02T01:53:25.829115Z",
     "iopub.status.idle": "2024-12-02T01:53:28.117172Z",
     "shell.execute_reply": "2024-12-02T01:53:28.116019Z"
    },
    "papermill": {
     "duration": 2.297205,
     "end_time": "2024-12-02T01:53:28.120155",
     "exception": false,
     "start_time": "2024-12-02T01:53:25.822950",
     "status": "completed"
    },
    "tags": []
   },
   "outputs": [],
   "source": [
    "import pandas as pd\n",
    "import numpy as np\n",
    "import matplotlib.pyplot as plt\n",
    "from sklearn.preprocessing import StandardScaler\n",
    "\n",
    "scaler = StandardScaler()"
   ]
  },
  {
   "cell_type": "markdown",
   "id": "73caa8b4",
   "metadata": {
    "papermill": {
     "duration": 0.004494,
     "end_time": "2024-12-02T01:53:28.129541",
     "exception": false,
     "start_time": "2024-12-02T01:53:28.125047",
     "status": "completed"
    },
    "tags": []
   },
   "source": [
    "## Read the CSV file"
   ]
  },
  {
   "cell_type": "code",
   "execution_count": 2,
   "id": "8f121248",
   "metadata": {
    "execution": {
     "iopub.execute_input": "2024-12-02T01:53:28.141045Z",
     "iopub.status.busy": "2024-12-02T01:53:28.140437Z",
     "iopub.status.idle": "2024-12-02T01:53:28.246876Z",
     "shell.execute_reply": "2024-12-02T01:53:28.245459Z"
    },
    "papermill": {
     "duration": 0.115217,
     "end_time": "2024-12-02T01:53:28.249594",
     "exception": false,
     "start_time": "2024-12-02T01:53:28.134377",
     "status": "completed"
    },
    "tags": []
   },
   "outputs": [],
   "source": [
    "train_data = pd.read_csv(\"/kaggle/input/child-mind-institute-problematic-internet-use/train.csv\", index_col=\"id\")\n",
    "test_data = pd.read_csv(\"/kaggle/input/child-mind-institute-problematic-internet-use/test.csv\", index_col=\"id\")\n",
    "\n",
    "train_df = train_data.copy()\n",
    "test_df = test_data.copy()"
   ]
  },
  {
   "cell_type": "markdown",
   "id": "0300666b",
   "metadata": {
    "papermill": {
     "duration": 0.004264,
     "end_time": "2024-12-02T01:53:28.258668",
     "exception": false,
     "start_time": "2024-12-02T01:53:28.254404",
     "status": "completed"
    },
    "tags": []
   },
   "source": [
    "## One-hot encoding process"
   ]
  },
  {
   "cell_type": "code",
   "execution_count": 3,
   "id": "7885a1a5",
   "metadata": {
    "execution": {
     "iopub.execute_input": "2024-12-02T01:53:28.269398Z",
     "iopub.status.busy": "2024-12-02T01:53:28.268983Z",
     "iopub.status.idle": "2024-12-02T01:53:28.413250Z",
     "shell.execute_reply": "2024-12-02T01:53:28.412091Z"
    },
    "papermill": {
     "duration": 0.152826,
     "end_time": "2024-12-02T01:53:28.415911",
     "exception": false,
     "start_time": "2024-12-02T01:53:28.263085",
     "status": "completed"
    },
    "tags": []
   },
   "outputs": [],
   "source": [
    "#Helper function\n",
    "def OneHot_Encoding(original_dataframe, feature_to_encode):\n",
    "    dummies = pd.get_dummies(original_dataframe[[feature_to_encode]], dtype=int)\n",
    "    original_dataframe = pd.concat([original_dataframe, dummies], axis=1)\n",
    "    original_dataframe = original_dataframe.drop([feature_to_encode], axis=1)\n",
    "    return original_dataframe\n",
    "    \n",
    "# Proceed with encoding\n",
    "categorical_cols = [col for col in test_df.columns if 'Season' in col]\n",
    "for col in categorical_cols:\n",
    "    train_df = OneHot_Encoding(train_df, col)\n",
    "    test_df = OneHot_Encoding(test_df, col)"
   ]
  },
  {
   "cell_type": "code",
   "execution_count": 4,
   "id": "dbdadb08",
   "metadata": {
    "execution": {
     "iopub.execute_input": "2024-12-02T01:53:28.428638Z",
     "iopub.status.busy": "2024-12-02T01:53:28.427454Z",
     "iopub.status.idle": "2024-12-02T01:53:28.436695Z",
     "shell.execute_reply": "2024-12-02T01:53:28.435289Z"
    },
    "papermill": {
     "duration": 0.017874,
     "end_time": "2024-12-02T01:53:28.439359",
     "exception": false,
     "start_time": "2024-12-02T01:53:28.421485",
     "status": "completed"
    },
    "tags": []
   },
   "outputs": [],
   "source": [
    "# Remove feature which does not appear in test data, excluding 'sii'\n",
    "missing_columns = (set(train_df.columns) - set(test_df.columns)) - {'sii'}\n",
    "\n",
    "train_df = train_df.drop(columns=missing_columns)"
   ]
  },
  {
   "cell_type": "markdown",
   "id": "e39dbf56",
   "metadata": {
    "papermill": {
     "duration": 0.004308,
     "end_time": "2024-12-02T01:53:28.448467",
     "exception": false,
     "start_time": "2024-12-02T01:53:28.444159",
     "status": "completed"
    },
    "tags": []
   },
   "source": [
    "## Standardize process"
   ]
  },
  {
   "cell_type": "code",
   "execution_count": 5,
   "id": "ad0691a3",
   "metadata": {
    "execution": {
     "iopub.execute_input": "2024-12-02T01:53:28.462148Z",
     "iopub.status.busy": "2024-12-02T01:53:28.460792Z",
     "iopub.status.idle": "2024-12-02T01:53:28.522464Z",
     "shell.execute_reply": "2024-12-02T01:53:28.521137Z"
    },
    "papermill": {
     "duration": 0.070325,
     "end_time": "2024-12-02T01:53:28.525110",
     "exception": false,
     "start_time": "2024-12-02T01:53:28.454785",
     "status": "completed"
    },
    "tags": []
   },
   "outputs": [],
   "source": [
    "# Helper function\n",
    "def standardize(df):\n",
    "    binary_columns = [col for col in df.columns if df[col].nunique() == 2]\n",
    "    columns_to_standardize = [col for col in df.columns if col not in binary_columns and col != 'sii']\n",
    "    df[columns_to_standardize] = scaler.fit_transform(df[columns_to_standardize])\n",
    "    return df\n",
    "\n",
    "#Proceed with standardizing\n",
    "train_df = standardize(train_df)\n",
    "test_df = standardize(test_df)"
   ]
  },
  {
   "cell_type": "markdown",
   "id": "cd032130",
   "metadata": {
    "papermill": {
     "duration": 0.004237,
     "end_time": "2024-12-02T01:53:28.533938",
     "exception": false,
     "start_time": "2024-12-02T01:53:28.529701",
     "status": "completed"
    },
    "tags": []
   },
   "source": [
    "## Handle missing value process"
   ]
  },
  {
   "cell_type": "code",
   "execution_count": 6,
   "id": "78a7d418",
   "metadata": {
    "execution": {
     "iopub.execute_input": "2024-12-02T01:53:28.545711Z",
     "iopub.status.busy": "2024-12-02T01:53:28.544683Z",
     "iopub.status.idle": "2024-12-02T01:53:28.555559Z",
     "shell.execute_reply": "2024-12-02T01:53:28.554424Z"
    },
    "papermill": {
     "duration": 0.019691,
     "end_time": "2024-12-02T01:53:28.558191",
     "exception": false,
     "start_time": "2024-12-02T01:53:28.538500",
     "status": "completed"
    },
    "tags": []
   },
   "outputs": [],
   "source": [
    "#Remove sample which not have sii\n",
    "train_df = train_df.dropna(subset=['sii'])"
   ]
  },
  {
   "cell_type": "code",
   "execution_count": 7,
   "id": "fd14a6ce",
   "metadata": {
    "execution": {
     "iopub.execute_input": "2024-12-02T01:53:28.569638Z",
     "iopub.status.busy": "2024-12-02T01:53:28.569222Z",
     "iopub.status.idle": "2024-12-02T01:53:28.624752Z",
     "shell.execute_reply": "2024-12-02T01:53:28.623515Z"
    },
    "papermill": {
     "duration": 0.064262,
     "end_time": "2024-12-02T01:53:28.627282",
     "exception": false,
     "start_time": "2024-12-02T01:53:28.563020",
     "status": "completed"
    },
    "tags": []
   },
   "outputs": [],
   "source": [
    "# Fill missing cell with mean value of its feature\n",
    "train_df = train_df.fillna(train_df.mean())\n",
    "test_df = test_df.fillna(test_df.mean())"
   ]
  },
  {
   "cell_type": "markdown",
   "id": "2df1faab",
   "metadata": {
    "papermill": {
     "duration": 0.00423,
     "end_time": "2024-12-02T01:53:28.636388",
     "exception": false,
     "start_time": "2024-12-02T01:53:28.632158",
     "status": "completed"
    },
    "tags": []
   },
   "source": [
    "## Extract df"
   ]
  },
  {
   "cell_type": "code",
   "execution_count": 8,
   "id": "9757be07",
   "metadata": {
    "execution": {
     "iopub.execute_input": "2024-12-02T01:53:28.647577Z",
     "iopub.status.busy": "2024-12-02T01:53:28.647096Z",
     "iopub.status.idle": "2024-12-02T01:53:28.658582Z",
     "shell.execute_reply": "2024-12-02T01:53:28.657590Z"
    },
    "papermill": {
     "duration": 0.019997,
     "end_time": "2024-12-02T01:53:28.660970",
     "exception": false,
     "start_time": "2024-12-02T01:53:28.640973",
     "status": "completed"
    },
    "tags": []
   },
   "outputs": [],
   "source": [
    "features = [col for col in train_df.columns if col != 'sii']\n",
    "X = train_df[features]\n",
    "y = train_df.sii"
   ]
  },
  {
   "cell_type": "markdown",
   "id": "2c2b86dc",
   "metadata": {
    "papermill": {
     "duration": 0.004259,
     "end_time": "2024-12-02T01:53:28.669833",
     "exception": false,
     "start_time": "2024-12-02T01:53:28.665574",
     "status": "completed"
    },
    "tags": []
   },
   "source": [
    "## Split dataset"
   ]
  },
  {
   "cell_type": "code",
   "execution_count": 9,
   "id": "3cb68d1b",
   "metadata": {
    "execution": {
     "iopub.execute_input": "2024-12-02T01:53:28.681715Z",
     "iopub.status.busy": "2024-12-02T01:53:28.680437Z",
     "iopub.status.idle": "2024-12-02T01:53:28.930681Z",
     "shell.execute_reply": "2024-12-02T01:53:28.929446Z"
    },
    "papermill": {
     "duration": 0.258946,
     "end_time": "2024-12-02T01:53:28.933359",
     "exception": false,
     "start_time": "2024-12-02T01:53:28.674413",
     "status": "completed"
    },
    "tags": []
   },
   "outputs": [],
   "source": [
    "from sklearn.model_selection import train_test_split\n",
    "X_train, X_val, y_train, y_val = train_test_split(X, y, test_size=0.2, random_state=42)"
   ]
  },
  {
   "cell_type": "markdown",
   "id": "0ff643f3",
   "metadata": {
    "papermill": {
     "duration": 0.00419,
     "end_time": "2024-12-02T01:53:28.942170",
     "exception": false,
     "start_time": "2024-12-02T01:53:28.937980",
     "status": "completed"
    },
    "tags": []
   },
   "source": [
    "## Define and train model"
   ]
  },
  {
   "cell_type": "code",
   "execution_count": 10,
   "id": "8defc2d1",
   "metadata": {
    "execution": {
     "iopub.execute_input": "2024-12-02T01:53:28.953526Z",
     "iopub.status.busy": "2024-12-02T01:53:28.952643Z",
     "iopub.status.idle": "2024-12-02T01:53:31.957144Z",
     "shell.execute_reply": "2024-12-02T01:53:31.955993Z"
    },
    "papermill": {
     "duration": 3.01311,
     "end_time": "2024-12-02T01:53:31.959679",
     "exception": false,
     "start_time": "2024-12-02T01:53:28.946569",
     "status": "completed"
    },
    "tags": []
   },
   "outputs": [
    {
     "data": {
      "text/html": [
       "<style>#sk-container-id-1 {color: black;background-color: white;}#sk-container-id-1 pre{padding: 0;}#sk-container-id-1 div.sk-toggleable {background-color: white;}#sk-container-id-1 label.sk-toggleable__label {cursor: pointer;display: block;width: 100%;margin-bottom: 0;padding: 0.3em;box-sizing: border-box;text-align: center;}#sk-container-id-1 label.sk-toggleable__label-arrow:before {content: \"▸\";float: left;margin-right: 0.25em;color: #696969;}#sk-container-id-1 label.sk-toggleable__label-arrow:hover:before {color: black;}#sk-container-id-1 div.sk-estimator:hover label.sk-toggleable__label-arrow:before {color: black;}#sk-container-id-1 div.sk-toggleable__content {max-height: 0;max-width: 0;overflow: hidden;text-align: left;background-color: #f0f8ff;}#sk-container-id-1 div.sk-toggleable__content pre {margin: 0.2em;color: black;border-radius: 0.25em;background-color: #f0f8ff;}#sk-container-id-1 input.sk-toggleable__control:checked~div.sk-toggleable__content {max-height: 200px;max-width: 100%;overflow: auto;}#sk-container-id-1 input.sk-toggleable__control:checked~label.sk-toggleable__label-arrow:before {content: \"▾\";}#sk-container-id-1 div.sk-estimator input.sk-toggleable__control:checked~label.sk-toggleable__label {background-color: #d4ebff;}#sk-container-id-1 div.sk-label input.sk-toggleable__control:checked~label.sk-toggleable__label {background-color: #d4ebff;}#sk-container-id-1 input.sk-hidden--visually {border: 0;clip: rect(1px 1px 1px 1px);clip: rect(1px, 1px, 1px, 1px);height: 1px;margin: -1px;overflow: hidden;padding: 0;position: absolute;width: 1px;}#sk-container-id-1 div.sk-estimator {font-family: monospace;background-color: #f0f8ff;border: 1px dotted black;border-radius: 0.25em;box-sizing: border-box;margin-bottom: 0.5em;}#sk-container-id-1 div.sk-estimator:hover {background-color: #d4ebff;}#sk-container-id-1 div.sk-parallel-item::after {content: \"\";width: 100%;border-bottom: 1px solid gray;flex-grow: 1;}#sk-container-id-1 div.sk-label:hover label.sk-toggleable__label {background-color: #d4ebff;}#sk-container-id-1 div.sk-serial::before {content: \"\";position: absolute;border-left: 1px solid gray;box-sizing: border-box;top: 0;bottom: 0;left: 50%;z-index: 0;}#sk-container-id-1 div.sk-serial {display: flex;flex-direction: column;align-items: center;background-color: white;padding-right: 0.2em;padding-left: 0.2em;position: relative;}#sk-container-id-1 div.sk-item {position: relative;z-index: 1;}#sk-container-id-1 div.sk-parallel {display: flex;align-items: stretch;justify-content: center;background-color: white;position: relative;}#sk-container-id-1 div.sk-item::before, #sk-container-id-1 div.sk-parallel-item::before {content: \"\";position: absolute;border-left: 1px solid gray;box-sizing: border-box;top: 0;bottom: 0;left: 50%;z-index: -1;}#sk-container-id-1 div.sk-parallel-item {display: flex;flex-direction: column;z-index: 1;position: relative;background-color: white;}#sk-container-id-1 div.sk-parallel-item:first-child::after {align-self: flex-end;width: 50%;}#sk-container-id-1 div.sk-parallel-item:last-child::after {align-self: flex-start;width: 50%;}#sk-container-id-1 div.sk-parallel-item:only-child::after {width: 0;}#sk-container-id-1 div.sk-dashed-wrapped {border: 1px dashed gray;margin: 0 0.4em 0.5em 0.4em;box-sizing: border-box;padding-bottom: 0.4em;background-color: white;}#sk-container-id-1 div.sk-label label {font-family: monospace;font-weight: bold;display: inline-block;line-height: 1.2em;}#sk-container-id-1 div.sk-label-container {text-align: center;}#sk-container-id-1 div.sk-container {/* jupyter's `normalize.less` sets `[hidden] { display: none; }` but bootstrap.min.css set `[hidden] { display: none !important; }` so we also need the `!important` here to be able to override the default hidden behavior on the sphinx rendered scikit-learn.org. See: https://github.com/scikit-learn/scikit-learn/issues/21755 */display: inline-block !important;position: relative;}#sk-container-id-1 div.sk-text-repr-fallback {display: none;}</style><div id=\"sk-container-id-1\" class=\"sk-top-container\"><div class=\"sk-text-repr-fallback\"><pre>RandomForestClassifier(class_weight=&#x27;balanced&#x27;, max_depth=10,\n",
       "                       min_samples_leaf=2, min_samples_split=5,\n",
       "                       n_estimators=200, random_state=42)</pre><b>In a Jupyter environment, please rerun this cell to show the HTML representation or trust the notebook. <br />On GitHub, the HTML representation is unable to render, please try loading this page with nbviewer.org.</b></div><div class=\"sk-container\" hidden><div class=\"sk-item\"><div class=\"sk-estimator sk-toggleable\"><input class=\"sk-toggleable__control sk-hidden--visually\" id=\"sk-estimator-id-1\" type=\"checkbox\" checked><label for=\"sk-estimator-id-1\" class=\"sk-toggleable__label sk-toggleable__label-arrow\">RandomForestClassifier</label><div class=\"sk-toggleable__content\"><pre>RandomForestClassifier(class_weight=&#x27;balanced&#x27;, max_depth=10,\n",
       "                       min_samples_leaf=2, min_samples_split=5,\n",
       "                       n_estimators=200, random_state=42)</pre></div></div></div></div></div>"
      ],
      "text/plain": [
       "RandomForestClassifier(class_weight='balanced', max_depth=10,\n",
       "                       min_samples_leaf=2, min_samples_split=5,\n",
       "                       n_estimators=200, random_state=42)"
      ]
     },
     "execution_count": 10,
     "metadata": {},
     "output_type": "execute_result"
    }
   ],
   "source": [
    "from sklearn.ensemble import RandomForestClassifier\n",
    "\n",
    "val_model = RandomForestClassifier(\n",
    "    n_estimators=200,\n",
    "    max_depth=10,\n",
    "    max_features='sqrt',\n",
    "    min_samples_split=5,\n",
    "    min_samples_leaf=2,\n",
    "    class_weight='balanced',\n",
    "    random_state=42,\n",
    ")\n",
    "\n",
    "final_model = RandomForestClassifier(\n",
    "    n_estimators=200,\n",
    "    max_depth=10,\n",
    "    max_features='sqrt',\n",
    "    min_samples_split=5,\n",
    "    min_samples_leaf=2,\n",
    "    class_weight='balanced',\n",
    "    random_state=42,\n",
    ")\n",
    "\n",
    "val_model.fit(X_train, y_train)\n",
    "final_model.fit(X, y)"
   ]
  },
  {
   "cell_type": "markdown",
   "id": "fbd8d1e1",
   "metadata": {
    "papermill": {
     "duration": 0.00482,
     "end_time": "2024-12-02T01:53:31.969931",
     "exception": false,
     "start_time": "2024-12-02T01:53:31.965111",
     "status": "completed"
    },
    "tags": []
   },
   "source": [
    "## Evaluation function"
   ]
  },
  {
   "cell_type": "code",
   "execution_count": 11,
   "id": "41be5278",
   "metadata": {
    "execution": {
     "iopub.execute_input": "2024-12-02T01:53:31.982431Z",
     "iopub.status.busy": "2024-12-02T01:53:31.982025Z",
     "iopub.status.idle": "2024-12-02T01:53:32.025078Z",
     "shell.execute_reply": "2024-12-02T01:53:32.023872Z"
    },
    "papermill": {
     "duration": 0.052466,
     "end_time": "2024-12-02T01:53:32.027830",
     "exception": false,
     "start_time": "2024-12-02T01:53:31.975364",
     "status": "completed"
    },
    "tags": []
   },
   "outputs": [
    {
     "name": "stdout",
     "output_type": "stream",
     "text": [
      "0.4024796628442614\n"
     ]
    }
   ],
   "source": [
    "#Evaluation function\n",
    "def quadratic_weighted_kappa(y_true, y_pred, n_classes):\n",
    "    \"\"\"\n",
    "    Calculate the Quadratic Weighted Kappa (QWK) score.\n",
    "\n",
    "    Parameters:\n",
    "    y_true (list or numpy array): Actual values (ground truth).\n",
    "    y_pred (list or numpy array): Predicted values.\n",
    "    n_classes (int): Number of distinct classes/labels.\n",
    "\n",
    "    Returns:\n",
    "    float: QWK score.\n",
    "    \"\"\"\n",
    "    # Create histogram matrix O (observed matrix)\n",
    "    O = np.zeros((n_classes, n_classes), dtype=np.float64)\n",
    "    for true, pred in zip(y_true, y_pred):\n",
    "        O[true, pred] += 1\n",
    "\n",
    "    # Create weight matrix W\n",
    "    W = np.zeros((n_classes, n_classes), dtype=np.float64)\n",
    "    for i in range(n_classes):\n",
    "        for j in range(n_classes):\n",
    "            W[i, j] = ((i - j) ** 2) / ((n_classes - 1) ** 2)\n",
    "\n",
    "    # Create expected matrix E\n",
    "    actual_hist = np.sum(O, axis=1)\n",
    "    pred_hist = np.sum(O, axis=0)\n",
    "    E = np.outer(actual_hist, pred_hist) / np.sum(O)\n",
    "\n",
    "    # Calculate QWK\n",
    "    numerator = np.sum(W * O)\n",
    "    denominator = np.sum(W * E)\n",
    "    kappa = 1 - (numerator / denominator)\n",
    "\n",
    "    return kappa\n",
    "\n",
    "val_preds = val_model.predict(X_val)\n",
    "val_preds = np.array(val_preds).astype(int)\n",
    "\n",
    "y_val = np.array(y_val).astype(int)\n",
    "\n",
    "print(quadratic_weighted_kappa(y_val, val_preds, 4))"
   ]
  },
  {
   "cell_type": "markdown",
   "id": "0ad155b6",
   "metadata": {
    "papermill": {
     "duration": 0.00456,
     "end_time": "2024-12-02T01:53:32.037469",
     "exception": false,
     "start_time": "2024-12-02T01:53:32.032909",
     "status": "completed"
    },
    "tags": []
   },
   "source": [
    "## Submit"
   ]
  },
  {
   "cell_type": "code",
   "execution_count": 12,
   "id": "1b3edea4",
   "metadata": {
    "execution": {
     "iopub.execute_input": "2024-12-02T01:53:32.048700Z",
     "iopub.status.busy": "2024-12-02T01:53:32.048248Z",
     "iopub.status.idle": "2024-12-02T01:53:32.072155Z",
     "shell.execute_reply": "2024-12-02T01:53:32.070707Z"
    },
    "papermill": {
     "duration": 0.032832,
     "end_time": "2024-12-02T01:53:32.074932",
     "exception": false,
     "start_time": "2024-12-02T01:53:32.042100",
     "status": "completed"
    },
    "tags": []
   },
   "outputs": [],
   "source": [
    "test_preds = final_model.predict(test_df)\n",
    "test_preds = np.array(test_preds).astype(int)"
   ]
  },
  {
   "cell_type": "code",
   "execution_count": 13,
   "id": "66339e84",
   "metadata": {
    "execution": {
     "iopub.execute_input": "2024-12-02T01:53:32.088021Z",
     "iopub.status.busy": "2024-12-02T01:53:32.086802Z",
     "iopub.status.idle": "2024-12-02T01:53:32.097181Z",
     "shell.execute_reply": "2024-12-02T01:53:32.095892Z"
    },
    "papermill": {
     "duration": 0.019846,
     "end_time": "2024-12-02T01:53:32.099961",
     "exception": false,
     "start_time": "2024-12-02T01:53:32.080115",
     "status": "completed"
    },
    "tags": []
   },
   "outputs": [],
   "source": [
    "output = pd.DataFrame({'id': test_data.index,\n",
    "                       'sii': test_preds})\n",
    "output.to_csv('submission.csv', index=False)"
   ]
  },
  {
   "cell_type": "code",
   "execution_count": null,
   "id": "f793e840",
   "metadata": {
    "papermill": {
     "duration": 0.004659,
     "end_time": "2024-12-02T01:53:32.109829",
     "exception": false,
     "start_time": "2024-12-02T01:53:32.105170",
     "status": "completed"
    },
    "tags": []
   },
   "outputs": [],
   "source": []
  }
 ],
 "metadata": {
  "kaggle": {
   "accelerator": "none",
   "dataSources": [
    {
     "databundleVersionId": 9643020,
     "sourceId": 81933,
     "sourceType": "competition"
    }
   ],
   "dockerImageVersionId": 30786,
   "isGpuEnabled": false,
   "isInternetEnabled": false,
   "language": "python",
   "sourceType": "notebook"
  },
  "kernelspec": {
   "display_name": "Python 3",
   "language": "python",
   "name": "python3"
  },
  "language_info": {
   "codemirror_mode": {
    "name": "ipython",
    "version": 3
   },
   "file_extension": ".py",
   "mimetype": "text/x-python",
   "name": "python",
   "nbconvert_exporter": "python",
   "pygments_lexer": "ipython3",
   "version": "3.10.14"
  },
  "papermill": {
   "default_parameters": {},
   "duration": 9.831283,
   "end_time": "2024-12-02T01:53:32.836983",
   "environment_variables": {},
   "exception": null,
   "input_path": "__notebook__.ipynb",
   "output_path": "__notebook__.ipynb",
   "parameters": {},
   "start_time": "2024-12-02T01:53:23.005700",
   "version": "2.6.0"
  }
 },
 "nbformat": 4,
 "nbformat_minor": 5
}
