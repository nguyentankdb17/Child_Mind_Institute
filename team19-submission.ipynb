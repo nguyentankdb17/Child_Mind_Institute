{
 "cells": [
  {
   "cell_type": "markdown",
   "id": "0cc005a7",
   "metadata": {
    "papermill": {
     "duration": 0.0052,
     "end_time": "2024-12-04T16:17:31.853171",
     "exception": false,
     "start_time": "2024-12-04T16:17:31.847971",
     "status": "completed"
    },
    "tags": []
   },
   "source": [
    "Import required libraries"
   ]
  },
  {
   "cell_type": "code",
   "execution_count": 1,
   "id": "314cd22d",
   "metadata": {
    "_cell_guid": "b1076dfc-b9ad-4769-8c92-a6c4dae69d19",
    "_uuid": "8f2839f25d086af736a60e9eeb907d3b93b6e0e5",
    "execution": {
     "iopub.execute_input": "2024-12-04T16:17:31.863949Z",
     "iopub.status.busy": "2024-12-04T16:17:31.863374Z",
     "iopub.status.idle": "2024-12-04T16:17:33.817038Z",
     "shell.execute_reply": "2024-12-04T16:17:33.815875Z"
    },
    "papermill": {
     "duration": 1.961244,
     "end_time": "2024-12-04T16:17:33.819114",
     "exception": false,
     "start_time": "2024-12-04T16:17:31.857870",
     "status": "completed"
    },
    "tags": []
   },
   "outputs": [],
   "source": [
    "import pandas as pd\n",
    "import numpy as np\n",
    "import matplotlib.pyplot as plt\n",
    "from sklearn.preprocessing import StandardScaler"
   ]
  },
  {
   "cell_type": "code",
   "execution_count": 2,
   "id": "533a8164",
   "metadata": {
    "execution": {
     "iopub.execute_input": "2024-12-04T16:17:33.830744Z",
     "iopub.status.busy": "2024-12-04T16:17:33.830366Z",
     "iopub.status.idle": "2024-12-04T16:17:33.834070Z",
     "shell.execute_reply": "2024-12-04T16:17:33.833295Z"
    },
    "papermill": {
     "duration": 0.011546,
     "end_time": "2024-12-04T16:17:33.835518",
     "exception": false,
     "start_time": "2024-12-04T16:17:33.823972",
     "status": "completed"
    },
    "tags": []
   },
   "outputs": [],
   "source": [
    "scaler = StandardScaler()"
   ]
  },
  {
   "cell_type": "markdown",
   "id": "7384e83c",
   "metadata": {
    "papermill": {
     "duration": 0.004417,
     "end_time": "2024-12-04T16:17:33.844443",
     "exception": false,
     "start_time": "2024-12-04T16:17:33.840026",
     "status": "completed"
    },
    "tags": []
   },
   "source": [
    "Read the train CSV file"
   ]
  },
  {
   "cell_type": "code",
   "execution_count": 3,
   "id": "e08cf134",
   "metadata": {
    "execution": {
     "iopub.execute_input": "2024-12-04T16:17:33.854465Z",
     "iopub.status.busy": "2024-12-04T16:17:33.854206Z",
     "iopub.status.idle": "2024-12-04T16:17:33.928388Z",
     "shell.execute_reply": "2024-12-04T16:17:33.927775Z"
    },
    "papermill": {
     "duration": 0.08116,
     "end_time": "2024-12-04T16:17:33.930036",
     "exception": false,
     "start_time": "2024-12-04T16:17:33.848876",
     "status": "completed"
    },
    "tags": []
   },
   "outputs": [],
   "source": [
    "df = pd.read_csv(\"/kaggle/input/child-mind-institute-problematic-internet-use/train.csv\", index_col=\"id\")"
   ]
  },
  {
   "cell_type": "markdown",
   "id": "d14f15e5",
   "metadata": {
    "papermill": {
     "duration": 0.004572,
     "end_time": "2024-12-04T16:17:33.939272",
     "exception": false,
     "start_time": "2024-12-04T16:17:33.934700",
     "status": "completed"
    },
    "tags": []
   },
   "source": [
    "Dataset overview"
   ]
  },
  {
   "cell_type": "markdown",
   "id": "200b6068",
   "metadata": {
    "papermill": {
     "duration": 0.004776,
     "end_time": "2024-12-04T16:17:33.948563",
     "exception": false,
     "start_time": "2024-12-04T16:17:33.943787",
     "status": "completed"
    },
    "tags": []
   },
   "source": [
    "Delete row which not have output"
   ]
  },
  {
   "cell_type": "code",
   "execution_count": 4,
   "id": "125baa5c",
   "metadata": {
    "execution": {
     "iopub.execute_input": "2024-12-04T16:17:33.958876Z",
     "iopub.status.busy": "2024-12-04T16:17:33.958651Z",
     "iopub.status.idle": "2024-12-04T16:17:33.967754Z",
     "shell.execute_reply": "2024-12-04T16:17:33.967191Z"
    },
    "papermill": {
     "duration": 0.016072,
     "end_time": "2024-12-04T16:17:33.969317",
     "exception": false,
     "start_time": "2024-12-04T16:17:33.953245",
     "status": "completed"
    },
    "tags": []
   },
   "outputs": [],
   "source": [
    "df = df.dropna(subset=['sii'])"
   ]
  },
  {
   "cell_type": "markdown",
   "id": "c4fad502",
   "metadata": {
    "papermill": {
     "duration": 0.004414,
     "end_time": "2024-12-04T16:17:33.978276",
     "exception": false,
     "start_time": "2024-12-04T16:17:33.973862",
     "status": "completed"
    },
    "tags": []
   },
   "source": [
    "Remove columns which not appear in test.csv"
   ]
  },
  {
   "cell_type": "markdown",
   "id": "c0105f33",
   "metadata": {
    "papermill": {
     "duration": 0.004395,
     "end_time": "2024-12-04T16:17:33.987281",
     "exception": false,
     "start_time": "2024-12-04T16:17:33.982886",
     "status": "completed"
    },
    "tags": []
   },
   "source": [
    "One-hot encoding process"
   ]
  },
  {
   "cell_type": "code",
   "execution_count": 5,
   "id": "7bfe1da0",
   "metadata": {
    "execution": {
     "iopub.execute_input": "2024-12-04T16:17:33.997609Z",
     "iopub.status.busy": "2024-12-04T16:17:33.997394Z",
     "iopub.status.idle": "2024-12-04T16:17:34.001581Z",
     "shell.execute_reply": "2024-12-04T16:17:34.000785Z"
    },
    "papermill": {
     "duration": 0.011061,
     "end_time": "2024-12-04T16:17:34.003057",
     "exception": false,
     "start_time": "2024-12-04T16:17:33.991996",
     "status": "completed"
    },
    "tags": []
   },
   "outputs": [],
   "source": [
    "#Helper function\n",
    "def encode_and_bind(original_dataframe, feature_to_encode):\n",
    "    dummies = pd.get_dummies(original_dataframe[[feature_to_encode]], dtype=int)\n",
    "    original_dataframe = pd.concat([original_dataframe, dummies], axis=1)\n",
    "    original_dataframe = original_dataframe.drop([feature_to_encode], axis=1)\n",
    "    return original_dataframe"
   ]
  },
  {
   "cell_type": "code",
   "execution_count": 6,
   "id": "f9a6e1fd",
   "metadata": {
    "execution": {
     "iopub.execute_input": "2024-12-04T16:17:34.012835Z",
     "iopub.status.busy": "2024-12-04T16:17:34.012593Z",
     "iopub.status.idle": "2024-12-04T16:17:34.076791Z",
     "shell.execute_reply": "2024-12-04T16:17:34.076203Z"
    },
    "papermill": {
     "duration": 0.070877,
     "end_time": "2024-12-04T16:17:34.078366",
     "exception": false,
     "start_time": "2024-12-04T16:17:34.007489",
     "status": "completed"
    },
    "tags": []
   },
   "outputs": [],
   "source": [
    "# Proceed with encoding\n",
    "categorical_cols = ['Basic_Demos-Enroll_Season', 'CGAS-Season', 'Physical-Season',\n",
    "       'Fitness_Endurance-Season', 'FGC-Season', 'BIA-Season', 'PAQ_A-Season',\n",
    "       'PAQ_C-Season', 'PCIAT-Season', 'SDS-Season', 'PreInt_EduHx-Season']\n",
    "df_encoded = df\n",
    "for col in categorical_cols:\n",
    "    df_encoded = encode_and_bind(df_encoded, col)"
   ]
  },
  {
   "cell_type": "code",
   "execution_count": 7,
   "id": "f2cbcdc8",
   "metadata": {
    "execution": {
     "iopub.execute_input": "2024-12-04T16:17:34.088285Z",
     "iopub.status.busy": "2024-12-04T16:17:34.088065Z",
     "iopub.status.idle": "2024-12-04T16:17:34.118918Z",
     "shell.execute_reply": "2024-12-04T16:17:34.118327Z"
    },
    "papermill": {
     "duration": 0.037527,
     "end_time": "2024-12-04T16:17:34.120510",
     "exception": false,
     "start_time": "2024-12-04T16:17:34.082983",
     "status": "completed"
    },
    "tags": []
   },
   "outputs": [],
   "source": [
    "binary_columns = [col for col in df_encoded.columns if df_encoded[col].nunique() == 2]\n",
    "columns_to_standardize = [col for col in df_encoded.columns if col not in binary_columns and col != 'sii']\n",
    "df_encoded[columns_to_standardize] = scaler.fit_transform(df_encoded[columns_to_standardize])"
   ]
  },
  {
   "cell_type": "markdown",
   "id": "0ee39e3b",
   "metadata": {
    "papermill": {
     "duration": 0.004359,
     "end_time": "2024-12-04T16:17:34.129545",
     "exception": false,
     "start_time": "2024-12-04T16:17:34.125186",
     "status": "completed"
    },
    "tags": []
   },
   "source": [
    "Bring output to end"
   ]
  },
  {
   "cell_type": "code",
   "execution_count": 8,
   "id": "043a27a5",
   "metadata": {
    "execution": {
     "iopub.execute_input": "2024-12-04T16:17:34.139402Z",
     "iopub.status.busy": "2024-12-04T16:17:34.139141Z",
     "iopub.status.idle": "2024-12-04T16:17:34.145768Z",
     "shell.execute_reply": "2024-12-04T16:17:34.144911Z"
    },
    "papermill": {
     "duration": 0.013446,
     "end_time": "2024-12-04T16:17:34.147441",
     "exception": false,
     "start_time": "2024-12-04T16:17:34.133995",
     "status": "completed"
    },
    "tags": []
   },
   "outputs": [],
   "source": [
    "cols = [col for col in df_encoded.columns if col != 'sii'] + ['sii']\n",
    "df_encoded = df_encoded[cols]"
   ]
  },
  {
   "cell_type": "code",
   "execution_count": 9,
   "id": "b13be996",
   "metadata": {
    "execution": {
     "iopub.execute_input": "2024-12-04T16:17:34.157706Z",
     "iopub.status.busy": "2024-12-04T16:17:34.157406Z",
     "iopub.status.idle": "2024-12-04T16:17:34.198228Z",
     "shell.execute_reply": "2024-12-04T16:17:34.197576Z"
    },
    "papermill": {
     "duration": 0.048292,
     "end_time": "2024-12-04T16:17:34.200342",
     "exception": false,
     "start_time": "2024-12-04T16:17:34.152050",
     "status": "completed"
    },
    "tags": []
   },
   "outputs": [],
   "source": [
    "#missing colums\n",
    "missing_columns = ['PCIAT-PCIAT_01', 'PCIAT-PCIAT_02', 'PCIAT-PCIAT_03', 'PCIAT-PCIAT_04',\n",
    "       'PCIAT-PCIAT_05', 'PCIAT-PCIAT_06', 'PCIAT-PCIAT_07', 'PCIAT-PCIAT_08',\n",
    "       'PCIAT-PCIAT_09', 'PCIAT-PCIAT_10', 'PCIAT-PCIAT_11', 'PCIAT-PCIAT_12',\n",
    "       'PCIAT-PCIAT_13', 'PCIAT-PCIAT_14', 'PCIAT-PCIAT_15', 'PCIAT-PCIAT_16',\n",
    "       'PCIAT-PCIAT_17', 'PCIAT-PCIAT_18', 'PCIAT-PCIAT_19', 'PCIAT-PCIAT_20',\n",
    "       'PCIAT-PCIAT_Total']\n",
    "df_processed = df_encoded\n",
    "for column in missing_columns:\n",
    "    df_processed = df_processed.drop(columns=column)"
   ]
  },
  {
   "cell_type": "code",
   "execution_count": 10,
   "id": "20f93376",
   "metadata": {
    "execution": {
     "iopub.execute_input": "2024-12-04T16:17:34.210859Z",
     "iopub.status.busy": "2024-12-04T16:17:34.210607Z",
     "iopub.status.idle": "2024-12-04T16:17:34.216952Z",
     "shell.execute_reply": "2024-12-04T16:17:34.216347Z"
    },
    "papermill": {
     "duration": 0.013362,
     "end_time": "2024-12-04T16:17:34.218582",
     "exception": false,
     "start_time": "2024-12-04T16:17:34.205220",
     "status": "completed"
    },
    "tags": []
   },
   "outputs": [],
   "source": [
    "features = [col for col in df_processed.columns if col != 'sii']\n",
    "X = df_processed[features]\n",
    "y = df_processed.sii"
   ]
  },
  {
   "cell_type": "code",
   "execution_count": 11,
   "id": "4098ee89",
   "metadata": {
    "execution": {
     "iopub.execute_input": "2024-12-04T16:17:34.228830Z",
     "iopub.status.busy": "2024-12-04T16:17:34.228614Z",
     "iopub.status.idle": "2024-12-04T16:17:34.256838Z",
     "shell.execute_reply": "2024-12-04T16:17:34.256258Z"
    },
    "papermill": {
     "duration": 0.035098,
     "end_time": "2024-12-04T16:17:34.258420",
     "exception": false,
     "start_time": "2024-12-04T16:17:34.223322",
     "status": "completed"
    },
    "tags": []
   },
   "outputs": [],
   "source": [
    "#Fill missing cells\n",
    "X = X.fillna(X.mean())"
   ]
  },
  {
   "cell_type": "code",
   "execution_count": 12,
   "id": "30779a47",
   "metadata": {
    "execution": {
     "iopub.execute_input": "2024-12-04T16:17:34.268591Z",
     "iopub.status.busy": "2024-12-04T16:17:34.268348Z",
     "iopub.status.idle": "2024-12-04T16:17:34.276330Z",
     "shell.execute_reply": "2024-12-04T16:17:34.275710Z"
    },
    "papermill": {
     "duration": 0.014649,
     "end_time": "2024-12-04T16:17:34.277824",
     "exception": false,
     "start_time": "2024-12-04T16:17:34.263175",
     "status": "completed"
    },
    "tags": []
   },
   "outputs": [],
   "source": [
    "exclusion_list = [\n",
    "    \"Fitness_Endurance-Season_Winter\", \"BIA-Season_Spring\", \n",
    "    \"PAQ_A-Season_Fall\", \"PAQ_A-Season_Spring\", \"PAQ_A-Season_Winter\", \n",
    "    \"PCIAT-Season_Fall\", \"PCIAT-Season_Spring\", \"PCIAT-Season_Summer\", \n",
    "    \"PCIAT-Season_Winter\"\n",
    "]\n",
    "filtered_features = [feature for feature in features if feature not in exclusion_list]\n",
    "X = X[filtered_features]"
   ]
  },
  {
   "cell_type": "code",
   "execution_count": 13,
   "id": "ca48303a",
   "metadata": {
    "execution": {
     "iopub.execute_input": "2024-12-04T16:17:34.287973Z",
     "iopub.status.busy": "2024-12-04T16:17:34.287725Z",
     "iopub.status.idle": "2024-12-04T16:17:34.459473Z",
     "shell.execute_reply": "2024-12-04T16:17:34.458733Z"
    },
    "papermill": {
     "duration": 0.179131,
     "end_time": "2024-12-04T16:17:34.461554",
     "exception": false,
     "start_time": "2024-12-04T16:17:34.282423",
     "status": "completed"
    },
    "tags": []
   },
   "outputs": [],
   "source": [
    "from sklearn.model_selection import train_test_split\n",
    "X_train, X_val, y_train, y_val = train_test_split(X, y, test_size=0.2, random_state=42)"
   ]
  },
  {
   "cell_type": "code",
   "execution_count": 14,
   "id": "fc3d7a1a",
   "metadata": {
    "execution": {
     "iopub.execute_input": "2024-12-04T16:17:34.472762Z",
     "iopub.status.busy": "2024-12-04T16:17:34.472442Z",
     "iopub.status.idle": "2024-12-04T16:17:35.384484Z",
     "shell.execute_reply": "2024-12-04T16:17:35.383727Z"
    },
    "papermill": {
     "duration": 0.920291,
     "end_time": "2024-12-04T16:17:35.387289",
     "exception": false,
     "start_time": "2024-12-04T16:17:34.466998",
     "status": "completed"
    },
    "tags": []
   },
   "outputs": [
    {
     "name": "stderr",
     "output_type": "stream",
     "text": [
      "/opt/conda/lib/python3.10/site-packages/xgboost/core.py:160: UserWarning: [16:17:34] WARNING: /workspace/src/learner.cc:742: \n",
      "Parameters: { \"scale_pos_weight\" } are not used.\n",
      "\n",
      "  warnings.warn(smsg, UserWarning)\n"
     ]
    },
    {
     "data": {
      "text/html": [
       "<style>#sk-container-id-1 {color: black;background-color: white;}#sk-container-id-1 pre{padding: 0;}#sk-container-id-1 div.sk-toggleable {background-color: white;}#sk-container-id-1 label.sk-toggleable__label {cursor: pointer;display: block;width: 100%;margin-bottom: 0;padding: 0.3em;box-sizing: border-box;text-align: center;}#sk-container-id-1 label.sk-toggleable__label-arrow:before {content: \"▸\";float: left;margin-right: 0.25em;color: #696969;}#sk-container-id-1 label.sk-toggleable__label-arrow:hover:before {color: black;}#sk-container-id-1 div.sk-estimator:hover label.sk-toggleable__label-arrow:before {color: black;}#sk-container-id-1 div.sk-toggleable__content {max-height: 0;max-width: 0;overflow: hidden;text-align: left;background-color: #f0f8ff;}#sk-container-id-1 div.sk-toggleable__content pre {margin: 0.2em;color: black;border-radius: 0.25em;background-color: #f0f8ff;}#sk-container-id-1 input.sk-toggleable__control:checked~div.sk-toggleable__content {max-height: 200px;max-width: 100%;overflow: auto;}#sk-container-id-1 input.sk-toggleable__control:checked~label.sk-toggleable__label-arrow:before {content: \"▾\";}#sk-container-id-1 div.sk-estimator input.sk-toggleable__control:checked~label.sk-toggleable__label {background-color: #d4ebff;}#sk-container-id-1 div.sk-label input.sk-toggleable__control:checked~label.sk-toggleable__label {background-color: #d4ebff;}#sk-container-id-1 input.sk-hidden--visually {border: 0;clip: rect(1px 1px 1px 1px);clip: rect(1px, 1px, 1px, 1px);height: 1px;margin: -1px;overflow: hidden;padding: 0;position: absolute;width: 1px;}#sk-container-id-1 div.sk-estimator {font-family: monospace;background-color: #f0f8ff;border: 1px dotted black;border-radius: 0.25em;box-sizing: border-box;margin-bottom: 0.5em;}#sk-container-id-1 div.sk-estimator:hover {background-color: #d4ebff;}#sk-container-id-1 div.sk-parallel-item::after {content: \"\";width: 100%;border-bottom: 1px solid gray;flex-grow: 1;}#sk-container-id-1 div.sk-label:hover label.sk-toggleable__label {background-color: #d4ebff;}#sk-container-id-1 div.sk-serial::before {content: \"\";position: absolute;border-left: 1px solid gray;box-sizing: border-box;top: 0;bottom: 0;left: 50%;z-index: 0;}#sk-container-id-1 div.sk-serial {display: flex;flex-direction: column;align-items: center;background-color: white;padding-right: 0.2em;padding-left: 0.2em;position: relative;}#sk-container-id-1 div.sk-item {position: relative;z-index: 1;}#sk-container-id-1 div.sk-parallel {display: flex;align-items: stretch;justify-content: center;background-color: white;position: relative;}#sk-container-id-1 div.sk-item::before, #sk-container-id-1 div.sk-parallel-item::before {content: \"\";position: absolute;border-left: 1px solid gray;box-sizing: border-box;top: 0;bottom: 0;left: 50%;z-index: -1;}#sk-container-id-1 div.sk-parallel-item {display: flex;flex-direction: column;z-index: 1;position: relative;background-color: white;}#sk-container-id-1 div.sk-parallel-item:first-child::after {align-self: flex-end;width: 50%;}#sk-container-id-1 div.sk-parallel-item:last-child::after {align-self: flex-start;width: 50%;}#sk-container-id-1 div.sk-parallel-item:only-child::after {width: 0;}#sk-container-id-1 div.sk-dashed-wrapped {border: 1px dashed gray;margin: 0 0.4em 0.5em 0.4em;box-sizing: border-box;padding-bottom: 0.4em;background-color: white;}#sk-container-id-1 div.sk-label label {font-family: monospace;font-weight: bold;display: inline-block;line-height: 1.2em;}#sk-container-id-1 div.sk-label-container {text-align: center;}#sk-container-id-1 div.sk-container {/* jupyter's `normalize.less` sets `[hidden] { display: none; }` but bootstrap.min.css set `[hidden] { display: none !important; }` so we also need the `!important` here to be able to override the default hidden behavior on the sphinx rendered scikit-learn.org. See: https://github.com/scikit-learn/scikit-learn/issues/21755 */display: inline-block !important;position: relative;}#sk-container-id-1 div.sk-text-repr-fallback {display: none;}</style><div id=\"sk-container-id-1\" class=\"sk-top-container\"><div class=\"sk-text-repr-fallback\"><pre>XGBClassifier(base_score=None, booster=None, callbacks=None,\n",
       "              colsample_bylevel=None, colsample_bynode=None, colsample_bytree=1,\n",
       "              device=None, early_stopping_rounds=None, enable_categorical=False,\n",
       "              eval_metric=None, feature_types=None, gamma=None,\n",
       "              grow_policy=None, importance_type=None,\n",
       "              interaction_constraints=None, learning_rate=0.06, max_bin=None,\n",
       "              max_cat_threshold=None, max_cat_to_onehot=None,\n",
       "              max_delta_step=None, max_depth=5, max_leaves=None,\n",
       "              min_child_weight=5, missing=nan, monotone_constraints=None,\n",
       "              multi_strategy=None, n_estimators=100, n_jobs=None,\n",
       "              num_parallel_tree=None, objective=&#x27;multi:softprob&#x27;, ...)</pre><b>In a Jupyter environment, please rerun this cell to show the HTML representation or trust the notebook. <br />On GitHub, the HTML representation is unable to render, please try loading this page with nbviewer.org.</b></div><div class=\"sk-container\" hidden><div class=\"sk-item\"><div class=\"sk-estimator sk-toggleable\"><input class=\"sk-toggleable__control sk-hidden--visually\" id=\"sk-estimator-id-1\" type=\"checkbox\" checked><label for=\"sk-estimator-id-1\" class=\"sk-toggleable__label sk-toggleable__label-arrow\">XGBClassifier</label><div class=\"sk-toggleable__content\"><pre>XGBClassifier(base_score=None, booster=None, callbacks=None,\n",
       "              colsample_bylevel=None, colsample_bynode=None, colsample_bytree=1,\n",
       "              device=None, early_stopping_rounds=None, enable_categorical=False,\n",
       "              eval_metric=None, feature_types=None, gamma=None,\n",
       "              grow_policy=None, importance_type=None,\n",
       "              interaction_constraints=None, learning_rate=0.06, max_bin=None,\n",
       "              max_cat_threshold=None, max_cat_to_onehot=None,\n",
       "              max_delta_step=None, max_depth=5, max_leaves=None,\n",
       "              min_child_weight=5, missing=nan, monotone_constraints=None,\n",
       "              multi_strategy=None, n_estimators=100, n_jobs=None,\n",
       "              num_parallel_tree=None, objective=&#x27;multi:softprob&#x27;, ...)</pre></div></div></div></div></div>"
      ],
      "text/plain": [
       "XGBClassifier(base_score=None, booster=None, callbacks=None,\n",
       "              colsample_bylevel=None, colsample_bynode=None, colsample_bytree=1,\n",
       "              device=None, early_stopping_rounds=None, enable_categorical=False,\n",
       "              eval_metric=None, feature_types=None, gamma=None,\n",
       "              grow_policy=None, importance_type=None,\n",
       "              interaction_constraints=None, learning_rate=0.06, max_bin=None,\n",
       "              max_cat_threshold=None, max_cat_to_onehot=None,\n",
       "              max_delta_step=None, max_depth=5, max_leaves=None,\n",
       "              min_child_weight=5, missing=nan, monotone_constraints=None,\n",
       "              multi_strategy=None, n_estimators=100, n_jobs=None,\n",
       "              num_parallel_tree=None, objective='multi:softprob', ...)"
      ]
     },
     "execution_count": 14,
     "metadata": {},
     "output_type": "execute_result"
    }
   ],
   "source": [
    "from xgboost import XGBClassifier\n",
    "\n",
    "xgb_model = XGBClassifier(\n",
    "    n_estimators=100,         # Số lượng cây\n",
    "    max_depth=5,             # Độ sâu tối đa của cây\n",
    "    learning_rate=0.06,        # Tốc độ học\n",
    "    colsample_bytree=1,     # Tỷ lệ cột lấy mẫu khi xây dựng mỗi cây\n",
    "    subsample=0.6,            # Tỷ lệ lấy mẫu hàng\n",
    "    min_child_weight=5,       # Số mẫu tối thiểu để chia nút lá\n",
    "    reg_lambda=1,             # Điều chỉnh độ phạt L2 (tương tự Ridge Regression)\n",
    "    reg_alpha=0,              # Điều chỉnh độ phạt L1 (tương tự Lasso Regression)\n",
    "    scale_pos_weight=1,       # Điều chỉnh trọng số lớp (tương tự `class_weight` trong RF)\n",
    "    random_state=42,          # Đảm bảo kết quả có thể tái lập\n",
    "    use_label_encoder=False   # Tắt mã hóa nhãn trong phiên bản mới của XGBoost\n",
    ")\n",
    "\n",
    "# Huấn luyện mô hình\n",
    "xgb_model.fit(X, y)"
   ]
  },
  {
   "cell_type": "markdown",
   "id": "69c467d9",
   "metadata": {
    "papermill": {
     "duration": 0.005399,
     "end_time": "2024-12-04T16:17:35.398372",
     "exception": false,
     "start_time": "2024-12-04T16:17:35.392973",
     "status": "completed"
    },
    "tags": []
   },
   "source": [
    "### Evaluation function"
   ]
  },
  {
   "cell_type": "code",
   "execution_count": 15,
   "id": "e51d0a54",
   "metadata": {
    "execution": {
     "iopub.execute_input": "2024-12-04T16:17:35.410320Z",
     "iopub.status.busy": "2024-12-04T16:17:35.409739Z",
     "iopub.status.idle": "2024-12-04T16:17:35.432501Z",
     "shell.execute_reply": "2024-12-04T16:17:35.430627Z"
    },
    "papermill": {
     "duration": 0.030531,
     "end_time": "2024-12-04T16:17:35.434619",
     "exception": false,
     "start_time": "2024-12-04T16:17:35.404088",
     "status": "completed"
    },
    "tags": []
   },
   "outputs": [
    {
     "name": "stdout",
     "output_type": "stream",
     "text": [
      "0.6752103865154035\n"
     ]
    }
   ],
   "source": [
    "#Evaluation function\n",
    "def quadratic_weighted_kappa(y_true, y_pred, n_classes):\n",
    "    \"\"\"\n",
    "    Calculate the Quadratic Weighted Kappa (QWK) score.\n",
    "\n",
    "    Parameters:\n",
    "    y_true (list or numpy array): Actual values (ground truth).\n",
    "    y_pred (list or numpy array): Predicted values.\n",
    "    n_classes (int): Number of distinct classes/labels.\n",
    "\n",
    "    Returns:\n",
    "    float: QWK score.\n",
    "    \"\"\"\n",
    "    # Create histogram matrix O (observed matrix)\n",
    "    O = np.zeros((n_classes, n_classes), dtype=np.float64)\n",
    "    for true, pred in zip(y_true, y_pred):\n",
    "        O[true, pred] += 1\n",
    "\n",
    "    # Create weight matrix W\n",
    "    W = np.zeros((n_classes, n_classes), dtype=np.float64)\n",
    "    for i in range(n_classes):\n",
    "        for j in range(n_classes):\n",
    "            W[i, j] = ((i - j) ** 2) / ((n_classes - 1) ** 2)\n",
    "\n",
    "    # Create expected matrix E\n",
    "    actual_hist = np.sum(O, axis=1)\n",
    "    pred_hist = np.sum(O, axis=0)\n",
    "    E = np.outer(actual_hist, pred_hist) / np.sum(O)\n",
    "\n",
    "    # Calculate QWK\n",
    "    numerator = np.sum(W * O)\n",
    "    denominator = np.sum(W * E)\n",
    "    kappa = 1 - (numerator / denominator)\n",
    "\n",
    "    return kappa\n",
    "\n",
    "val_preds = xgb_model.predict(X_val)\n",
    "val_preds = np.array(val_preds).astype(int)\n",
    "\n",
    "y_val = np.array(y_val).astype(int)\n",
    "\n",
    "print(quadratic_weighted_kappa(y_val, val_preds, 4))"
   ]
  },
  {
   "cell_type": "markdown",
   "id": "3c1d114a",
   "metadata": {
    "papermill": {
     "duration": 0.005285,
     "end_time": "2024-12-04T16:17:35.446712",
     "exception": false,
     "start_time": "2024-12-04T16:17:35.441427",
     "status": "completed"
    },
    "tags": []
   },
   "source": [
    "### Handle test data"
   ]
  },
  {
   "cell_type": "code",
   "execution_count": 16,
   "id": "cac66226",
   "metadata": {
    "execution": {
     "iopub.execute_input": "2024-12-04T16:17:35.457381Z",
     "iopub.status.busy": "2024-12-04T16:17:35.457104Z",
     "iopub.status.idle": "2024-12-04T16:17:35.466591Z",
     "shell.execute_reply": "2024-12-04T16:17:35.466015Z"
    },
    "papermill": {
     "duration": 0.016606,
     "end_time": "2024-12-04T16:17:35.468124",
     "exception": false,
     "start_time": "2024-12-04T16:17:35.451518",
     "status": "completed"
    },
    "tags": []
   },
   "outputs": [],
   "source": [
    "test_data = pd.read_csv('/kaggle/input/child-mind-institute-problematic-internet-use/test.csv')"
   ]
  },
  {
   "cell_type": "code",
   "execution_count": 17,
   "id": "60f35aae",
   "metadata": {
    "execution": {
     "iopub.execute_input": "2024-12-04T16:17:35.479195Z",
     "iopub.status.busy": "2024-12-04T16:17:35.478503Z",
     "iopub.status.idle": "2024-12-04T16:17:35.505839Z",
     "shell.execute_reply": "2024-12-04T16:17:35.505060Z"
    },
    "papermill": {
     "duration": 0.034489,
     "end_time": "2024-12-04T16:17:35.507427",
     "exception": false,
     "start_time": "2024-12-04T16:17:35.472938",
     "status": "completed"
    },
    "tags": []
   },
   "outputs": [],
   "source": [
    "test_categorical_cols = ['Basic_Demos-Enroll_Season', 'CGAS-Season', 'Physical-Season',\n",
    "       'Fitness_Endurance-Season', 'FGC-Season', 'BIA-Season', 'PAQ_A-Season',\n",
    "       'PAQ_C-Season','SDS-Season', 'PreInt_EduHx-Season']\n",
    "for col in test_categorical_cols:\n",
    "    test_data = encode_and_bind(test_data, col)"
   ]
  },
  {
   "cell_type": "code",
   "execution_count": 18,
   "id": "0d6c2b7f",
   "metadata": {
    "execution": {
     "iopub.execute_input": "2024-12-04T16:17:35.518184Z",
     "iopub.status.busy": "2024-12-04T16:17:35.517955Z",
     "iopub.status.idle": "2024-12-04T16:17:35.537056Z",
     "shell.execute_reply": "2024-12-04T16:17:35.536474Z"
    },
    "papermill": {
     "duration": 0.026384,
     "end_time": "2024-12-04T16:17:35.538608",
     "exception": false,
     "start_time": "2024-12-04T16:17:35.512224",
     "status": "completed"
    },
    "tags": []
   },
   "outputs": [],
   "source": [
    "binary_columns = [col for col in test_data.columns if test_data[col].nunique() == 2]\n",
    "columns_to_standardize = [col for col in test_data.columns if col not in binary_columns and col != 'sii' and col != 'id']\n",
    "test_data[columns_to_standardize] = scaler.fit_transform(test_data[columns_to_standardize])"
   ]
  },
  {
   "cell_type": "code",
   "execution_count": 19,
   "id": "6ad6ebd7",
   "metadata": {
    "execution": {
     "iopub.execute_input": "2024-12-04T16:17:35.549910Z",
     "iopub.status.busy": "2024-12-04T16:17:35.549447Z",
     "iopub.status.idle": "2024-12-04T16:17:35.580210Z",
     "shell.execute_reply": "2024-12-04T16:17:35.579287Z"
    },
    "papermill": {
     "duration": 0.038575,
     "end_time": "2024-12-04T16:17:35.582233",
     "exception": false,
     "start_time": "2024-12-04T16:17:35.543658",
     "status": "completed"
    },
    "tags": []
   },
   "outputs": [],
   "source": [
    "test_X = test_data[filtered_features]\n",
    "\n",
    "test_X = test_X.fillna(test_X.mean())"
   ]
  },
  {
   "cell_type": "code",
   "execution_count": 20,
   "id": "63bad01c",
   "metadata": {
    "execution": {
     "iopub.execute_input": "2024-12-04T16:17:35.599130Z",
     "iopub.status.busy": "2024-12-04T16:17:35.598622Z",
     "iopub.status.idle": "2024-12-04T16:17:35.625029Z",
     "shell.execute_reply": "2024-12-04T16:17:35.624240Z"
    },
    "papermill": {
     "duration": 0.035252,
     "end_time": "2024-12-04T16:17:35.626721",
     "exception": false,
     "start_time": "2024-12-04T16:17:35.591469",
     "status": "completed"
    },
    "tags": []
   },
   "outputs": [
    {
     "data": {
      "text/html": [
       "<div>\n",
       "<style scoped>\n",
       "    .dataframe tbody tr th:only-of-type {\n",
       "        vertical-align: middle;\n",
       "    }\n",
       "\n",
       "    .dataframe tbody tr th {\n",
       "        vertical-align: top;\n",
       "    }\n",
       "\n",
       "    .dataframe thead th {\n",
       "        text-align: right;\n",
       "    }\n",
       "</style>\n",
       "<table border=\"1\" class=\"dataframe\">\n",
       "  <thead>\n",
       "    <tr style=\"text-align: right;\">\n",
       "      <th></th>\n",
       "      <th>Basic_Demos-Age</th>\n",
       "      <th>Basic_Demos-Sex</th>\n",
       "      <th>CGAS-CGAS_Score</th>\n",
       "      <th>Physical-BMI</th>\n",
       "      <th>Physical-Height</th>\n",
       "      <th>Physical-Weight</th>\n",
       "      <th>Physical-Waist_Circumference</th>\n",
       "      <th>Physical-Diastolic_BP</th>\n",
       "      <th>Physical-HeartRate</th>\n",
       "      <th>Physical-Systolic_BP</th>\n",
       "      <th>...</th>\n",
       "      <th>PAQ_C-Season_Summer</th>\n",
       "      <th>PAQ_C-Season_Winter</th>\n",
       "      <th>SDS-Season_Fall</th>\n",
       "      <th>SDS-Season_Spring</th>\n",
       "      <th>SDS-Season_Summer</th>\n",
       "      <th>SDS-Season_Winter</th>\n",
       "      <th>PreInt_EduHx-Season_Fall</th>\n",
       "      <th>PreInt_EduHx-Season_Spring</th>\n",
       "      <th>PreInt_EduHx-Season_Summer</th>\n",
       "      <th>PreInt_EduHx-Season_Winter</th>\n",
       "    </tr>\n",
       "  </thead>\n",
       "  <tbody>\n",
       "    <tr>\n",
       "      <th>0</th>\n",
       "      <td>-1.583385</td>\n",
       "      <td>0</td>\n",
       "      <td>-1.090305e+00</td>\n",
       "      <td>-6.249326e-01</td>\n",
       "      <td>-1.043709e+00</td>\n",
       "      <td>-1.250822e+00</td>\n",
       "      <td>4.662937e-16</td>\n",
       "      <td>-6.055762e-17</td>\n",
       "      <td>-5.366078e-16</td>\n",
       "      <td>-8.074349e-17</td>\n",
       "      <td>...</td>\n",
       "      <td>0</td>\n",
       "      <td>0</td>\n",
       "      <td>0</td>\n",
       "      <td>0</td>\n",
       "      <td>0</td>\n",
       "      <td>0</td>\n",
       "      <td>1</td>\n",
       "      <td>0</td>\n",
       "      <td>0</td>\n",
       "      <td>0</td>\n",
       "    </tr>\n",
       "    <tr>\n",
       "      <th>1</th>\n",
       "      <td>-0.481900</td>\n",
       "      <td>0</td>\n",
       "      <td>-4.857226e-17</td>\n",
       "      <td>-1.225173e+00</td>\n",
       "      <td>-7.438588e-01</td>\n",
       "      <td>-1.462229e+00</td>\n",
       "      <td>-1.214286e+00</td>\n",
       "      <td>2.484271e-01</td>\n",
       "      <td>-1.308011e+00</td>\n",
       "      <td>2.197332e-01</td>\n",
       "      <td>...</td>\n",
       "      <td>0</td>\n",
       "      <td>0</td>\n",
       "      <td>1</td>\n",
       "      <td>0</td>\n",
       "      <td>0</td>\n",
       "      <td>0</td>\n",
       "      <td>0</td>\n",
       "      <td>0</td>\n",
       "      <td>1</td>\n",
       "      <td>0</td>\n",
       "    </tr>\n",
       "    <tr>\n",
       "      <th>2</th>\n",
       "      <td>-0.206529</td>\n",
       "      <td>1</td>\n",
       "      <td>8.058773e-01</td>\n",
       "      <td>-6.732225e-01</td>\n",
       "      <td>5.305039e-01</td>\n",
       "      <td>-1.585549e-01</td>\n",
       "      <td>4.662937e-16</td>\n",
       "      <td>-3.092664e-01</td>\n",
       "      <td>1.382755e+00</td>\n",
       "      <td>-2.690610e-02</td>\n",
       "      <td>...</td>\n",
       "      <td>1</td>\n",
       "      <td>0</td>\n",
       "      <td>1</td>\n",
       "      <td>0</td>\n",
       "      <td>0</td>\n",
       "      <td>0</td>\n",
       "      <td>0</td>\n",
       "      <td>0</td>\n",
       "      <td>1</td>\n",
       "      <td>0</td>\n",
       "    </tr>\n",
       "    <tr>\n",
       "      <th>3</th>\n",
       "      <td>-0.481900</td>\n",
       "      <td>0</td>\n",
       "      <td>8.058773e-01</td>\n",
       "      <td>-3.260439e-01</td>\n",
       "      <td>4.555414e-01</td>\n",
       "      <td>1.057033e-01</td>\n",
       "      <td>4.662937e-16</td>\n",
       "      <td>-5.881131e-01</td>\n",
       "      <td>1.719101e+00</td>\n",
       "      <td>-2.690610e-02</td>\n",
       "      <td>...</td>\n",
       "      <td>0</td>\n",
       "      <td>1</td>\n",
       "      <td>0</td>\n",
       "      <td>0</td>\n",
       "      <td>1</td>\n",
       "      <td>0</td>\n",
       "      <td>0</td>\n",
       "      <td>0</td>\n",
       "      <td>0</td>\n",
       "      <td>1</td>\n",
       "    </tr>\n",
       "    <tr>\n",
       "      <th>4</th>\n",
       "      <td>1.996442</td>\n",
       "      <td>1</td>\n",
       "      <td>-4.857226e-17</td>\n",
       "      <td>7.173749e-16</td>\n",
       "      <td>2.732857e-16</td>\n",
       "      <td>-8.540177e-16</td>\n",
       "      <td>4.662937e-16</td>\n",
       "      <td>-6.055762e-17</td>\n",
       "      <td>-5.366078e-16</td>\n",
       "      <td>-8.074349e-17</td>\n",
       "      <td>...</td>\n",
       "      <td>0</td>\n",
       "      <td>0</td>\n",
       "      <td>0</td>\n",
       "      <td>0</td>\n",
       "      <td>0</td>\n",
       "      <td>0</td>\n",
       "      <td>0</td>\n",
       "      <td>0</td>\n",
       "      <td>0</td>\n",
       "      <td>0</td>\n",
       "    </tr>\n",
       "  </tbody>\n",
       "</table>\n",
       "<p>5 rows × 83 columns</p>\n",
       "</div>"
      ],
      "text/plain": [
       "   Basic_Demos-Age  Basic_Demos-Sex  CGAS-CGAS_Score  Physical-BMI  \\\n",
       "0        -1.583385                0    -1.090305e+00 -6.249326e-01   \n",
       "1        -0.481900                0    -4.857226e-17 -1.225173e+00   \n",
       "2        -0.206529                1     8.058773e-01 -6.732225e-01   \n",
       "3        -0.481900                0     8.058773e-01 -3.260439e-01   \n",
       "4         1.996442                1    -4.857226e-17  7.173749e-16   \n",
       "\n",
       "   Physical-Height  Physical-Weight  Physical-Waist_Circumference  \\\n",
       "0    -1.043709e+00    -1.250822e+00                  4.662937e-16   \n",
       "1    -7.438588e-01    -1.462229e+00                 -1.214286e+00   \n",
       "2     5.305039e-01    -1.585549e-01                  4.662937e-16   \n",
       "3     4.555414e-01     1.057033e-01                  4.662937e-16   \n",
       "4     2.732857e-16    -8.540177e-16                  4.662937e-16   \n",
       "\n",
       "   Physical-Diastolic_BP  Physical-HeartRate  Physical-Systolic_BP  ...  \\\n",
       "0          -6.055762e-17       -5.366078e-16         -8.074349e-17  ...   \n",
       "1           2.484271e-01       -1.308011e+00          2.197332e-01  ...   \n",
       "2          -3.092664e-01        1.382755e+00         -2.690610e-02  ...   \n",
       "3          -5.881131e-01        1.719101e+00         -2.690610e-02  ...   \n",
       "4          -6.055762e-17       -5.366078e-16         -8.074349e-17  ...   \n",
       "\n",
       "   PAQ_C-Season_Summer  PAQ_C-Season_Winter  SDS-Season_Fall  \\\n",
       "0                    0                    0                0   \n",
       "1                    0                    0                1   \n",
       "2                    1                    0                1   \n",
       "3                    0                    1                0   \n",
       "4                    0                    0                0   \n",
       "\n",
       "   SDS-Season_Spring  SDS-Season_Summer  SDS-Season_Winter  \\\n",
       "0                  0                  0                  0   \n",
       "1                  0                  0                  0   \n",
       "2                  0                  0                  0   \n",
       "3                  0                  1                  0   \n",
       "4                  0                  0                  0   \n",
       "\n",
       "   PreInt_EduHx-Season_Fall  PreInt_EduHx-Season_Spring  \\\n",
       "0                         1                           0   \n",
       "1                         0                           0   \n",
       "2                         0                           0   \n",
       "3                         0                           0   \n",
       "4                         0                           0   \n",
       "\n",
       "   PreInt_EduHx-Season_Summer  PreInt_EduHx-Season_Winter  \n",
       "0                           0                           0  \n",
       "1                           1                           0  \n",
       "2                           1                           0  \n",
       "3                           0                           1  \n",
       "4                           0                           0  \n",
       "\n",
       "[5 rows x 83 columns]"
      ]
     },
     "execution_count": 20,
     "metadata": {},
     "output_type": "execute_result"
    }
   ],
   "source": [
    "test_X.head()"
   ]
  },
  {
   "cell_type": "code",
   "execution_count": 21,
   "id": "04219b05",
   "metadata": {
    "execution": {
     "iopub.execute_input": "2024-12-04T16:17:35.638811Z",
     "iopub.status.busy": "2024-12-04T16:17:35.638586Z",
     "iopub.status.idle": "2024-12-04T16:17:35.651180Z",
     "shell.execute_reply": "2024-12-04T16:17:35.650572Z"
    },
    "papermill": {
     "duration": 0.020815,
     "end_time": "2024-12-04T16:17:35.653092",
     "exception": false,
     "start_time": "2024-12-04T16:17:35.632277",
     "status": "completed"
    },
    "tags": []
   },
   "outputs": [],
   "source": [
    "test_preds = xgb_model.predict(test_X)\n",
    "test_preds = np.array(test_preds).astype(int)"
   ]
  },
  {
   "cell_type": "markdown",
   "id": "4c905c3a",
   "metadata": {
    "papermill": {
     "duration": 0.006093,
     "end_time": "2024-12-04T16:17:35.666239",
     "exception": false,
     "start_time": "2024-12-04T16:17:35.660146",
     "status": "completed"
    },
    "tags": []
   },
   "source": [
    "### Submit"
   ]
  },
  {
   "cell_type": "code",
   "execution_count": 22,
   "id": "73eefad7",
   "metadata": {
    "execution": {
     "iopub.execute_input": "2024-12-04T16:17:35.678003Z",
     "iopub.status.busy": "2024-12-04T16:17:35.677740Z",
     "iopub.status.idle": "2024-12-04T16:17:35.684576Z",
     "shell.execute_reply": "2024-12-04T16:17:35.683779Z"
    },
    "papermill": {
     "duration": 0.014802,
     "end_time": "2024-12-04T16:17:35.686169",
     "exception": false,
     "start_time": "2024-12-04T16:17:35.671367",
     "status": "completed"
    },
    "tags": []
   },
   "outputs": [],
   "source": [
    "# Run the code to save predictions in the format used for competition scoring\n",
    "\n",
    "output = pd.DataFrame({'id': test_data.id,\n",
    "                       'sii': test_preds})\n",
    "output.to_csv('submission.csv', index=False)"
   ]
  },
  {
   "cell_type": "code",
   "execution_count": null,
   "id": "45d9e314",
   "metadata": {
    "papermill": {
     "duration": 0.010614,
     "end_time": "2024-12-04T16:17:35.702066",
     "exception": false,
     "start_time": "2024-12-04T16:17:35.691452",
     "status": "completed"
    },
    "tags": []
   },
   "outputs": [],
   "source": []
  }
 ],
 "metadata": {
  "kaggle": {
   "accelerator": "nvidiaTeslaT4",
   "dataSources": [
    {
     "databundleVersionId": 9643020,
     "sourceId": 81933,
     "sourceType": "competition"
    }
   ],
   "dockerImageVersionId": 30786,
   "isGpuEnabled": true,
   "isInternetEnabled": false,
   "language": "python",
   "sourceType": "notebook"
  },
  "kernelspec": {
   "display_name": "Python 3",
   "language": "python",
   "name": "python3"
  },
  "language_info": {
   "codemirror_mode": {
    "name": "ipython",
    "version": 3
   },
   "file_extension": ".py",
   "mimetype": "text/x-python",
   "name": "python",
   "nbconvert_exporter": "python",
   "pygments_lexer": "ipython3",
   "version": "3.10.14"
  },
  "papermill": {
   "default_parameters": {},
   "duration": 7.004022,
   "end_time": "2024-12-04T16:17:36.228264",
   "environment_variables": {},
   "exception": null,
   "input_path": "__notebook__.ipynb",
   "output_path": "__notebook__.ipynb",
   "parameters": {},
   "start_time": "2024-12-04T16:17:29.224242",
   "version": "2.6.0"
  }
 },
 "nbformat": 4,
 "nbformat_minor": 5
}
