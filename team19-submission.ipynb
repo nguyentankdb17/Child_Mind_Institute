{
 "cells": [
  {
   "cell_type": "markdown",
   "id": "51756ffc",
   "metadata": {
    "papermill": {
     "duration": 0.004269,
     "end_time": "2024-11-30T19:01:09.834334",
     "exception": false,
     "start_time": "2024-11-30T19:01:09.830065",
     "status": "completed"
    },
    "tags": []
   },
   "source": [
    "Import required libraries"
   ]
  },
  {
   "cell_type": "code",
   "execution_count": 1,
   "id": "9215bd2d",
   "metadata": {
    "_cell_guid": "b1076dfc-b9ad-4769-8c92-a6c4dae69d19",
    "_uuid": "8f2839f25d086af736a60e9eeb907d3b93b6e0e5",
    "execution": {
     "iopub.execute_input": "2024-11-30T19:01:09.842613Z",
     "iopub.status.busy": "2024-11-30T19:01:09.842335Z",
     "iopub.status.idle": "2024-11-30T19:01:10.683603Z",
     "shell.execute_reply": "2024-11-30T19:01:10.682827Z"
    },
    "papermill": {
     "duration": 0.84762,
     "end_time": "2024-11-30T19:01:10.685733",
     "exception": false,
     "start_time": "2024-11-30T19:01:09.838113",
     "status": "completed"
    },
    "tags": []
   },
   "outputs": [],
   "source": [
    "import pandas as pd\n",
    "import numpy as np\n",
    "import matplotlib.pyplot as plt"
   ]
  },
  {
   "cell_type": "markdown",
   "id": "55400cf2",
   "metadata": {
    "papermill": {
     "duration": 0.003615,
     "end_time": "2024-11-30T19:01:10.693587",
     "exception": false,
     "start_time": "2024-11-30T19:01:10.689972",
     "status": "completed"
    },
    "tags": []
   },
   "source": [
    "Read the train CSV file"
   ]
  },
  {
   "cell_type": "code",
   "execution_count": 2,
   "id": "1aaf1cbf",
   "metadata": {
    "execution": {
     "iopub.execute_input": "2024-11-30T19:01:10.703877Z",
     "iopub.status.busy": "2024-11-30T19:01:10.703425Z",
     "iopub.status.idle": "2024-11-30T19:01:10.774454Z",
     "shell.execute_reply": "2024-11-30T19:01:10.773531Z"
    },
    "papermill": {
     "duration": 0.078729,
     "end_time": "2024-11-30T19:01:10.776293",
     "exception": false,
     "start_time": "2024-11-30T19:01:10.697564",
     "status": "completed"
    },
    "tags": []
   },
   "outputs": [],
   "source": [
    "df = pd.read_csv(\"/kaggle/input/child-mind-institute-problematic-internet-use/train.csv\", index_col=\"id\")"
   ]
  },
  {
   "cell_type": "markdown",
   "id": "de9659ad",
   "metadata": {
    "papermill": {
     "duration": 0.003504,
     "end_time": "2024-11-30T19:01:10.783504",
     "exception": false,
     "start_time": "2024-11-30T19:01:10.780000",
     "status": "completed"
    },
    "tags": []
   },
   "source": [
    "Dataset overview"
   ]
  },
  {
   "cell_type": "markdown",
   "id": "bd814562",
   "metadata": {
    "papermill": {
     "duration": 0.003388,
     "end_time": "2024-11-30T19:01:10.790415",
     "exception": false,
     "start_time": "2024-11-30T19:01:10.787027",
     "status": "completed"
    },
    "tags": []
   },
   "source": [
    "Delete row which not have output"
   ]
  },
  {
   "cell_type": "code",
   "execution_count": 3,
   "id": "b0423eca",
   "metadata": {
    "execution": {
     "iopub.execute_input": "2024-11-30T19:01:10.798868Z",
     "iopub.status.busy": "2024-11-30T19:01:10.798598Z",
     "iopub.status.idle": "2024-11-30T19:01:10.808704Z",
     "shell.execute_reply": "2024-11-30T19:01:10.807738Z"
    },
    "papermill": {
     "duration": 0.016222,
     "end_time": "2024-11-30T19:01:10.810316",
     "exception": false,
     "start_time": "2024-11-30T19:01:10.794094",
     "status": "completed"
    },
    "tags": []
   },
   "outputs": [],
   "source": [
    "df = df.dropna(subset=['sii'])"
   ]
  },
  {
   "cell_type": "markdown",
   "id": "c48cb2f9",
   "metadata": {
    "papermill": {
     "duration": 0.00344,
     "end_time": "2024-11-30T19:01:10.817223",
     "exception": false,
     "start_time": "2024-11-30T19:01:10.813783",
     "status": "completed"
    },
    "tags": []
   },
   "source": [
    "One-hot encoding process"
   ]
  },
  {
   "cell_type": "code",
   "execution_count": 4,
   "id": "ffe63b7f",
   "metadata": {
    "execution": {
     "iopub.execute_input": "2024-11-30T19:01:10.825224Z",
     "iopub.status.busy": "2024-11-30T19:01:10.824980Z",
     "iopub.status.idle": "2024-11-30T19:01:10.829007Z",
     "shell.execute_reply": "2024-11-30T19:01:10.828354Z"
    },
    "papermill": {
     "duration": 0.009769,
     "end_time": "2024-11-30T19:01:10.830639",
     "exception": false,
     "start_time": "2024-11-30T19:01:10.820870",
     "status": "completed"
    },
    "tags": []
   },
   "outputs": [],
   "source": [
    "#Helper function\n",
    "def encode_and_bind(original_dataframe, feature_to_encode):\n",
    "    dummies = pd.get_dummies(original_dataframe[[feature_to_encode]], dtype=int)\n",
    "    original_dataframe = pd.concat([original_dataframe, dummies], axis=1)\n",
    "    original_dataframe = original_dataframe.drop([feature_to_encode], axis=1)\n",
    "    return original_dataframe"
   ]
  },
  {
   "cell_type": "code",
   "execution_count": 5,
   "id": "a39b5716",
   "metadata": {
    "execution": {
     "iopub.execute_input": "2024-11-30T19:01:10.838874Z",
     "iopub.status.busy": "2024-11-30T19:01:10.838402Z",
     "iopub.status.idle": "2024-11-30T19:01:10.895415Z",
     "shell.execute_reply": "2024-11-30T19:01:10.894695Z"
    },
    "papermill": {
     "duration": 0.063251,
     "end_time": "2024-11-30T19:01:10.897443",
     "exception": false,
     "start_time": "2024-11-30T19:01:10.834192",
     "status": "completed"
    },
    "tags": []
   },
   "outputs": [],
   "source": [
    "# Proceed with encoding\n",
    "categorical_cols = ['Basic_Demos-Enroll_Season', 'CGAS-Season', 'Physical-Season',\n",
    "       'Fitness_Endurance-Season', 'FGC-Season', 'BIA-Season', 'PAQ_A-Season',\n",
    "       'PAQ_C-Season', 'PCIAT-Season', 'SDS-Season', 'PreInt_EduHx-Season']\n",
    "df_encoded = df\n",
    "for col in categorical_cols:\n",
    "    df_encoded = encode_and_bind(df_encoded, col)"
   ]
  },
  {
   "cell_type": "markdown",
   "id": "00de04fa",
   "metadata": {
    "papermill": {
     "duration": 0.003935,
     "end_time": "2024-11-30T19:01:10.905640",
     "exception": false,
     "start_time": "2024-11-30T19:01:10.901705",
     "status": "completed"
    },
    "tags": []
   },
   "source": [
    "Bring output to end"
   ]
  },
  {
   "cell_type": "code",
   "execution_count": 6,
   "id": "b0f75a69",
   "metadata": {
    "execution": {
     "iopub.execute_input": "2024-11-30T19:01:10.915324Z",
     "iopub.status.busy": "2024-11-30T19:01:10.915063Z",
     "iopub.status.idle": "2024-11-30T19:01:10.920631Z",
     "shell.execute_reply": "2024-11-30T19:01:10.919681Z"
    },
    "papermill": {
     "duration": 0.012659,
     "end_time": "2024-11-30T19:01:10.922691",
     "exception": false,
     "start_time": "2024-11-30T19:01:10.910032",
     "status": "completed"
    },
    "tags": []
   },
   "outputs": [],
   "source": [
    "cols = [col for col in df_encoded.columns if col != 'sii'] + ['sii']\n",
    "df_encoded = df_encoded[cols]"
   ]
  },
  {
   "cell_type": "markdown",
   "id": "a5437578",
   "metadata": {
    "papermill": {
     "duration": 0.004307,
     "end_time": "2024-11-30T19:01:10.931940",
     "exception": false,
     "start_time": "2024-11-30T19:01:10.927633",
     "status": "completed"
    },
    "tags": []
   },
   "source": [
    "Remove columns which not appear in test.csv"
   ]
  },
  {
   "cell_type": "code",
   "execution_count": 7,
   "id": "3f09b691",
   "metadata": {
    "execution": {
     "iopub.execute_input": "2024-11-30T19:01:10.941172Z",
     "iopub.status.busy": "2024-11-30T19:01:10.940899Z",
     "iopub.status.idle": "2024-11-30T19:01:10.962834Z",
     "shell.execute_reply": "2024-11-30T19:01:10.961809Z"
    },
    "papermill": {
     "duration": 0.028859,
     "end_time": "2024-11-30T19:01:10.964887",
     "exception": false,
     "start_time": "2024-11-30T19:01:10.936028",
     "status": "completed"
    },
    "tags": []
   },
   "outputs": [],
   "source": [
    "#missing colums\n",
    "missing_columns = ['PCIAT-PCIAT_01', 'PCIAT-PCIAT_02', 'PCIAT-PCIAT_03', 'PCIAT-PCIAT_04',\n",
    "       'PCIAT-PCIAT_05', 'PCIAT-PCIAT_06', 'PCIAT-PCIAT_07', 'PCIAT-PCIAT_08',\n",
    "       'PCIAT-PCIAT_09', 'PCIAT-PCIAT_10', 'PCIAT-PCIAT_11', 'PCIAT-PCIAT_12',\n",
    "       'PCIAT-PCIAT_13', 'PCIAT-PCIAT_14', 'PCIAT-PCIAT_15', 'PCIAT-PCIAT_16',\n",
    "       'PCIAT-PCIAT_17', 'PCIAT-PCIAT_18', 'PCIAT-PCIAT_19', 'PCIAT-PCIAT_20',\n",
    "       'PCIAT-PCIAT_Total']\n",
    "df_processed = df_encoded\n",
    "for column in missing_columns:\n",
    "    df_processed = df_processed.drop(columns=column)"
   ]
  },
  {
   "cell_type": "code",
   "execution_count": 8,
   "id": "dc168d33",
   "metadata": {
    "execution": {
     "iopub.execute_input": "2024-11-30T19:01:10.974056Z",
     "iopub.status.busy": "2024-11-30T19:01:10.973786Z",
     "iopub.status.idle": "2024-11-30T19:01:10.978952Z",
     "shell.execute_reply": "2024-11-30T19:01:10.978214Z"
    },
    "papermill": {
     "duration": 0.011662,
     "end_time": "2024-11-30T19:01:10.980730",
     "exception": false,
     "start_time": "2024-11-30T19:01:10.969068",
     "status": "completed"
    },
    "tags": []
   },
   "outputs": [],
   "source": [
    "features = [col for col in df_processed.columns if col != 'sii']\n",
    "X = df_processed[features]\n",
    "y = df_processed.sii"
   ]
  },
  {
   "cell_type": "code",
   "execution_count": 9,
   "id": "e678e59b",
   "metadata": {
    "execution": {
     "iopub.execute_input": "2024-11-30T19:01:10.989848Z",
     "iopub.status.busy": "2024-11-30T19:01:10.989573Z",
     "iopub.status.idle": "2024-11-30T19:01:11.020645Z",
     "shell.execute_reply": "2024-11-30T19:01:11.019924Z"
    },
    "papermill": {
     "duration": 0.037824,
     "end_time": "2024-11-30T19:01:11.022641",
     "exception": false,
     "start_time": "2024-11-30T19:01:10.984817",
     "status": "completed"
    },
    "tags": []
   },
   "outputs": [],
   "source": [
    "#Fill missing cells\n",
    "X = X.fillna(X.mean())"
   ]
  },
  {
   "cell_type": "code",
   "execution_count": 10,
   "id": "5c11d747",
   "metadata": {
    "execution": {
     "iopub.execute_input": "2024-11-30T19:01:11.032820Z",
     "iopub.status.busy": "2024-11-30T19:01:11.032525Z",
     "iopub.status.idle": "2024-11-30T19:01:11.041121Z",
     "shell.execute_reply": "2024-11-30T19:01:11.040111Z"
    },
    "papermill": {
     "duration": 0.015771,
     "end_time": "2024-11-30T19:01:11.043012",
     "exception": false,
     "start_time": "2024-11-30T19:01:11.027241",
     "status": "completed"
    },
    "tags": []
   },
   "outputs": [],
   "source": [
    "exclusion_list = [\n",
    "    \"Fitness_Endurance-Season_Winter\", \"BIA-Season_Spring\", \n",
    "    \"PAQ_A-Season_Fall\", \"PAQ_A-Season_Spring\", \"PAQ_A-Season_Winter\", \n",
    "    \"PCIAT-Season_Fall\", \"PCIAT-Season_Spring\", \"PCIAT-Season_Summer\", \n",
    "    \"PCIAT-Season_Winter\"\n",
    "]\n",
    "filtered_features = [feature for feature in features if feature not in exclusion_list]\n",
    "X = X[filtered_features]"
   ]
  },
  {
   "cell_type": "code",
   "execution_count": 11,
   "id": "dddd9b89",
   "metadata": {
    "execution": {
     "iopub.execute_input": "2024-11-30T19:01:11.052146Z",
     "iopub.status.busy": "2024-11-30T19:01:11.051879Z",
     "iopub.status.idle": "2024-11-30T19:01:13.445154Z",
     "shell.execute_reply": "2024-11-30T19:01:13.444147Z"
    },
    "papermill": {
     "duration": 2.402936,
     "end_time": "2024-11-30T19:01:13.450012",
     "exception": false,
     "start_time": "2024-11-30T19:01:11.047076",
     "status": "completed"
    },
    "tags": []
   },
   "outputs": [
    {
     "data": {
      "text/html": [
       "<style>#sk-container-id-1 {color: black;background-color: white;}#sk-container-id-1 pre{padding: 0;}#sk-container-id-1 div.sk-toggleable {background-color: white;}#sk-container-id-1 label.sk-toggleable__label {cursor: pointer;display: block;width: 100%;margin-bottom: 0;padding: 0.3em;box-sizing: border-box;text-align: center;}#sk-container-id-1 label.sk-toggleable__label-arrow:before {content: \"▸\";float: left;margin-right: 0.25em;color: #696969;}#sk-container-id-1 label.sk-toggleable__label-arrow:hover:before {color: black;}#sk-container-id-1 div.sk-estimator:hover label.sk-toggleable__label-arrow:before {color: black;}#sk-container-id-1 div.sk-toggleable__content {max-height: 0;max-width: 0;overflow: hidden;text-align: left;background-color: #f0f8ff;}#sk-container-id-1 div.sk-toggleable__content pre {margin: 0.2em;color: black;border-radius: 0.25em;background-color: #f0f8ff;}#sk-container-id-1 input.sk-toggleable__control:checked~div.sk-toggleable__content {max-height: 200px;max-width: 100%;overflow: auto;}#sk-container-id-1 input.sk-toggleable__control:checked~label.sk-toggleable__label-arrow:before {content: \"▾\";}#sk-container-id-1 div.sk-estimator input.sk-toggleable__control:checked~label.sk-toggleable__label {background-color: #d4ebff;}#sk-container-id-1 div.sk-label input.sk-toggleable__control:checked~label.sk-toggleable__label {background-color: #d4ebff;}#sk-container-id-1 input.sk-hidden--visually {border: 0;clip: rect(1px 1px 1px 1px);clip: rect(1px, 1px, 1px, 1px);height: 1px;margin: -1px;overflow: hidden;padding: 0;position: absolute;width: 1px;}#sk-container-id-1 div.sk-estimator {font-family: monospace;background-color: #f0f8ff;border: 1px dotted black;border-radius: 0.25em;box-sizing: border-box;margin-bottom: 0.5em;}#sk-container-id-1 div.sk-estimator:hover {background-color: #d4ebff;}#sk-container-id-1 div.sk-parallel-item::after {content: \"\";width: 100%;border-bottom: 1px solid gray;flex-grow: 1;}#sk-container-id-1 div.sk-label:hover label.sk-toggleable__label {background-color: #d4ebff;}#sk-container-id-1 div.sk-serial::before {content: \"\";position: absolute;border-left: 1px solid gray;box-sizing: border-box;top: 0;bottom: 0;left: 50%;z-index: 0;}#sk-container-id-1 div.sk-serial {display: flex;flex-direction: column;align-items: center;background-color: white;padding-right: 0.2em;padding-left: 0.2em;position: relative;}#sk-container-id-1 div.sk-item {position: relative;z-index: 1;}#sk-container-id-1 div.sk-parallel {display: flex;align-items: stretch;justify-content: center;background-color: white;position: relative;}#sk-container-id-1 div.sk-item::before, #sk-container-id-1 div.sk-parallel-item::before {content: \"\";position: absolute;border-left: 1px solid gray;box-sizing: border-box;top: 0;bottom: 0;left: 50%;z-index: -1;}#sk-container-id-1 div.sk-parallel-item {display: flex;flex-direction: column;z-index: 1;position: relative;background-color: white;}#sk-container-id-1 div.sk-parallel-item:first-child::after {align-self: flex-end;width: 50%;}#sk-container-id-1 div.sk-parallel-item:last-child::after {align-self: flex-start;width: 50%;}#sk-container-id-1 div.sk-parallel-item:only-child::after {width: 0;}#sk-container-id-1 div.sk-dashed-wrapped {border: 1px dashed gray;margin: 0 0.4em 0.5em 0.4em;box-sizing: border-box;padding-bottom: 0.4em;background-color: white;}#sk-container-id-1 div.sk-label label {font-family: monospace;font-weight: bold;display: inline-block;line-height: 1.2em;}#sk-container-id-1 div.sk-label-container {text-align: center;}#sk-container-id-1 div.sk-container {/* jupyter's `normalize.less` sets `[hidden] { display: none; }` but bootstrap.min.css set `[hidden] { display: none !important; }` so we also need the `!important` here to be able to override the default hidden behavior on the sphinx rendered scikit-learn.org. See: https://github.com/scikit-learn/scikit-learn/issues/21755 */display: inline-block !important;position: relative;}#sk-container-id-1 div.sk-text-repr-fallback {display: none;}</style><div id=\"sk-container-id-1\" class=\"sk-top-container\"><div class=\"sk-text-repr-fallback\"><pre>RandomForestClassifier(random_state=42)</pre><b>In a Jupyter environment, please rerun this cell to show the HTML representation or trust the notebook. <br />On GitHub, the HTML representation is unable to render, please try loading this page with nbviewer.org.</b></div><div class=\"sk-container\" hidden><div class=\"sk-item\"><div class=\"sk-estimator sk-toggleable\"><input class=\"sk-toggleable__control sk-hidden--visually\" id=\"sk-estimator-id-1\" type=\"checkbox\" checked><label for=\"sk-estimator-id-1\" class=\"sk-toggleable__label sk-toggleable__label-arrow\">RandomForestClassifier</label><div class=\"sk-toggleable__content\"><pre>RandomForestClassifier(random_state=42)</pre></div></div></div></div></div>"
      ],
      "text/plain": [
       "RandomForestClassifier(random_state=42)"
      ]
     },
     "execution_count": 11,
     "metadata": {},
     "output_type": "execute_result"
    }
   ],
   "source": [
    "from sklearn.ensemble import RandomForestClassifier\n",
    "\n",
    "# Define a random forest model\n",
    "rf_model = RandomForestClassifier(n_estimators=100, random_state=42)\n",
    "rf_model.fit(X, y)"
   ]
  },
  {
   "cell_type": "code",
   "execution_count": 12,
   "id": "053453d3",
   "metadata": {
    "execution": {
     "iopub.execute_input": "2024-11-30T19:01:13.465776Z",
     "iopub.status.busy": "2024-11-30T19:01:13.465051Z",
     "iopub.status.idle": "2024-11-30T19:01:13.478250Z",
     "shell.execute_reply": "2024-11-30T19:01:13.477618Z"
    },
    "papermill": {
     "duration": 0.021842,
     "end_time": "2024-11-30T19:01:13.479836",
     "exception": false,
     "start_time": "2024-11-30T19:01:13.457994",
     "status": "completed"
    },
    "tags": []
   },
   "outputs": [],
   "source": [
    "test_data = pd.read_csv('/kaggle/input/child-mind-institute-problematic-internet-use/test.csv')"
   ]
  },
  {
   "cell_type": "code",
   "execution_count": 13,
   "id": "6e5ca673",
   "metadata": {
    "execution": {
     "iopub.execute_input": "2024-11-30T19:01:13.488385Z",
     "iopub.status.busy": "2024-11-30T19:01:13.488131Z",
     "iopub.status.idle": "2024-11-30T19:01:13.516508Z",
     "shell.execute_reply": "2024-11-30T19:01:13.515939Z"
    },
    "papermill": {
     "duration": 0.034631,
     "end_time": "2024-11-30T19:01:13.518320",
     "exception": false,
     "start_time": "2024-11-30T19:01:13.483689",
     "status": "completed"
    },
    "tags": []
   },
   "outputs": [],
   "source": [
    "test_categorical_cols = ['Basic_Demos-Enroll_Season', 'CGAS-Season', 'Physical-Season',\n",
    "       'Fitness_Endurance-Season', 'FGC-Season', 'BIA-Season', 'PAQ_A-Season',\n",
    "       'PAQ_C-Season','SDS-Season', 'PreInt_EduHx-Season']\n",
    "for col in test_categorical_cols:\n",
    "    test_data = encode_and_bind(test_data, col)"
   ]
  },
  {
   "cell_type": "code",
   "execution_count": 14,
   "id": "af4f3eb8",
   "metadata": {
    "execution": {
     "iopub.execute_input": "2024-11-30T19:01:13.532224Z",
     "iopub.status.busy": "2024-11-30T19:01:13.531893Z",
     "iopub.status.idle": "2024-11-30T19:01:13.564077Z",
     "shell.execute_reply": "2024-11-30T19:01:13.563417Z"
    },
    "papermill": {
     "duration": 0.040595,
     "end_time": "2024-11-30T19:01:13.565690",
     "exception": false,
     "start_time": "2024-11-30T19:01:13.525095",
     "status": "completed"
    },
    "tags": []
   },
   "outputs": [],
   "source": [
    "test_X = test_data[filtered_features]\n",
    "\n",
    "test_X = test_X.fillna(test_X.mean())"
   ]
  },
  {
   "cell_type": "code",
   "execution_count": 15,
   "id": "09e3ca6b",
   "metadata": {
    "execution": {
     "iopub.execute_input": "2024-11-30T19:01:13.575026Z",
     "iopub.status.busy": "2024-11-30T19:01:13.574388Z",
     "iopub.status.idle": "2024-11-30T19:01:13.588460Z",
     "shell.execute_reply": "2024-11-30T19:01:13.587635Z"
    },
    "papermill": {
     "duration": 0.020453,
     "end_time": "2024-11-30T19:01:13.590195",
     "exception": false,
     "start_time": "2024-11-30T19:01:13.569742",
     "status": "completed"
    },
    "tags": []
   },
   "outputs": [],
   "source": [
    "test_preds = rf_model.predict(test_X)"
   ]
  },
  {
   "cell_type": "code",
   "execution_count": 16,
   "id": "edb96888",
   "metadata": {
    "execution": {
     "iopub.execute_input": "2024-11-30T19:01:13.599184Z",
     "iopub.status.busy": "2024-11-30T19:01:13.598929Z",
     "iopub.status.idle": "2024-11-30T19:01:13.605723Z",
     "shell.execute_reply": "2024-11-30T19:01:13.604942Z"
    },
    "papermill": {
     "duration": 0.013546,
     "end_time": "2024-11-30T19:01:13.607655",
     "exception": false,
     "start_time": "2024-11-30T19:01:13.594109",
     "status": "completed"
    },
    "tags": []
   },
   "outputs": [],
   "source": [
    "# Run the code to save predictions in the format used for competition scoring\n",
    "\n",
    "output = pd.DataFrame({'id': test_data.index,\n",
    "                       'sii': test_preds})\n",
    "output.to_csv('submission.csv', index=False)"
   ]
  },
  {
   "cell_type": "code",
   "execution_count": null,
   "id": "fa01317f",
   "metadata": {
    "papermill": {
     "duration": 0.004072,
     "end_time": "2024-11-30T19:01:13.615447",
     "exception": false,
     "start_time": "2024-11-30T19:01:13.611375",
     "status": "completed"
    },
    "tags": []
   },
   "outputs": [],
   "source": []
  }
 ],
 "metadata": {
  "kaggle": {
   "accelerator": "nvidiaTeslaT4",
   "dataSources": [
    {
     "databundleVersionId": 9643020,
     "sourceId": 81933,
     "sourceType": "competition"
    }
   ],
   "dockerImageVersionId": 30786,
   "isGpuEnabled": true,
   "isInternetEnabled": false,
   "language": "python",
   "sourceType": "notebook"
  },
  "kernelspec": {
   "display_name": "Python 3",
   "language": "python",
   "name": "python3"
  },
  "language_info": {
   "codemirror_mode": {
    "name": "ipython",
    "version": 3
   },
   "file_extension": ".py",
   "mimetype": "text/x-python",
   "name": "python",
   "nbconvert_exporter": "python",
   "pygments_lexer": "ipython3",
   "version": "3.10.14"
  },
  "papermill": {
   "default_parameters": {},
   "duration": 6.911303,
   "end_time": "2024-11-30T19:01:14.040002",
   "environment_variables": {},
   "exception": null,
   "input_path": "__notebook__.ipynb",
   "output_path": "__notebook__.ipynb",
   "parameters": {},
   "start_time": "2024-11-30T19:01:07.128699",
   "version": "2.6.0"
  }
 },
 "nbformat": 4,
 "nbformat_minor": 5
}
